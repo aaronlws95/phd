{
 "cells": [
  {
   "cell_type": "markdown",
   "metadata": {},
   "source": [
    "# Import"
   ]
  },
  {
   "cell_type": "code",
   "execution_count": null,
   "metadata": {},
   "outputs": [],
   "source": [
    "import sys\n",
    "import os\n",
    "import numpy as np\n",
    "import cv2\n",
    "from matplotlib import pyplot as plt\n",
    "import scipy.ndimage.interpolation  as interplt\n",
    "from mpl_toolkits.mplot3d import Axes3D\n",
    "from PIL import Image\n",
    "\n",
    "ROOT_DIR = os.path.abspath(\"../src\")\n",
    "sys.path.append(ROOT_DIR)\n",
    "\n",
    "import utils\n",
    "import constants"
   ]
  },
  {
   "cell_type": "markdown",
   "metadata": {},
   "source": [
    "# Init"
   ]
  },
  {
   "cell_type": "code",
   "execution_count": null,
   "metadata": {},
   "outputs": [],
   "source": [
    "imgs0=[]\n",
    "imgs1=[]\n",
    "imgs2=[]\n",
    "uvd_gt=[]\n",
    "uvd_centre=[]\n",
    "uvd_norm_gt=[]\n",
    "new_file_names=[]\n",
    "xyz_gt=[]"
   ]
  },
  {
   "cell_type": "markdown",
   "metadata": {},
   "source": [
    "# Load Data"
   ]
  },
  {
   "cell_type": "code",
   "execution_count": null,
   "metadata": {},
   "outputs": [],
   "source": [
    "train_pairs, test_pairs = utils.get_data_list('depth')"
   ]
  },
  {
   "cell_type": "code",
   "execution_count": null,
   "metadata": {},
   "outputs": [],
   "source": [
    "file_name = [i for i,j in train_pairs]\n",
    "xyz_gt = [j for i,j in train_pairs]\n",
    "xyz_gt = np.reshape(xyz_gt,(-1, 21, 3))\n",
    "uvd_gt = utils.xyz2uvd_batch_depth(xyz_gt)\n",
    "print(xyz_gt.shape)\n",
    "# new_xyz_gt = utils.uvd2xyz_batch_depth(uvd_gt)\n",
    "# print(np.allclose(uvd_gt[0], utils.xyz2uvd_depth(np.reshape(xyz_gt[0], (21, 3))))) \n",
    "# print(np.allclose(xyz_gt, new_xyz_gt))"
   ]
  },
  {
   "cell_type": "code",
   "execution_count": null,
   "metadata": {},
   "outputs": [],
   "source": [
    "# for i in range(xyz_gt.shape[0]):\n",
    "i = 0\n",
    "\n",
    "depth = Image.open(file_name[i])\n",
    "depth = np.asarray(depth, dtype='uint16')\n",
    "fig, ax = plt.subplots()\n",
    "ax.imshow(depth)\n",
    "utils.visualize_joints_2d(ax, uvd_gt[i][constants.REORDER], joint_idxs=False)"
   ]
  },
  {
   "cell_type": "markdown",
   "metadata": {},
   "source": [
    "# Process - Get all points within given bounds"
   ]
  },
  {
   "cell_type": "code",
   "execution_count": null,
   "metadata": {},
   "outputs": [],
   "source": [
    "# collect the points within the axis-aligned BBOX of the hand\n",
    "xyz_hand_gt = xyz_gt[i].copy()\n",
    "\n",
    "xyz_hand_gt_bounds = np.array([np.min(xyz_hand_gt[:, 0]), np.max(xyz_hand_gt[:, 0]),\n",
    "                           np.min(xyz_hand_gt[:, 1]), np.max(xyz_hand_gt[:, 1]),\n",
    "                           np.min(xyz_hand_gt[:, 2]), np.max(xyz_hand_gt[:, 2])])\n",
    "print('xyz_hand_gt_bounds=', xyz_hand_gt_bounds)\n",
    "\n",
    "uvd = utils.depth_to_uvd(depth)\n",
    "uvd = uvd.reshape(uvd.shape[0]*uvd.shape[1], 3)\n",
    "all_points = utils.uvd2xyz_depth(uvd)\n",
    "print('all_points.shape=',all_points.shape)\n",
    "\n",
    "all_points[:, 2] = all_points[:, 2] #m to mm\n",
    "\n",
    "all_points_bounds = np.array([np.min(all_points[:, 0]), np.max(all_points[:, 0]),\n",
    "                           np.min(all_points[:, 1]), np.max(all_points[:, 1]),\n",
    "                           np.min(all_points[:, 2]), np.max(all_points[:, 2])])\n",
    "\n",
    "print('all_points_bounds=', all_points_bounds)\n",
    "\n",
    "bound_offset = 20 # how much looser we want to make the bbox\n",
    "mask = np.array([1, 0, 1, 0, 1, 0], dtype=bool)\n",
    "xyz_hand_gt_bounds[mask] -= bound_offset\n",
    "xyz_hand_gt_bounds[~mask] += bound_offset\n",
    "print('loose xyz_hand_gt_bounds=', xyz_hand_gt_bounds)\n",
    "\n",
    "mask_x = (all_points[:, 0] >= xyz_hand_gt_bounds[0]) & (all_points[:, 0] <= xyz_hand_gt_bounds[1]) #x\n",
    "mask_y = (all_points[:, 1] >= xyz_hand_gt_bounds[2]) & (all_points[:, 1] <= xyz_hand_gt_bounds[3]) #y\n",
    "mask_z = (all_points[:, 2] >= xyz_hand_gt_bounds[4]) & (all_points[:, 2] <= xyz_hand_gt_bounds[5]) #z\n",
    "hand_points_xyz = all_points[mask_x & mask_y & mask_z] # points within the bbox\n",
    "print('hand_points_xyz.shape=', hand_points_xyz.shape)"
   ]
  },
  {
   "cell_type": "markdown",
   "metadata": {},
   "source": [
    "# Process - bbox and mean"
   ]
  },
  {
   "cell_type": "code",
   "execution_count": null,
   "metadata": {},
   "outputs": [],
   "source": [
    "center_joint_idx = 3\n",
    "ref_z = 1000\n",
    "bbsize = 260 #124x124 bbox in uvd\n",
    "img_size = 96\n",
    "\n",
    "#create bounding box\n",
    "bbox_xyz = np.array([(bbsize,bbsize,ref_z)])\n",
    "print('bbox_xyz=', bbox_xyz)\n",
    "bbox_uvd = utils.xyz2uvd_depth(bbox_xyz)\n",
    "print(bbox_uvd)\n",
    "bbox_uvd[0,0] = np.ceil(bbox_uvd[0,0] - constants.X0_DEPTH)\n",
    "bbox_uvd[0,1] = np.ceil(bbox_uvd[0,1] - constants.Y0_DEPTH)\n",
    "print('bbox_uvd=', bbox_uvd)\n",
    "\n",
    "#get mean values\n",
    "mean_z = xyz_hand_gt[center_joint_idx, 2]\n",
    "#modify the mean\n",
    "#offset mean and bring to reference\n",
    "hand_points_xyz[:,2] += ref_z - mean_z \n",
    "xyz_hand_gt[:,2] += ref_z - mean_z \n",
    "uvd_hand_gt = utils.xyz2uvd_depth(xyz_hand_gt)\n",
    "mean_u = uvd_hand_gt[center_joint_idx, 0]\n",
    "mean_v = uvd_hand_gt[center_joint_idx, 1]\n",
    "print('mean_u=', mean_u)\n",
    "print('mean_v=', mean_v)\n",
    "print('mean_z=', mean_z)\n",
    "print('new_mean_z=', xyz_hand_gt[center_joint_idx, 2])"
   ]
  },
  {
   "cell_type": "markdown",
   "metadata": {},
   "source": [
    "# Process - Get cropped hand"
   ]
  },
  {
   "cell_type": "code",
   "execution_count": null,
   "metadata": {},
   "outputs": [],
   "source": [
    "hand_points_uvd = utils.xyz2uvd_depth(hand_points_xyz)\n",
    "print('hand_points_uvd.shape', hand_points_uvd.shape)\n",
    "\n",
    "# Place the hand within the bbox\n",
    "\n",
    "# U\n",
    "#offset mean and bring to bbox\n",
    "hand_points_uvd[:,0] = hand_points_uvd[:,0] - mean_u + bbox_uvd[0,0]/2 \n",
    "#all points more than bbox now within the bbox\n",
    "hand_points_uvd[np.where(hand_points_uvd[:,0]>=bbox_uvd[0,0]),0]=bbox_uvd[0,0]-1\n",
    "#remove negative points\n",
    "hand_points_uvd[np.where(hand_points_uvd[:,0]<0),0]=0 \n",
    "save_uvd_hand_gt = uvd_hand_gt.copy()\n",
    "#offset mean and bring to bbox\n",
    "uvd_hand_gt[:,0] = (uvd_hand_gt[:,0] - mean_u + bbox_uvd[0,0]/2 ) / bbox_uvd[0,0] \n",
    "#remove values >1 and <0\n",
    "# uvd_hand_gt[np.where(uvd_hand_gt[:,0]>1),0]=1\n",
    "# uvd_hand_gt[np.where(uvd_hand_gt[:,0]<0),0]=0\n",
    "\n",
    "# V, similarly\n",
    "hand_points_uvd[:,1] = hand_points_uvd[:,1] - mean_v + bbox_uvd[0,1]/2\n",
    "hand_points_uvd[ np.where(hand_points_uvd[:,1]>=bbox_uvd[0,1]),1]=bbox_uvd[0,1]-1\n",
    "hand_points_uvd[ np.where(hand_points_uvd[:,1]<0),1]=0\n",
    "\n",
    "uvd_hand_gt[:,1] =( uvd_hand_gt[:,1] - mean_v+bbox_uvd[0,1]/2 ) / bbox_uvd[0,1]\n",
    "# uvd_hand_gt[ np.where(uvd_hand_gt[:,1]>1),1]=1\n",
    "# uvd_hand_gt[ np.where(uvd_hand_gt[:,1]<0),1]=0\n",
    "\n",
    "# Z\n",
    "hand_points_uvd[:,2] = (hand_points_uvd[:,2] - ref_z + bbsize/2)/bbsize\n",
    "uvd_hand_gt[:,2] = (uvd_hand_gt[:,2] - ref_z + bbsize/2)/bbsize\n",
    "\n",
    "#get new hand\n",
    "new_hand = np.ones((int(bbox_uvd[0,1]),int(bbox_uvd[0,0])),dtype='float32')\n",
    "new_hand[np.asarray(np.floor(hand_points_uvd[:,1]),dtype='int16'),\n",
    "         np.asarray(np.floor(hand_points_uvd[:,0]),dtype='int16')] = hand_points_uvd[:,2]\n",
    "print('new_hand.shape=', new_hand.shape)\n",
    "\n",
    "r0_tmp = interplt.zoom(new_hand, img_size/bbox_uvd[0,0],order=1, mode='nearest',prefilter=True)\n",
    "print(bbox_uvd)\n",
    "print(new_hand.shape)\n",
    "fig, ax = plt.subplots(1, 2)\n",
    "ax[0].imshow(r0_tmp)\n",
    "ax[0].set_title('resized')\n",
    "ax[1].imshow(new_hand)\n",
    "ax[1].set_title('new_hand')"
   ]
  },
  {
   "cell_type": "markdown",
   "metadata": {},
   "source": [
    "# normuvd2xyz"
   ]
  },
  {
   "cell_type": "code",
   "execution_count": null,
   "metadata": {},
   "outputs": [],
   "source": [
    "new_uvd_hand_gt = uvd_hand_gt.copy()\n",
    "\n",
    "# new_uvd_hand_gt[:, 0] = new_uvd_hand_gt[:, 0]*bbox_uvd[0, 0] + mean_u - bbox_uvd[0,0]/2\n",
    "# new_uvd_hand_gt[:, 1] = new_uvd_hand_gt[:, 1]*bbox_uvd[0, 1] + mean_v - bbox_uvd[0,1]/2\n",
    "# new_uvd_hand_gt[:, 2] = new_uvd_hand_gt[:, 2]*bbsize + ref_z - bbsize/2\n",
    "# new_xyz_hand_gt = utils.uvd2xyz_depth(new_uvd_hand_gt)\n",
    "# new_xyz_hand_gt[:,2] = new_xyz_hand_gt[:,2] - ref_z + mean_z \n",
    "\n",
    "new_xyz_hand_gt, _ = utils.normuvd2xyzuvd_depth(new_uvd_hand_gt, [mean_u, mean_v, mean_z])\n",
    "\n",
    "new_uvd_gt = utils.xyz2uvd_depth(new_xyz_hand_gt)\n",
    "print(np.allclose(new_xyz_hand_gt, xyz_gt[0], atol=1e-5))\n",
    "print(np.allclose(new_uvd_gt, uvd_gt[0]))"
   ]
  },
  {
   "cell_type": "code",
   "execution_count": null,
   "metadata": {},
   "outputs": [],
   "source": []
  }
 ],
 "metadata": {
  "kernelspec": {
   "display_name": "Python 3",
   "language": "python",
   "name": "python3"
  },
  "language_info": {
   "codemirror_mode": {
    "name": "ipython",
    "version": 3
   },
   "file_extension": ".py",
   "mimetype": "text/x-python",
   "name": "python",
   "nbconvert_exporter": "python",
   "pygments_lexer": "ipython3",
   "version": "3.6.8"
  }
 },
 "nbformat": 4,
 "nbformat_minor": 2
}
