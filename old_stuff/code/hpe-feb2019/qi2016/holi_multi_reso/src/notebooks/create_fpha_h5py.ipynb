{
 "cells": [
  {
   "cell_type": "code",
   "execution_count": null,
   "metadata": {},
   "outputs": [],
   "source": [
    "import os\n",
    "import sys\n",
    "\n",
    "sys.path.append(os.path.dirname(os.path.abspath('')))\n",
    "import utils.prepare_data as pd"
   ]
  },
  {
   "cell_type": "code",
   "execution_count": null,
   "metadata": {},
   "outputs": [],
   "source": [
    "dataset_dir = '/media/aaron/SHAREDDATA/First_Person_Action_Benchmark'\n",
    "save_dir = '/media/aaron/SHAREDDATA/data'\n",
    "train_pairs, test_pairs = pd.get_fpha_data_list('depth', dataset_dir)"
   ]
  },
  {
   "cell_type": "code",
   "execution_count": null,
   "metadata": {},
   "outputs": [],
   "source": [
    "file_name = [i for i,j in train_pairs]\n",
    "xyz_gt = [j for i,j in train_pairs]\n",
    "pd.write_data_h5py(file_name[:10], xyz_gt[:10], os.path.join(save_dir, 'train_fpha_10.h5'))"
   ]
  },
  {
   "cell_type": "code",
   "execution_count": null,
   "metadata": {},
   "outputs": [],
   "source": [
    "file_name = [i for i,j in test_pairs]\n",
    "xyz_gt = [j for i,j in test_pairs]\n",
    "pd.write_data_h5py(file_name[:10], xyz_gt[:10], os.path.join(save_dir, 'test_fpha_10.h5'))"
   ]
  },
  {
   "cell_type": "code",
   "execution_count": null,
   "metadata": {},
   "outputs": [],
   "source": []
  }
 ],
 "metadata": {
  "kernelspec": {
   "display_name": "Python 3",
   "language": "python",
   "name": "python3"
  },
  "language_info": {
   "codemirror_mode": {
    "name": "ipython",
    "version": 3
   },
   "file_extension": ".py",
   "mimetype": "text/x-python",
   "name": "python",
   "nbconvert_exporter": "python",
   "pygments_lexer": "ipython3",
   "version": "3.6.8"
  }
 },
 "nbformat": 4,
 "nbformat_minor": 2
}
