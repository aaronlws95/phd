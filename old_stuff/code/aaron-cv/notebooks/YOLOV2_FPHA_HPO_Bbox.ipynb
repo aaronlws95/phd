{
 "cells": [
  {
   "cell_type": "code",
   "execution_count": null,
   "metadata": {},
   "outputs": [],
   "source": [
    "import os\n",
    "import sys\n",
    "import torch\n",
    "import cv2\n",
    "import matplotlib.pyplot as plt\n",
    "import numpy as np\n",
    "import torch.nn as nn\n",
    "from PIL import Image\n",
    "from tqdm import tqdm\n",
    "from pathlib import Path\n",
    "from torch.utils.data import DataLoader\n",
    "\n",
    "WORK_DIR = Path(Path.cwd()).parent\n",
    "sys.path.append(str(WORK_DIR))\n",
    "from src.datasets import get_dataset, get_dataloader\n",
    "from src.utils import parse_data_cfg, IMG, FPHA, LMDB, DATA_DIR, YOLO"
   ]
  },
  {
   "cell_type": "code",
   "execution_count": null,
   "metadata": {},
   "outputs": [],
   "source": [
    "cfgname = 'exp1/yolov2_fpha_hpo_bbox_data_mod1_noflip'\n",
    "cfg = parse_data_cfg(WORK_DIR/'data_cfg'/(cfgname + '.cfg'))\n",
    "epoch = 200\n",
    "exp_dir = cfg[\"exp_dir\"]\n",
    "data_split = 'test'\n",
    "split_set = cfg[data_split + '_set']"
   ]
  },
  {
   "cell_type": "markdown",
   "metadata": {},
   "source": [
    "# Visualize Dataloader"
   ]
  },
  {
   "cell_type": "code",
   "execution_count": null,
   "metadata": {},
   "outputs": [],
   "source": [
    "dataset_kwargs = {'split_set': split_set}\n",
    "dataset   = get_dataset(cfg, dataset_kwargs)\n",
    "sampler   = None\n",
    "shuffle   = cfg['shuffle']\n",
    "kwargs = {'batch_size'  :   int(cfg['batch_size']),\n",
    "          'shuffle'     :   shuffle,\n",
    "          'num_workers' :   int(cfg['num_workers']),\n",
    "          'pin_memory'  :   True}\n",
    "data_loader = get_dataloader(dataset, sampler, kwargs)"
   ]
  },
  {
   "cell_type": "code",
   "execution_count": null,
   "metadata": {},
   "outputs": [],
   "source": [
    "idx = 0 \n",
    "for i, (img, bbox_gt, uvd_gt) in enumerate(data_loader):\n",
    "    if i == idx:\n",
    "        batch_size = img.shape[0]\n",
    "        img = img.cpu().numpy()\n",
    "        img = np.swapaxes(img, 2, 3)\n",
    "        img = np.swapaxes(img, 1, 3)\n",
    "        img = IMG.scale_img_255(img)\n",
    "        bbox_gt = bbox_gt.cpu().numpy()\n",
    "        uvd_gt = uvd_gt.cpu().numpy()\n",
    "        uvd_gt = np.squeeze(uvd_gt)\n",
    "        break\n",
    "    i += 1"
   ]
  },
  {
   "cell_type": "code",
   "execution_count": null,
   "metadata": {},
   "outputs": [],
   "source": [
    "fig, ax = plt.subplots(4, 4, figsize=(15, 15))\n",
    "idx = 0\n",
    "for i in range(4):\n",
    "    for j in range(4):\n",
    "        k = np.ravel_multi_index((i, j), (4, 4))\n",
    "        if k >= len(img):\n",
    "            break\n",
    "        cur_img = img[idx]\n",
    "        b = bbox_gt[idx]\n",
    "        u = uvd_gt[idx]        \n",
    "        ax[i, j].imshow(cur_img)\n",
    "        FPHA.draw_bbox(ax[i, j], b, (cur_img.shape[1], cur_img.shape[0]))\n",
    "        u = IMG.scale_points_WH(u, (1,1), (cur_img.shape[0], cur_img.shape[1]))\n",
    "        FPHA.visualize_joints_2d(ax[i, j], u[FPHA.REORDER_IDX], joint_idxs=False)\n",
    "        idx += 1"
   ]
  },
  {
   "cell_type": "markdown",
   "metadata": {},
   "source": [
    "# Evaluation"
   ]
  },
  {
   "cell_type": "code",
   "execution_count": null,
   "metadata": {},
   "outputs": [],
   "source": [
    "keys = LMDB.get_keys(os.path.join(DATA_DIR, split_set + \"_keys_cache.p\"))\n",
    "bbox_gt = LMDB.read_all_lmdb_dataroot(keys, os.path.join(DATA_DIR, split_set + \"_bbox_gt.lmdb\"), \"float32\", 4)\n",
    "pred_file = os.path.join(DATA_DIR, exp_dir, 'predict_{}_{}_bbox.txt'.format(epoch, data_split))\n",
    "bbox_pred = np.loadtxt(pred_file)\n",
    "bbox_pred = np.asarray([bbox[:5] for bbox in bbox_pred]) # take only the first bbox\n",
    "\n",
    "xyz_gt = LMDB.read_all_lmdb_dataroot(keys, os.path.join(DATA_DIR, split_set + '_xyz_gt.lmdb'), 'float32', (21, 3))\n",
    "uvd_gt = FPHA.xyz2uvd_color(xyz_gt)\n",
    "pred_file = os.path.join(DATA_DIR, exp_dir, 'predict_{}_{}_best.txt'.format(epoch, data_split))\n",
    "pred_uvd = np.reshape(np.loadtxt(pred_file), (-1, 21, 3))\n",
    "pred_uvd = IMG.scale_points_WH(pred_uvd, (1, 1), (1920, 1080))\n",
    "pred_uvd[..., 2] *= 1000\n",
    "pred_xyz = FPHA.uvd2xyz_color(pred_uvd)\n",
    "\n",
    "pred_file = os.path.join(DATA_DIR, exp_dir, 'predict_{}_{}_conf.txt'.format(epoch, data_split))\n",
    "pred_conf = np.loadtxt(pred_file)"
   ]
  },
  {
   "cell_type": "code",
   "execution_count": null,
   "metadata": {},
   "outputs": [],
   "source": [
    "idx = 0\n",
    "print(keys[idx])\n",
    "\n",
    "img = np.asarray(Image.open(os.path.join(DATA_DIR, 'First_Person_Action_Benchmark', 'Video_files', keys[idx])))\n",
    "fig, ax = plt.subplots()\n",
    "ax.imshow(img)\n",
    "\n",
    "FPHA.draw_bbox(ax, bbox_pred[idx], (img.shape[1], img.shape[0]), 'r')\n",
    "FPHA.visualize_joints_2d(ax, pred_uvd[idx][FPHA.REORDER_IDX], joint_idxs=False, c='r')\n",
    "FPHA.draw_bbox(ax, bbox_gt[idx], (img.shape[1], img.shape[0]), 'b')\n",
    "FPHA.visualize_joints_2d(ax, uvd_gt[idx][FPHA.REORDER_IDX], joint_idxs=False, c='b')\n",
    "\n",
    "fig, ax = plt.subplots(1, 2, figsize=(15,15))\n",
    "ax[0].imshow(img)\n",
    "ax[0].set_title('pred')\n",
    "FPHA.visualize_joints_2d(ax[0], pred_uvd[idx][FPHA.REORDER_IDX], joint_idxs=False)\n",
    "ax[1].imshow(img)\n",
    "ax[1].set_title('true')\n",
    "FPHA.visualize_joints_2d(ax[1], uvd_gt[idx][FPHA.REORDER_IDX], joint_idxs=False)"
   ]
  },
  {
   "cell_type": "code",
   "execution_count": null,
   "metadata": {},
   "outputs": [],
   "source": [
    "fig = plt.figure(figsize=(10, 10))\n",
    "ax = fig.add_subplot(221)\n",
    "ax.imshow(img)\n",
    "FPHA.visualize_joints_2d(ax, pred_uvd[idx][FPHA.REORDER_IDX], joint_idxs=False, c='r')\n",
    "FPHA.visualize_joints_2d(ax, uvd_gt[idx][FPHA.REORDER_IDX], joint_idxs=False, c='b')\n",
    "\n",
    "for proj_idx, (proj_1, proj_2) in enumerate([[0, 1], [1, 2], [0, 2]]):\n",
    "    ax = fig.add_subplot(2, 2, 2 + proj_idx)\n",
    "    if proj_idx == 0:\n",
    "        # Invert y axes to align with image in camera projection\n",
    "        ax.invert_yaxis()\n",
    "    ax.set_aspect('equal')\n",
    "    FPHA.visualize_joints_2d(ax,\n",
    "                        np.stack(\n",
    "                            [pred_uvd[idx][FPHA.REORDER_IDX][:, proj_1], \n",
    "                             pred_uvd[idx][FPHA.REORDER_IDX][:, proj_2]],\n",
    "                            axis=1),\n",
    "                        joint_idxs=False, c='r')\n",
    "    FPHA.visualize_joints_2d(ax,\n",
    "                        np.stack(\n",
    "                            [uvd_gt[idx][FPHA.REORDER_IDX][:, proj_1], \n",
    "                             uvd_gt[idx][FPHA.REORDER_IDX][:, proj_2]],\n",
    "                            axis=1),\n",
    "                        joint_idxs=False, c='b')    "
   ]
  },
  {
   "cell_type": "code",
   "execution_count": null,
   "metadata": {},
   "outputs": [],
   "source": [
    "max_idx = []\n",
    "# get the best idx for each 2D cell\n",
    "for i in range(len(pred_conf[idx])//5):\n",
    "    max_idx.append(i*5 + np.argmax(pred_conf[idx][i*5:i*5+5]))\n",
    "\n",
    "fig, ax = plt.subplots(figsize=(5,5))\n",
    "pred_uvd_416 = IMG.scale_points_WH(pred_uvd[idx], (1920, 1080), (416, 416))\n",
    "FPHA.visualize_joints_2d(ax, pred_uvd_416[FPHA.REORDER_IDX], joint_idxs=False)\n",
    "img_rsz = IMG.resize_img(img, (416, 416))\n",
    "ax.imshow(img_rsz.astype('uint32'))\n",
    "\n",
    "# red is the best\n",
    "# yellow is anything over 0.9\n",
    "import matplotlib.patches as patches\n",
    "for i in range(len(max_idx)):\n",
    "    index = np.unravel_index(i, (13, 13))\n",
    "    x = index[1]\n",
    "    y = index[0]\n",
    "    al = pred_conf[idx][max_idx[i]]\n",
    "    if al == np.amax(pred_conf[idx]):\n",
    "        c = 'r'\n",
    "    elif al <= 0.8:\n",
    "        c = 'b'\n",
    "    else:\n",
    "        c = 'y'\n",
    "    rect = patches.Rectangle((x*32,y*32),32,32,linewidth=1, edgecolor=c, facecolor=c, fill=True, alpha=al)\n",
    "    ax.add_patch(rect)"
   ]
  },
  {
   "cell_type": "code",
   "execution_count": null,
   "metadata": {},
   "outputs": [],
   "source": [
    "iou_thresh = 0.5\n",
    "correct = 0\n",
    "avg_iou = 0\n",
    "worst_iou = 10\n",
    "worst_iou_idx = 0\n",
    "iou_list = []\n",
    "for i in range(len(bbox_pred)):\n",
    "    iou = YOLO.bbox_iou(bbox_pred[i], bbox_gt[i])\n",
    "    avg_iou += iou\n",
    "    iou_list.append(iou)\n",
    "    if iou < worst_iou:\n",
    "        worst_iou = iou\n",
    "        worst_iou_idx = i\n",
    "        \n",
    "    if iou > iou_thresh:\n",
    "        correct += 1\n",
    "        \n",
    "recall = correct/len(bbox_pred)\n",
    "avg_iou = avg_iou/len(bbox_pred)\n",
    "print('Recall:', recall, 'Avg_IOU:', avg_iou)\n",
    "print('Worst Bbox id:', worst_iou_idx)\n",
    "for idx in np.argsort(iou_list):\n",
    "    print(idx)"
   ]
  },
  {
   "cell_type": "code",
   "execution_count": null,
   "metadata": {},
   "outputs": [],
   "source": [
    "print('%s UVD mean_l2_error: ' %data_split, FPHA.mean_L2_error(uvd_gt[:len(pred_uvd)], pred_uvd))\n",
    "print('%s XYZ mean_l2_error: ' %data_split, FPHA.mean_L2_error(xyz_gt[:len(pred_uvd)], pred_xyz))\n",
    "error = []\n",
    "for i, (pred, uvd) in enumerate(zip(pred_uvd, uvd_gt)):\n",
    "#     print(i, FPHA.mean_L2_error(uvd, pred))\n",
    "    error.append(FPHA.mean_L2_error(uvd, pred))\n",
    "error = np.asarray(error)\n",
    "min_error_idx = np.argmin(error)\n",
    "max_error_idx = np.argmax(error)\n",
    "print('Best Pose id:', min_error_idx, 'uvd_error:', error[min_error_idx])\n",
    "print('Worst Pose id:', max_error_idx, 'uvd_error:', error[max_error_idx])\n",
    "for idx in np.argsort(error):\n",
    "    print(idx)"
   ]
  },
  {
   "cell_type": "code",
   "execution_count": null,
   "metadata": {},
   "outputs": [],
   "source": [
    "pck = FPHA.percentage_frames_within_error_curve(xyz_gt[:len(pred_uvd)], pred_xyz)\n",
    "pck_str = ''\n",
    "for p in pck:\n",
    "    pck_str += str(p) + ', '\n",
    "print(pck_str)\n",
    "thresholds = np.arange(0, 85, 5)\n",
    "print('AUC:', FPHA.calc_auc(pck, thresholds))"
   ]
  },
  {
   "cell_type": "markdown",
   "metadata": {},
   "source": [
    "# Create GIF"
   ]
  },
  {
   "cell_type": "code",
   "execution_count": null,
   "metadata": {},
   "outputs": [],
   "source": [
    "from moviepy.editor import ImageSequenceClip\n",
    "from tqdm import tqdm\n",
    "from matplotlib.backends.backend_agg import FigureCanvasAgg as FigureCanvas\n",
    "from matplotlib.figure import Figure\n",
    "\n",
    "# seq = 'Subject_6/prick/3'\n",
    "# seq = 'Subject_2/stir/3'\n",
    "# seq = 'Subject_5/open_liquid_soap/3'\n",
    "# seq = 'Subject_5/toast_wine/1'\n",
    "seq = 'Subject_1/tear_paper/3'\n",
    "# seq = 'Subject_2/charge_cell_phone/1'\n",
    "# seq = 'Subject_3/squeeze_paper/3'\n",
    "SAVE_DIR = Path(DATA_DIR)/'acv-data'/'gifs'\n",
    "seq_keys_list = [(i, k.split('/')) for i, k in enumerate(keys) if seq in k]\n",
    "\n",
    "index_list, seq_list = zip(*seq_keys_list)\n",
    "\n",
    "seq_list = [int(i[-1].split('_')[-1].split('.')[0]) for i in seq_list]\n",
    "ind = np.argsort(seq_list).astype('uint32')\n",
    "\n",
    "index_list = np.asarray(index_list)\n",
    "index_list = index_list[ind]\n",
    "\n",
    "frames = []\n",
    "xyz_gt_vid = []\n",
    "pred_xyz_vid = []\n",
    "for idx in tqdm(index_list):\n",
    "    idx = int(idx)\n",
    "    img = np.asarray(Image.open(os.path.join(DATA_DIR, 'First_Person_Action_Benchmark', 'Video_files', keys[idx])))\n",
    "\n",
    "    fig, ax = plt.subplots()\n",
    "    ax = fig.gca()\n",
    "    ax.imshow(img)\n",
    "    ax.axis('off')\n",
    "    FPHA.draw_bbox(ax, bbox_pred[idx], (img.shape[1], img.shape[0]), 'r')\n",
    "    FPHA.visualize_joints_2d(ax, pred_uvd[idx][FPHA.REORDER_IDX], joint_idxs=False, c='r')\n",
    "    FPHA.draw_bbox(ax, bbox_gt[idx], (img.shape[1], img.shape[0]), 'b')\n",
    "    FPHA.visualize_joints_2d(ax, uvd_gt[idx][FPHA.REORDER_IDX], joint_idxs=False, c='b')\n",
    "    fig.canvas.draw()\n",
    "    data = np.fromstring(fig.canvas.tostring_rgb(), dtype=np.uint8, sep='')\n",
    "    data = data.reshape(fig.canvas.get_width_height()[::-1] + (3,))\n",
    "    frames.append(data)\n",
    "    \n",
    "    xyz_gt_vid.append(FPHA.uvd2xyz_color(uvd_gt[idx]))\n",
    "    pred_xyz_vid.append(FPHA.uvd2xyz_color(pred_uvd[idx]))\n",
    "    \n",
    "    plt.close() \n",
    "    \n",
    "segment_clip = ImageSequenceClip(frames, fps=6)\n",
    "name = SAVE_DIR/('{}_{}_{}_{}.gif'.format(cfgname, epoch, data_split, seq.replace('/', '_')))\n",
    "segment_clip.write_gif(name, fps=6)\n",
    "from IPython.display import Image as IPythonImage\n",
    "with open(name,'rb') as f:\n",
    "    display(IPythonImage(data=f.read(), format='png'))"
   ]
  },
  {
   "cell_type": "code",
   "execution_count": null,
   "metadata": {},
   "outputs": [],
   "source": [
    "pck = FPHA.percentage_frames_within_error_curve(np.asarray(xyz_gt_vid), np.asarray(pred_xyz_vid))\n",
    "print(pck)\n",
    "thresholds = np.arange(0, 85, 5)\n",
    "print('AUC:', FPHA.calc_auc(pck, thresholds))"
   ]
  },
  {
   "cell_type": "code",
   "execution_count": null,
   "metadata": {},
   "outputs": [],
   "source": []
  }
 ],
 "metadata": {
  "kernelspec": {
   "display_name": "Python 3",
   "language": "python",
   "name": "python3"
  },
  "language_info": {
   "codemirror_mode": {
    "name": "ipython",
    "version": 3
   },
   "file_extension": ".py",
   "mimetype": "text/x-python",
   "name": "python",
   "nbconvert_exporter": "python",
   "pygments_lexer": "ipython3",
   "version": "3.6.8"
  }
 },
 "nbformat": 4,
 "nbformat_minor": 2
}
