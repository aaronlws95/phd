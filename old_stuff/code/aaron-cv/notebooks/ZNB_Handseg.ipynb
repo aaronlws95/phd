{
 "cells": [
  {
   "cell_type": "code",
   "execution_count": null,
   "metadata": {},
   "outputs": [],
   "source": [
    "import os\n",
    "import sys\n",
    "from PIL import Image\n",
    "import matplotlib.pyplot as plt\n",
    "import numpy as np\n",
    "import torch\n",
    "import torch.nn as nn\n",
    "import cv2\n",
    "from tqdm import tqdm\n",
    "from pathlib import Path\n",
    "from torch.utils.data import DataLoader\n",
    "import h5py\n",
    "\n",
    "WORK_DIR = Path(Path.cwd()).parent\n",
    "sys.path.append(str(WORK_DIR))\n",
    "from src.datasets import get_dataset, get_dataloader\n",
    "from src.utils import parse_data_cfg, IMG, DATA_DIR, RHD"
   ]
  },
  {
   "cell_type": "code",
   "execution_count": null,
   "metadata": {},
   "outputs": [],
   "source": [
    "cfg = parse_data_cfg(WORK_DIR/'data_cfg'/'znb_handseg_data_mod2.cfg')\n",
    "epoch = 200\n",
    "exp_dir = cfg[\"exp_dir\"]\n",
    "data_split = 'test'\n",
    "split_set = cfg[data_split + '_set']\n",
    "img_size = int(cfg['img_size'])"
   ]
  },
  {
   "cell_type": "markdown",
   "metadata": {},
   "source": [
    "# Visualize Dataloader"
   ]
  },
  {
   "cell_type": "code",
   "execution_count": null,
   "metadata": {},
   "outputs": [],
   "source": [
    "dataset_kwargs = {'split_set': split_set}\n",
    "dataset   = get_dataset(cfg, dataset_kwargs)\n",
    "sampler   = None\n",
    "shuffle   = cfg['shuffle']\n",
    "kwargs = {'batch_size'  :   int(cfg['batch_size']),\n",
    "          'shuffle'     :   shuffle,\n",
    "          'num_workers' :   int(cfg['num_workers']),\n",
    "          'pin_memory'  :   True}\n",
    "data_loader = get_dataloader(dataset, sampler, kwargs)\n"
   ]
  },
  {
   "cell_type": "code",
   "execution_count": null,
   "metadata": {},
   "outputs": [],
   "source": [
    "idx = 0\n",
    "for i, (img, mask) in enumerate(data_loader):\n",
    "    if i == idx:\n",
    "        batch_size = img.shape[0]\n",
    "        img = img.cpu().numpy()\n",
    "        img = np.swapaxes(img, 2, 3)\n",
    "        img = np.swapaxes(img, 1, 3)\n",
    "        img = IMG.scale_img_255(img)\n",
    "        mask = mask.cpu().numpy()\n",
    "        mask = np.swapaxes(mask, 2, 3)\n",
    "        mask = np.swapaxes(mask, 1, 3)\n",
    "        break\n",
    "    i += 1"
   ]
  },
  {
   "cell_type": "code",
   "execution_count": null,
   "metadata": {},
   "outputs": [],
   "source": [
    "fig, ax = plt.subplots(4, 4, figsize=(15, 15))\n",
    "idx = 0\n",
    "for i in range(4):\n",
    "    for j in range(4):\n",
    "        cur_img = img[idx]\n",
    "        cur_mask = mask[idx]\n",
    "        show_mask = cur_mask[:, :, 1]\n",
    "        show_mask = np.stack([np.zeros(show_mask.shape), np.zeros(show_mask.shape), show_mask], 2).astype('uint8')\n",
    "        show_mask = IMG.scale_img_255(show_mask)\n",
    "        show_img = show_mask*0.5 + cur_img*0.5\n",
    "        show_img = IMG.scale_img_255(show_img)\n",
    "        ax[i, j].imshow(show_img)\n",
    "        idx += 1"
   ]
  },
  {
   "cell_type": "code",
   "execution_count": null,
   "metadata": {},
   "outputs": [],
   "source": [
    "fig, ax = plt.subplots(4, 4, figsize=(15, 15))\n",
    "idx = 0\n",
    "for i in range(4):\n",
    "    for j in range(4):\n",
    "        cur_img = img[idx]\n",
    "        cur_mask = mask[idx]\n",
    "        show_mask = cur_mask[:, :, 0]\n",
    "        show_mask = np.stack([np.zeros(show_mask.shape), np.zeros(show_mask.shape), show_mask], 2).astype('uint8')\n",
    "        show_mask = IMG.scale_img_255(show_mask)\n",
    "        show_img = show_mask*0.5 + cur_img*0.5\n",
    "        show_img = IMG.scale_img_255(show_img)\n",
    "        ax[i, j].imshow(show_img)\n",
    "        idx += 1"
   ]
  },
  {
   "cell_type": "markdown",
   "metadata": {},
   "source": [
    "# Evaluation"
   ]
  },
  {
   "cell_type": "code",
   "execution_count": null,
   "metadata": {},
   "outputs": [],
   "source": [
    "pred_file = os.path.join(DATA_DIR, exp_dir, 'predict_{}_{}_mask.h5'.format(epoch, data_split))\n",
    "f = h5py.File(pred_file, 'r')\n",
    "pred_mask = f['mask'][...]\n",
    "f.close()"
   ]
  },
  {
   "cell_type": "code",
   "execution_count": null,
   "metadata": {},
   "outputs": [],
   "source": [
    "idx = 0\n",
    "\n",
    "image = Image.open(os.path.join(DATA_DIR, 'RHD_published_v2', split_set, 'color', '%.5d.png' % idx))\n",
    "image = np.asarray(image.resize((img_size, img_size)))\n",
    "\n",
    "mask_gt = Image.open(os.path.join(DATA_DIR, 'RHD_published_v2', split_set, 'mask', '%.5d.png' % idx))\n",
    "mask_gt = np.asarray(mask_gt.resize((img_size, img_size)))\n",
    "hand_mask           = np.greater(mask_gt, 1)\n",
    "bg_mask             = np.logical_not(hand_mask)\n",
    "total_mask          = np.stack([bg_mask, hand_mask], 2).astype('float32')\n",
    "show_mask_gt        = total_mask[:, :, 1].copy()\n",
    "show_mask_gt[show_mask_gt > 0] = 1\n",
    "show_mask_gt[show_mask_gt <= 0] = 0\n",
    "show_mask_gt_eval = show_mask_gt.copy()\n",
    "show_mask_gt = np.stack([np.zeros(show_mask_gt.shape), np.zeros(show_mask_gt.shape), show_mask_gt], 2).astype('uint8')\n",
    "show_mask_gt = IMG.scale_img_255(show_mask_gt)\n",
    "\n",
    "fig, ax = plt.subplots(figsize=(10, 10))\n",
    "ax.imshow(image)\n",
    "show_mask = pred_mask[idx][:, :, 1].copy()\n",
    "show_mask[show_mask > 0] = 1\n",
    "show_mask[show_mask <= 0] = 0\n",
    "show_mask_eval = show_mask.copy()\n",
    "show_mask = np.stack([show_mask, np.zeros(show_mask.shape), np.zeros(show_mask.shape)], 2).astype('uint8')\n",
    "show_mask = IMG.scale_img_255(show_mask)\n",
    "show_img = show_mask*0.5 + show_mask_gt*0.5 \n",
    "show_img = IMG.scale_img_255(show_img)\n",
    "show_img = show_img*0.5 + image*0.5\n",
    "show_img = IMG.scale_img_255(show_img)\n",
    "ax.imshow(show_img)\n",
    "\n",
    "intersection = np.logical_and(show_mask_gt_eval, show_mask_eval)\n",
    "union = np.logical_or(show_mask_gt_eval, show_mask_eval)\n",
    "iou_score = np.sum(intersection)/np.sum(union)\n",
    "print(iou_score)"
   ]
  },
  {
   "cell_type": "code",
   "execution_count": null,
   "metadata": {},
   "outputs": [],
   "source": [
    "iou_list = []\n",
    "for i in tqdm(range(pred_mask.shape[0])):\n",
    "    mask_gt = Image.open(os.path.join(DATA_DIR, 'RHD_published_v2', split_set, 'mask', '%.5d.png' % i))\n",
    "    mask_gt = np.asarray(mask_gt.resize((img_size, img_size)))\n",
    "    hand_mask           = np.greater(mask_gt, 1)\n",
    "    bg_mask             = np.logical_not(hand_mask)\n",
    "    total_mask          = np.stack([bg_mask, hand_mask], 2).astype('float32')\n",
    "    mask_gt             = total_mask[:, :, 1].copy()\n",
    "    mask_gt[mask_gt > 0] = 1\n",
    "    mask_gt[mask_gt <= 0] = 0\n",
    "    \n",
    "    cur_pred_mask = pred_mask[i][:, :, 1].copy()\n",
    "    cur_pred_mask[cur_pred_mask > 0] = 1\n",
    "    cur_pred_mask[cur_pred_mask <= 0] = 0\n",
    "    \n",
    "    intersection = np.logical_and(mask_gt, cur_pred_mask)\n",
    "    union = np.logical_or(mask_gt, cur_pred_mask)\n",
    "    iou_score = np.sum(intersection)/np.sum(union)\n",
    "    iou_list.append(iou_score)\n",
    "\n",
    "print('Avg_IOU:', np.mean(iou_list))\n",
    "print('Worst mask id:', np.argmin(iou_list))\n",
    "for idx in np.argsort(iou_list):\n",
    "    print(idx, iou_list[idx])"
   ]
  },
  {
   "cell_type": "code",
   "execution_count": null,
   "metadata": {},
   "outputs": [],
   "source": [
    "# one_box, one_mask = RHD.get_hand_from_pred(pred_mask[idx])\n",
    "# fig, ax = plt.subplots(figsize=(10, 10))\n",
    "# ax.imshow(one_mask)\n",
    "# RHD.draw_bbox(ax, one_box, (1,1))"
   ]
  }
 ],
 "metadata": {
  "kernelspec": {
   "display_name": "Python 3",
   "language": "python",
   "name": "python3"
  },
  "language_info": {
   "codemirror_mode": {
    "name": "ipython",
    "version": 3
   },
   "file_extension": ".py",
   "mimetype": "text/x-python",
   "name": "python",
   "nbconvert_exporter": "python",
   "pygments_lexer": "ipython3",
   "version": "3.6.8"
  }
 },
 "nbformat": 4,
 "nbformat_minor": 2
}
