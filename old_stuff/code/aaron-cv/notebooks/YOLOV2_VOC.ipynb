{
 "cells": [
  {
   "cell_type": "code",
   "execution_count": null,
   "metadata": {},
   "outputs": [],
   "source": [
    "import sys\n",
    "import matplotlib.pyplot as plt\n",
    "import numpy as np\n",
    "from PIL import Image\n",
    "from tqdm import tqdm\n",
    "from pathlib import Path\n",
    "\n",
    "WORK_DIR = Path(Path.cwd()).parent\n",
    "sys.path.append(str(WORK_DIR))\n",
    "from src.datasets import get_dataset, get_dataloader\n",
    "from src.utils import parse_data_cfg, IMG, VOC, DATA_DIR, YOLO"
   ]
  },
  {
   "cell_type": "code",
   "execution_count": null,
   "metadata": {},
   "outputs": [],
   "source": [
    "cfg = parse_data_cfg(WORK_DIR/'data_cfg'/'yolov2_voc_data.cfg')\n",
    "epoch = 300\n",
    "exp_dir = cfg[\"exp_dir\"]\n",
    "data_split = 'test'\n",
    "split_set = data_split + '_set'"
   ]
  },
  {
   "cell_type": "markdown",
   "metadata": {},
   "source": [
    "# Visualize Data Loader"
   ]
  },
  {
   "cell_type": "code",
   "execution_count": null,
   "metadata": {},
   "outputs": [],
   "source": [
    "dataset_kwargs = {'split_set': cfg[split_set]}\n",
    "cfg['aug'] = None\n",
    "dataset   = get_dataset(cfg, dataset_kwargs)\n",
    "sampler   = None\n",
    "shuffle   = cfg['shuffle']\n",
    "kwargs = {'batch_size'  :   int(cfg['batch_size']),\n",
    "          'shuffle'     :   shuffle,\n",
    "          'num_workers' :   int(cfg['num_workers']),\n",
    "          'pin_memory'  :   True}\n",
    "data_loader = get_dataloader(dataset, sampler, kwargs)"
   ]
  },
  {
   "cell_type": "code",
   "execution_count": null,
   "metadata": {},
   "outputs": [],
   "source": [
    "idx = 0 \n",
    "for i, (img, labels, imgpath) in enumerate(data_loader):\n",
    "    if i == idx:\n",
    "        batch_size = img.shape[0]\n",
    "        img = img.cpu().numpy()\n",
    "        img = np.swapaxes(img, 2, 3)\n",
    "        img = np.swapaxes(img, 1, 3)\n",
    "        img = IMG.scale_img_255(img)\n",
    "        labels = labels.cpu().numpy()\n",
    "        break\n",
    "    i += 1"
   ]
  },
  {
   "cell_type": "code",
   "execution_count": null,
   "metadata": {},
   "outputs": [],
   "source": [
    "new_labels = []\n",
    "for l in labels:\n",
    "    new_labels.append(VOC.filter_zero_from_labels(l))\n",
    "\n",
    "fig, ax = plt.subplots(4, 4, figsize=(15, 15))\n",
    "idx = 0\n",
    "for i in range(4):\n",
    "    for j in range(4):\n",
    "        idx = np.ravel_multi_index((i, j), (5, 5))\n",
    "        if idx >= len(new_labels):\n",
    "            break              \n",
    "        cur_img = img[idx]\n",
    "        boxes = new_labels[idx][:, 1:5]     \n",
    "        ax[i, j].imshow(cur_img)\n",
    "        VOC.draw_bbox(ax[i, j], boxes, (cur_img.shape[1], cur_img.shape[0]), class_id=new_labels[idx][:, 0])"
   ]
  },
  {
   "cell_type": "markdown",
   "metadata": {},
   "source": [
    "# Evaluation"
   ]
  },
  {
   "cell_type": "code",
   "execution_count": null,
   "metadata": {},
   "outputs": [],
   "source": [
    "filename = Path(DATA_DIR)/exp_dir/'predict_{}_{}_'.format(epoch, data_split)\n",
    "year = '2007'\n",
    "classes = VOC.CLASS_LIST\n",
    "\n",
    "img_root = Path(DATA_DIR)/cfg[split_set]\n",
    "with open(img_root, 'r') as file:\n",
    "    lines = file.readlines()    "
   ]
  },
  {
   "cell_type": "code",
   "execution_count": null,
   "metadata": {},
   "outputs": [],
   "source": [
    "voc_dir = Path(DATA_DIR)/'VOCdevkit'\n",
    "VOC.do_python_voc_eval(str(filename), voc_dir, classes, year, data_split)"
   ]
  },
  {
   "cell_type": "markdown",
   "metadata": {},
   "source": [
    "# Visualize Prediction"
   ]
  },
  {
   "cell_type": "code",
   "execution_count": null,
   "metadata": {},
   "outputs": [],
   "source": [
    "idx = 4\n",
    "imgpath = Path(DATA_DIR)/'VOCdevkit'/'VOC2007'/'JPEGImages'/'{:06d}.jpg'.format(idx)\n",
    "labpath = Path(DATA_DIR)/'VOCdevkit'/'VOC2007'/'labels'/'{:06d}.txt'.format(idx)\n",
    "img = Image.open(imgpath)\n",
    "w, h = img.size\n",
    "img = img.resize((416, 416))\n",
    "img = np.asarray(img)\n",
    "\n",
    "# Predicted\n",
    "filename = Path(DATA_DIR)/exp_dir/'predict_{}_{}_all.txt'.format(epoch, data_split)\n",
    "with open(filename, 'r') as f:\n",
    "    lines = f.readlines()    \n",
    "lines = np.asarray([i.strip().split() for i in lines]).astype('float32')\n",
    "lines[:, 0] = [int(i) for i in lines[:, 0]]\n",
    "chosen_lines = lines[np.where(lines[:, 0] == idx)]\n",
    "xyxy = chosen_lines[:, 2:6]\n",
    "boxes = YOLO.xyxy2xywh(xyxy)\n",
    "boxes[:, 0] /= w\n",
    "boxes[:, 1] /= h\n",
    "boxes[:, 2] /= w\n",
    "boxes[:, 3] /= h\n",
    "# Ground truth\n",
    "with open(labpath, 'r') as f:\n",
    "    labels_gt = f.readlines()\n",
    "labels_gt = np.asarray([i.strip().split() for i in labels_gt]).astype('float32')\n",
    "boxes_gt = labels_gt[:, 1:5]\n",
    "\n",
    "fig, ax = plt.subplots(figsize=(10, 10))\n",
    "ax.imshow(img)\n",
    "VOC.draw_bbox(ax, boxes_gt, (img.shape[1], img.shape[0]), class_id=labels_gt[:, 0], color='b')\n",
    "VOC.draw_bbox(ax, boxes, (img.shape[1], img.shape[0]), class_id=chosen_lines[:, -1], color='r')\n",
    "plt.show()"
   ]
  },
  {
   "cell_type": "code",
   "execution_count": null,
   "metadata": {},
   "outputs": [],
   "source": []
  }
 ],
 "metadata": {
  "kernelspec": {
   "display_name": "Python 3",
   "language": "python",
   "name": "python3"
  },
  "language_info": {
   "codemirror_mode": {
    "name": "ipython",
    "version": 3
   },
   "file_extension": ".py",
   "mimetype": "text/x-python",
   "name": "python",
   "nbconvert_exporter": "python",
   "pygments_lexer": "ipython3",
   "version": "3.6.8"
  }
 },
 "nbformat": 4,
 "nbformat_minor": 2
}
