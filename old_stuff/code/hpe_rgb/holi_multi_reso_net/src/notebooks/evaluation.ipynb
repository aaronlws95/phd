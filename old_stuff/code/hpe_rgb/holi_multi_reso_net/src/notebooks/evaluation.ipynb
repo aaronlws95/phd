{
 "cells": [
  {
   "cell_type": "code",
   "execution_count": 1,
   "metadata": {},
   "outputs": [],
   "source": [
    "import numpy as np\n",
    "import os\n",
    "import matplotlib.pyplot as plt\n",
    "import sys\n",
    "from PIL import Image\n",
    "\n",
    "sys.path.append(os.path.dirname(os.path.abspath('')))\n",
    "from utils.directory import DATA_DIR\n",
    "import utils.prepare_data as pd\n",
    "import utils.error as error\n",
    "import utils.visualize as visual\n",
    "# jupyter nbconvert --to html evaluation.ipynb"
   ]
  },
  {
   "cell_type": "code",
   "execution_count": 2,
   "metadata": {},
   "outputs": [],
   "source": [
    "# epoch = 215\n",
    "# exp = 'base_RGB_batchnorm'  \n",
    "epoch = 50\n",
    "exp = 'base_RGB'\n",
    "\n",
    "train_xyz_gt, train_pred_xyz, train_uvd_gt, train_pred_uvd, train_uvd_norm_gt, train_pred_normuvd = error.get_pred_gt(epoch, 'train', exp)\n",
    "test_xyz_gt, test_pred_xyz, test_uvd_gt, test_pred_uvd, test_uvd_norm_gt, test_pred_normuvd = error.get_pred_gt(epoch, 'test', exp)"
   ]
  },
  {
   "cell_type": "code",
   "execution_count": null,
   "metadata": {},
   "outputs": [],
   "source": [
    "train_xyz_gt = train_xyz_gt[:train_pred_xyz.shape[0]]\n",
    "train_uvd_gt = train_uvd_gt[:train_pred_xyz.shape[0]]\n",
    "train_uvd_norm_gt = train_uvd_norm_gt[:train_pred_xyz.shape[0]]\n",
    "\n",
    "test_xyz_gt = test_xyz_gt[:test_pred_xyz.shape[0]]\n",
    "test_uvd_gt = test_uvd_gt[:test_pred_xyz.shape[0]]\n",
    "test_uvd_norm_gt = test_uvd_norm_gt[:test_pred_xyz.shape[0]]"
   ]
  },
  {
   "cell_type": "code",
   "execution_count": null,
   "metadata": {},
   "outputs": [],
   "source": [
    "coord_frame = 'normuvd'\n",
    "pred = train_pred_normuvd\n",
    "true = train_uvd_norm_gt\n",
    "print('%s TRAIN mean_l2_error: ' %coord_frame, error.mean_pose_error(true, pred))\n",
    "pred = test_pred_normuvd\n",
    "true = test_uvd_norm_gt\n",
    "print('%s TEST mean_l2_error: ' %coord_frame, error.mean_pose_error(true, pred))"
   ]
  },
  {
   "cell_type": "code",
   "execution_count": null,
   "metadata": {},
   "outputs": [],
   "source": [
    "coord_frame = 'xyz'\n",
    "pred = train_pred_xyz\n",
    "true = train_xyz_gt\n",
    "print('%s TRAIN mean_l2_error: ' %coord_frame, error.mean_pose_error(true, pred))\n",
    "pred = test_pred_xyz\n",
    "true = test_xyz_gt\n",
    "print('%s TEST mean_l2_error: ' %coord_frame, error.mean_pose_error(true, pred))"
   ]
  },
  {
   "cell_type": "code",
   "execution_count": null,
   "metadata": {},
   "outputs": [],
   "source": [
    "coord_frame = 'uvd'\n",
    "pred = train_pred_uvd\n",
    "true = train_uvd_gt\n",
    "print('%s TRAIN mean_l2_error: ' %coord_frame, error.mean_pose_error(true, pred))\n",
    "pred = test_pred_uvd\n",
    "true = test_uvd_gt\n",
    "print('%s TEST mean_l2_error: ' %coord_frame, error.mean_pose_error(true, pred))"
   ]
  },
  {
   "cell_type": "code",
   "execution_count": null,
   "metadata": {},
   "outputs": [],
   "source": [
    "# Percentage of correct key points\n",
    "pred = np.reshape(train_pred_xyz, (-1, 63))\n",
    "true = np.asarray(train_xyz_gt)\n",
    "pck = error.percentage_frames_within_error_curve_zimmmerman(true, pred)\n",
    "print(pck)\n",
    "thresholds = np.arange(0, 85, 5)\n",
    "print('AUC:', error.calc_auc(pck, thresholds))"
   ]
  },
  {
   "cell_type": "code",
   "execution_count": null,
   "metadata": {},
   "outputs": [],
   "source": [
    "# Percentage of correct key points\n",
    "pred = np.reshape(test_pred_xyz, (-1, 63))\n",
    "true = np.asarray(test_xyz_gt)\n",
    "pck = error.percentage_frames_within_error_curve_zimmmerman(true, pred)\n",
    "print('[', end =\" \")\n",
    "for num in pck:\n",
    "    print('%f, ' %num, end =\" \")\n",
    "print(']')\n",
    "thresholds = np.arange(0, 85, 5)\n",
    "print('AUC:', error.calc_auc(pck, thresholds))"
   ]
  },
  {
   "cell_type": "code",
   "execution_count": null,
   "metadata": {},
   "outputs": [],
   "source": [
    "data_split = 'test'\n",
    "data_file_h5py = os.path.join(DATA_DIR, '%s_fpha_RGB.h5' %data_split)\n",
    "_, _, _, _, _, _, _, file_name = pd.read_data_h5py(data_file_h5py)\n"
   ]
  },
  {
   "cell_type": "code",
   "execution_count": null,
   "metadata": {},
   "outputs": [],
   "source": [
    "i = 151\n",
    "file_name_i = file_name[i].replace('media/aaron/SHAREDDATA', '4TB/aaron')\n",
    "print(file_name_i)\n"
   ]
  },
  {
   "cell_type": "code",
   "execution_count": null,
   "metadata": {},
   "outputs": [],
   "source": [
    "visual.show_true_pred_img_and_skel_color(file_name_i, test_uvd_gt[i], test_pred_uvd[i])"
   ]
  },
  {
   "cell_type": "code",
   "execution_count": null,
   "metadata": {},
   "outputs": [],
   "source": [
    "visual.show_3d_true_pred_skel(file_name[i], train_uvd_gt[i], train_pred_uvd[i])"
   ]
  },
  {
   "cell_type": "code",
   "execution_count": null,
   "metadata": {},
   "outputs": [],
   "source": []
  }
 ],
 "metadata": {
  "kernelspec": {
   "display_name": "Python 3",
   "language": "python",
   "name": "python3"
  },
  "language_info": {
   "codemirror_mode": {
    "name": "ipython",
    "version": 3
   },
   "file_extension": ".py",
   "mimetype": "text/x-python",
   "name": "python",
   "nbconvert_exporter": "python",
   "pygments_lexer": "ipython3",
   "version": "3.6.8"
  }
 },
 "nbformat": 4,
 "nbformat_minor": 2
}
