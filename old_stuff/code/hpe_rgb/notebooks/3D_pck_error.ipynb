{
 "cells": [
  {
   "cell_type": "code",
   "execution_count": null,
   "metadata": {},
   "outputs": [],
   "source": [
    "import numpy as np\n",
    "import matplotlib.pyplot as plt\n",
    "import matplotlib"
   ]
  },
  {
   "cell_type": "code",
   "execution_count": null,
   "metadata": {},
   "outputs": [],
   "source": [
    "def calc_auc(y, x):\n",
    "    integral = np.trapz(y, x)\n",
    "    norm = np.trapz(np.ones_like(y), x)\n",
    "    return integral / norm"
   ]
  },
  {
   "cell_type": "code",
   "execution_count": null,
   "metadata": {},
   "outputs": [],
   "source": [
    "thresholds = np.arange(0, 85, 5)\n",
    "print('thresholds:', thresholds)\n",
    "curve_list = []"
   ]
  },
  {
   "cell_type": "code",
   "execution_count": null,
   "metadata": {},
   "outputs": [],
   "source": [
    "hpo_estimate = [0, 4, 22, 50, 70, 81, 90, 93, 95, 97, 98, 99, 100, 100, 100, 100, 100]\n",
    "hpo_estimate = np.asarray(hpo_estimate)/100\n",
    "label = 'h+o_estimate (AUC=%.4f)' %calc_auc(hpo_estimate, thresholds)\n",
    "style = {'linestyle': '-', \n",
    "         'color': 'b', \n",
    "         'marker': '.', \n",
    "         'linewidth': 1.0, \n",
    "         'label': label}\n",
    "curve_list.append((hpo_estimate, style))"
   ]
  },
  {
   "cell_type": "code",
   "execution_count": null,
   "metadata": {},
   "outputs": [],
   "source": [
    "holi_RGB = [0., 0.13350353, 0.29765406, 0.4525165, 0.57964036, 0.67928956, 0.75516872, \n",
    "            0.81380385, 0.85851358, 0.89277187, 0.91874026, 0.93865574, 0.95427232,\n",
    "            0.96600383, 0.97494722, 0.98167248, 0.98676042]\n",
    "label = 'holi_RGB (AUC=%.4f)' %calc_auc(holi_RGB, thresholds)\n",
    "style = {'linestyle': '-', \n",
    "         'color': 'g', \n",
    "         'marker': 's', \n",
    "         'linewidth': 1.0, \n",
    "         'label': label}\n",
    "curve_list.append((holi_RGB, style))"
   ]
  },
  {
   "cell_type": "code",
   "execution_count": null,
   "metadata": {},
   "outputs": [],
   "source": [
    "holi_RGB_batchnorm = [0.000000,  0.180327,  0.383750,  0.551088,  0.676033,  0.764647,  \n",
    "                      0.828176,  0.874111,  0.907749,  0.931968,  0.949915,  0.963213,  \n",
    "                      0.973556,  0.981000,  0.986323,  0.990268,  0.993201]\n",
    "label = 'holi_RGB_batchnorm (AUC=%.4f)' %calc_auc(holi_RGB_batchnorm, thresholds)\n",
    "style = {'linestyle': '-', \n",
    "         'color': 'g', \n",
    "         'marker': '*', \n",
    "         'linewidth': 1.0, \n",
    "         'label': label}\n",
    "curve_list.append((holi_RGB_batchnorm, style))"
   ]
  },
  {
   "cell_type": "code",
   "execution_count": null,
   "metadata": {},
   "outputs": [],
   "source": [
    "holi_Depth = [0., 0.33135275, 0.62136606, 0.78205111, 0.86798048, 0.91706838, \n",
    "              0.94711315, 0.96638392, 0.97823065, 0.98555611, 0.9903319, \n",
    "              0.99351069, 0.99576013, 0.99727738, 0.99814847, 0.99869784, 0.99913338]\n",
    "label = 'holi_Depth (AUC=%.4f)' %calc_auc(holi_Depth, thresholds)\n",
    "style = {'linestyle': '-', \n",
    "         'color': 'gray', \n",
    "         'marker': 's', \n",
    "         'linewidth': 1.0, \n",
    "         'label': label}\n",
    "curve_list.append((holi_Depth, style))"
   ]
  },
  {
   "cell_type": "code",
   "execution_count": null,
   "metadata": {},
   "outputs": [],
   "source": [
    "znb_smap_gt = [ 0.000000,  0.127912,  0.243636,  0.376885,  0.501656,  0.610032,  \n",
    "                 0.698824,  0.770740,  0.827612,  0.873194,  0.908190,  0.934211,  \n",
    "                 0.952764,  0.965790,  0.974909,  0.981676,  0.986365 ]\n",
    "label = 'znb_smap_gt (AUC=%.4f)' %calc_auc(znb_smap_gt, thresholds)\n",
    "style = {'linestyle': '-', \n",
    "         'color': 'r', \n",
    "         'marker': 's', \n",
    "         'linewidth': 1.0, \n",
    "         'label': label}\n",
    "curve_list.append((znb_smap_gt, style))"
   ]
  },
  {
   "cell_type": "code",
   "execution_count": null,
   "metadata": {},
   "outputs": [],
   "source": [
    "znb_smap_pred = [ 0.000000,  0.087653,  0.151660,  0.238391,  0.340999, \n",
    "                 0.442440,  0.535582,  0.617019,  0.688807,  0.748731,  \n",
    "                 0.798282,  0.838553,  0.870417,  0.895735,  \n",
    "                 0.915865,  0.932093,  0.944999  ]\n",
    "label = 'znb_smap_pred (AUC=%.4f)' %calc_auc(znb_smap_pred, thresholds)\n",
    "style = {'linestyle': '-', \n",
    "         'color': 'r', \n",
    "         'marker': '*', \n",
    "         'linewidth': 1.0, \n",
    "         'label': label}\n",
    "curve_list.append((znb_smap_pred, style))\n"
   ]
  },
  {
   "cell_type": "code",
   "execution_count": null,
   "metadata": {},
   "outputs": [],
   "source": [
    "matplotlib.rcParams.update({'font.size': 22})\n",
    "fig, ax = plt.subplots(figsize=(18, 13))\n",
    "for curve, style in curve_list:\n",
    "    ax.plot(thresholds,curve,\n",
    "            linestyle = style['linestyle'], \n",
    "            c = style['color'], \n",
    "            marker = style['marker'],\n",
    "            label = style['label'],\n",
    "            linewidth = style['linewidth'])\n",
    "ax.set_xticks(np.arange(0, 90, 10))\n",
    "ax.set_yticks(np.arange(0, 1.1, 0.1))\n",
    "ax.set_title('First Person Hand Action Dataset')\n",
    "plt.grid()\n",
    "leg = plt.legend()\n",
    "ax.set_ylabel('3D PCK (%)')\n",
    "ax.set_xlabel('Error Thresholds (mm)')\n",
    "plt.show()"
   ]
  },
  {
   "cell_type": "code",
   "execution_count": null,
   "metadata": {},
   "outputs": [],
   "source": []
  }
 ],
 "metadata": {
  "kernelspec": {
   "display_name": "Python 3",
   "language": "python",
   "name": "python3"
  },
  "language_info": {
   "codemirror_mode": {
    "name": "ipython",
    "version": 3
   },
   "file_extension": ".py",
   "mimetype": "text/x-python",
   "name": "python",
   "nbconvert_exporter": "python",
   "pygments_lexer": "ipython3",
   "version": "3.6.8"
  }
 },
 "nbformat": 4,
 "nbformat_minor": 2
}
