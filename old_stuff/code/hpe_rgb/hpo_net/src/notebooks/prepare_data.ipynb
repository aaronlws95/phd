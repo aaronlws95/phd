{
 "cells": [
  {
   "cell_type": "code",
   "execution_count": null,
   "metadata": {},
   "outputs": [],
   "source": [
    "import os\n",
    "import sys\n",
    "from PIL import Image\n",
    "import matplotlib.pyplot as plt\n",
    "import numpy as np\n",
    "from skimage.transform import resize\n",
    "\n",
    "sys.path.append(os.path.dirname(os.path.abspath('')))\n",
    "import utils.prepare_data as pd\n",
    "import utils.xyzuvd as xyzuvd\n",
    "import utils.visual as visual\n",
    "from utils.directory import DATA_DIR, DATASET_DIR"
   ]
  },
  {
   "cell_type": "code",
   "execution_count": null,
   "metadata": {},
   "outputs": [],
   "source": [
    "train_pairs, test_pairs = pd.get_fpha_data_list(DATASET_DIR)\n",
    "file_name = np.asarray([i for i,j in train_pairs])\n",
    "xyz_gt = np.reshape([j for i,j in train_pairs], (-1, 21 , 3))\n",
    "uvd_gt = xyzuvd.xyz2uvd_color(xyz_gt)\n",
    "ccs_gt = xyzuvd.xyz2ccs_color(xyz_gt)\n",
    "REORDER = visual.REORDER"
   ]
  },
  {
   "cell_type": "code",
   "execution_count": null,
   "metadata": {},
   "outputs": [],
   "source": [
    "idx = 1774\n",
    "file_name_i = file_name[idx]\n",
    "xyz_gt_i = xyz_gt[idx]\n",
    "uvd_gt_i = uvd_gt[idx]\n",
    "ccs_gt_i = ccs_gt[idx]\n",
    "img = Image.open(os.path.join(DATASET_DIR, 'First_Person_Action_Benchmark', 'Video_files', file_name_i))\n",
    "img = np.asarray(img, dtype='uint32')"
   ]
  },
  {
   "cell_type": "code",
   "execution_count": null,
   "metadata": {},
   "outputs": [],
   "source": [
    "fig, ax = plt.subplots()\n",
    "ax.imshow(img)\n",
    "visual.visualize_joints_2d(ax, uvd_gt_i[REORDER], joint_idxs=False)"
   ]
  },
  {
   "cell_type": "code",
   "execution_count": null,
   "metadata": {},
   "outputs": [],
   "source": [
    "img_resize = resize(img, (416, 416), order=3, preserve_range=True).astype('uint32')\n",
    "uvd_gt_i_resize = uvd_gt_i.copy()\n",
    "uvd_gt_i_resize[:, 0] *= 416/1920\n",
    "uvd_gt_i_resize[:, 1] *= 416/1080"
   ]
  },
  {
   "cell_type": "code",
   "execution_count": null,
   "metadata": {},
   "outputs": [],
   "source": [
    "fig, ax = plt.subplots()\n",
    "ax.imshow(img_resize)\n",
    "visual.visualize_joints_2d(ax, uvd_gt_i_resize[REORDER], joint_idxs=False)"
   ]
  },
  {
   "cell_type": "code",
   "execution_count": null,
   "metadata": {},
   "outputs": [],
   "source": [
    "pad = 10\n",
    "x_max = int(np.amax(uvd_gt_i_resize[:, 0])) + pad\n",
    "x_min = np.maximum(int(np.amin(uvd_gt_i_resize[:, 0])) - pad, 0)\n",
    "y_max = int(np.amax(uvd_gt_i_resize[:, 1])) + pad\n",
    "y_min = np.maximum(int(np.amin(uvd_gt_i_resize[:, 1])) - pad, 0)\n",
    "z_max = int(np.amax(uvd_gt_i_resize[:, 2])) + pad\n",
    "z_min = np.maximum(int(np.amin(uvd_gt_i_resize[:, 2])) - pad, 0)"
   ]
  },
  {
   "cell_type": "code",
   "execution_count": null,
   "metadata": {},
   "outputs": [],
   "source": [
    "print(x_min, x_max)\n",
    "print(y_min, y_max)\n",
    "print(z_min, z_max)"
   ]
  },
  {
   "cell_type": "code",
   "execution_count": null,
   "metadata": {},
   "outputs": [],
   "source": [
    "import math\n",
    "\n",
    "x_min_scale = x_min//32\n",
    "x_max_scale = math.ceil(x_max/32)\n",
    "y_min_scale = y_min//32\n",
    "y_max_scale = math.ceil(y_max/32)\n",
    "z_min_scale = z_min//120\n",
    "z_max_scale = math.ceil(z_max/120)\n",
    "\n",
    "print(x_min_scale, x_max_scale)\n",
    "print(y_min_scale, y_max_scale)\n",
    "print(z_min_scale, z_max_scale)"
   ]
  },
  {
   "cell_type": "code",
   "execution_count": null,
   "metadata": {},
   "outputs": [],
   "source": [
    "np.ravel_multi_index((0,1,0), (13,13,5))"
   ]
  },
  {
   "cell_type": "code",
   "execution_count": null,
   "metadata": {},
   "outputs": [],
   "source": [
    "import itertools\n",
    "comb = [list(i) for i in itertools.product(np.arange(x_min_scale, x_max_scale), np.arange(y_min_scale, y_max_scale))]\n",
    "print(comb)"
   ]
  },
  {
   "cell_type": "code",
   "execution_count": null,
   "metadata": {},
   "outputs": [],
   "source": [
    "import matplotlib.patches as patches\n",
    "fig, ax = plt.subplots(figsize=(13,13))\n",
    "ax.imshow(img_resize)\n",
    "visual.visualize_joints_2d(ax, uvd_gt_i_resize[REORDER], joint_idxs=False)\n",
    "for x,y in comb:\n",
    "    rect = patches.Rectangle((x*32,y*32),32,32,linewidth=1,edgecolor='r', facecolor='r', fill=True, alpha=0.5)\n",
    "    ax.add_patch(rect)"
   ]
  },
  {
   "cell_type": "code",
   "execution_count": null,
   "metadata": {},
   "outputs": [],
   "source": [
    "comb_3d = [list(i) for i in itertools.product(np.arange(x_min_scale, x_max_scale), \\\n",
    "                                              np.arange(y_min_scale, y_max_scale), \\\n",
    "                                              np.arange(z_min_scale, z_max_scale))]\n",
    "print(comb_3d)"
   ]
  },
  {
   "cell_type": "code",
   "execution_count": null,
   "metadata": {},
   "outputs": [],
   "source": [
    "index = np.asarray(np.unravel_index(np.arange(845), (13, 13, 5)))"
   ]
  },
  {
   "cell_type": "code",
   "execution_count": null,
   "metadata": {},
   "outputs": [],
   "source": [
    "ravel_comb = []\n",
    "for comb in comb_3d:\n",
    "    ravel_comb.append(np.ravel_multi_index(comb, (13,13,5)))\n",
    "print(ravel_comb)"
   ]
  },
  {
   "cell_type": "code",
   "execution_count": null,
   "metadata": {},
   "outputs": [],
   "source": [
    "all = np.zeros(845)\n",
    "all[ravel_comb] = 1\n",
    "all = all.astype('uint8')\n",
    "print(all)"
   ]
  },
  {
   "cell_type": "code",
   "execution_count": null,
   "metadata": {},
   "outputs": [],
   "source": [
    "test = np.ones(845)\n",
    "test[all != 1] = 2\n",
    "print(test)"
   ]
  },
  {
   "cell_type": "code",
   "execution_count": null,
   "metadata": {},
   "outputs": [],
   "source": [
    "bbox_xyz, bbox_uvd = pd.get_bbox(260, 1000, 935.732544, 540.681030)\n",
    "print(bbox_xyz)\n",
    "print(bbox_uvd)"
   ]
  },
  {
   "cell_type": "code",
   "execution_count": null,
   "metadata": {},
   "outputs": [],
   "source": []
  }
 ],
 "metadata": {
  "kernelspec": {
   "display_name": "Python 3",
   "language": "python",
   "name": "python3"
  },
  "language_info": {
   "codemirror_mode": {
    "name": "ipython",
    "version": 3
   },
   "file_extension": ".py",
   "mimetype": "text/x-python",
   "name": "python",
   "nbconvert_exporter": "python",
   "pygments_lexer": "ipython3",
   "version": "3.6.8"
  }
 },
 "nbformat": 4,
 "nbformat_minor": 2
}
