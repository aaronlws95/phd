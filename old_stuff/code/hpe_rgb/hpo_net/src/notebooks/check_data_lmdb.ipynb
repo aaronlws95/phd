{
 "cells": [
  {
   "cell_type": "code",
   "execution_count": null,
   "metadata": {},
   "outputs": [],
   "source": [
    "import os\n",
    "import sys\n",
    "from PIL import Image\n",
    "import matplotlib.pyplot as plt\n",
    "import numpy as np\n",
    "from skimage.transform import resize\n",
    "\n",
    "sys.path.append(os.path.dirname(os.path.abspath('')))\n",
    "import utils.prepare_data as pd\n",
    "import utils.xyzuvd as xyzuvd\n",
    "import utils.visual as visual\n",
    "from utils.directory import DATA_DIR, DATASET_DIR"
   ]
  },
  {
   "cell_type": "code",
   "execution_count": null,
   "metadata": {},
   "outputs": [],
   "source": [
    "save_prefix = 'train_fpha'\n",
    "keys = pd.get_keys(save_prefix)\n",
    "xyz_gt = pd.read_all_lmdb_from_name(keys, save_prefix, 'xyz_gt', 'float32', (21, 3))\n",
    "uvd_gt_resize = pd.read_all_lmdb_from_name(keys, save_prefix, 'uvd_gt_resize', 'float32', (21, 3))\n",
    "hand_cell_idx = pd.read_all_lmdb_from_name(keys, save_prefix, 'hand_cell_idx', 'uint8', (845))\n",
    "\n",
    "ccs_gt = xyzuvd.xyz2ccs_color(np.array(xyz_gt))\n",
    "uvd_gt = xyzuvd.xyz2uvd_color(np.array(xyz_gt))\n",
    "REORDER = visual.REORDER"
   ]
  },
  {
   "cell_type": "code",
   "execution_count": null,
   "metadata": {},
   "outputs": [],
   "source": [
    "idx = 0\n",
    "file_name_i = keys[idx]\n",
    "img = pd.get_img(file_name_i)\n",
    "uvd_gt_i = uvd_gt[idx]\n",
    "ccs_gt_i = ccs_gt[idx]\n",
    "hand_cell_idx_i = hand_cell_idx[idx]\n",
    "uvd_gt_resize_i = uvd_gt_resize[idx]\n",
    "print(img.shape)"
   ]
  },
  {
   "cell_type": "code",
   "execution_count": null,
   "metadata": {},
   "outputs": [],
   "source": [
    "fig, ax = plt.subplots()\n",
    "ax.imshow(img)\n",
    "visual.visualize_joints_2d(ax, uvd_gt_i[REORDER], joint_idxs=False)"
   ]
  },
  {
   "cell_type": "code",
   "execution_count": null,
   "metadata": {},
   "outputs": [],
   "source": [
    "resize_img = pd.resize_img(img, (416, 416))\n",
    "fig, ax = plt.subplots()\n",
    "ax.imshow(resize_img)\n",
    "visual.visualize_joints_2d(ax, uvd_gt_resize_i[REORDER], joint_idxs=False)"
   ]
  },
  {
   "cell_type": "code",
   "execution_count": null,
   "metadata": {},
   "outputs": [],
   "source": [
    "uvd_gt_upsize = pd.scale_annot_wh(uvd_gt_resize_i, (416, 416), (1920, 1080))\n",
    "fig, ax = plt.subplots()\n",
    "ax.imshow(img)\n",
    "visual.visualize_joints_2d(ax, uvd_gt_upsize[REORDER], joint_idxs=False)"
   ]
  },
  {
   "cell_type": "code",
   "execution_count": null,
   "metadata": {},
   "outputs": [],
   "source": [
    "ccs_gt_resize_i = xyzuvd.uvd2ccs_color(uvd_gt_resize_i)\n",
    "uvd_new = xyzuvd.ccs2uvd_color(ccs_gt_resize_i)\n",
    "fig, ax = plt.subplots()\n",
    "ax.imshow(resize_img)\n",
    "visual.visualize_joints_2d(ax, uvd_new[REORDER], joint_idxs=False)"
   ]
  },
  {
   "cell_type": "code",
   "execution_count": null,
   "metadata": {},
   "outputs": [],
   "source": [
    "uvd_new_new = uvd_new.copy()\n",
    "# uvd_new_new[..., 0] = (uvd_new[..., 0] - np.amin(uvd_new[..., 0])) /(np.amax(uvd_new[..., 0] - np.amin(uvd_new[..., 0])))\n",
    "# uvd_new_new[..., 1] = (uvd_new[..., 1] - np.amin(uvd_new[..., 1])) /(np.amax(uvd_new[..., 1] - np.amin(uvd_new[..., 1])))\n",
    "# uvd_new_new[..., 2] = (uvd_new[..., 2] - np.amin(uvd_new[..., 2])) /(np.amax(uvd_new[..., 2] - np.amin(uvd_new[..., 2])))\n",
    "\n",
    "# root_pos = uvd_new_new[0]\n",
    "\n",
    "# uvd_new_new = uvd_new.copy()\n",
    "# uvd_new_new = (uvd_new - (uvd_new[0] - root_pos)) \n",
    "\n",
    "uvd_new_new[:, 0] -= (uvd_new[0, 0]//32)*32\n",
    "uvd_new_new[:, 1] -= (uvd_new[0, 1]//32)*32\n",
    "\n",
    "import matplotlib.patches as patches\n",
    "fig, ax = plt.subplots(figsize=(13,13))\n",
    "ax.imshow(resize_img)\n",
    "visual.visualize_joints_2d(ax, uvd_new_new[REORDER], joint_idxs=False)\n",
    "for i in range(169):\n",
    "    index = np.unravel_index(i, (13, 13))\n",
    "    x, y = index\n",
    "    rect = patches.Rectangle((9*32,12*32),32,32,linewidth=1,edgecolor='b', facecolor='b', fill=True, alpha=0.5)\n",
    "    ax.add_patch(rect)"
   ]
  },
  {
   "cell_type": "code",
   "execution_count": null,
   "metadata": {},
   "outputs": [],
   "source": []
  },
  {
   "cell_type": "code",
   "execution_count": null,
   "metadata": {},
   "outputs": [],
   "source": []
  }
 ],
 "metadata": {
  "kernelspec": {
   "display_name": "Python 3",
   "language": "python",
   "name": "python3"
  },
  "language_info": {
   "codemirror_mode": {
    "name": "ipython",
    "version": 3
   },
   "file_extension": ".py",
   "mimetype": "text/x-python",
   "name": "python",
   "nbconvert_exporter": "python",
   "pygments_lexer": "ipython3",
   "version": "3.6.8"
  }
 },
 "nbformat": 4,
 "nbformat_minor": 2
}
