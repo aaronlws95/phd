{
 "cells": [
  {
   "cell_type": "code",
   "execution_count": null,
   "metadata": {},
   "outputs": [],
   "source": [
    "# Reload the notebook automatically\n",
    "%load_ext autoreload\n",
    "%autoreload 2"
   ]
  },
  {
   "cell_type": "markdown",
   "metadata": {},
   "source": [
    "# Import"
   ]
  },
  {
   "cell_type": "code",
   "execution_count": null,
   "metadata": {},
   "outputs": [],
   "source": [
    "import sys\n",
    "from pathlib import Path\n",
    "import numpy as np\n",
    "import matplotlib.pyplot as plt\n",
    "import cv2\n",
    "from IPython.display import clear_output\n",
    "\n",
    "WORK_DIR = Path(Path.cwd()).parent\n",
    "sys.path.append(str(WORK_DIR))\n",
    "from src import ROOT, parse\n",
    "from src.models import get_model\n",
    "from src.datasets.transforms import *\n",
    "from src.datasets import get_dataset, get_dataloader\n",
    "from src.utils import *\n",
    "\n",
    "cfg_dir = 'mlcv-exp/data/cfg/'"
   ]
  },
  {
   "cell_type": "markdown",
   "metadata": {},
   "source": [
    "# Setup"
   ]
  },
  {
   "cell_type": "code",
   "execution_count": null,
   "metadata": {},
   "outputs": [],
   "source": [
    "dataset = 'fpha'\n",
    "model_name = 'hpo_bbox_ar'\n",
    "exp = 'exp1'\n",
    "epoch = 200\n",
    "cfg_name = '{}_{}_{}.cfg'.format(dataset, model_name, exp)\n",
    "cfg = parse(Path(ROOT)/cfg_dir/model_name/cfg_name)\n",
    "cfg['aug'] = None\n",
    "cfg['batch_size'] = 1\n",
    "cfg['shuffle'] = None\n",
    "model = get_model(cfg, 'test', epoch)"
   ]
  },
  {
   "cell_type": "code",
   "execution_count": null,
   "metadata": {},
   "outputs": [],
   "source": [
    "model_net_mode = 'eval'\n",
    "if model_net_mode == 'eval':\n",
    "    model.net.eval()\n",
    "elif model_net_mode == 'train':\n",
    "    model.net.train()\n",
    "clear_output()"
   ]
  },
  {
   "cell_type": "markdown",
   "metadata": {},
   "source": [
    "# Loading"
   ]
  },
  {
   "cell_type": "code",
   "execution_count": null,
   "metadata": {},
   "outputs": [],
   "source": [
    "# dataloader = get_dataloader(cfg, get_dataset(cfg, 'test'))\n",
    "dataloader = None"
   ]
  },
  {
   "cell_type": "code",
   "execution_count": null,
   "metadata": {},
   "outputs": [],
   "source": [
    "img_path = Path('First_Person_Action_Benchmark')/'Video_files_rsz'/'Subject_1/open_juice_bottle/1/color/color_0009.jpeg'\n",
    "# img_path = Path('EPIC_KITCHENS_2018')/'EK_frames'/'P03/P03_10_7118_open_juice'/'img_{:05d}.jpg'.format(0)\n",
    "# img_path = Path('EPIC_KITCHENS_2018')/'EK_frames'/'P03/P03_10_7118_open_juice'/'img_{:05d}.jpg'.format(100)\n",
    "# img_path = Path('EPIC_KITCHENS_2018')/'EK_frames'/'P01/P01_03_502_put-down_milk'/'img_{:05d}.jpg'.format(49)\n",
    "# img_path = Path('EPIC_KITCHENS_2018')/'EK_frames'/'P20/P20_03_21943_open_drawer'/'img_{:05d}.jpg'.format(100)"
   ]
  },
  {
   "cell_type": "code",
   "execution_count": null,
   "metadata": {},
   "outputs": [],
   "source": [
    "if dataloader:\n",
    "    img, *others = next(iter(dataloader))\n",
    "    img = img.cuda()\n",
    "else:    \n",
    "    img = get_img_dataloader(str(Path(ROOT)/img_path), 416)\n",
    "    img = img.unsqueeze(0).cuda()"
   ]
  },
  {
   "cell_type": "markdown",
   "metadata": {},
   "source": [
    "# Show Img"
   ]
  },
  {
   "cell_type": "code",
   "execution_count": null,
   "metadata": {},
   "outputs": [],
   "source": [
    "img_show = ImgToNumpy()(img.cpu())[0]\n",
    "fig, ax = plt.subplots()\n",
    "ax.imshow(img_show)\n",
    "plt.show()"
   ]
  },
  {
   "cell_type": "markdown",
   "metadata": {},
   "source": [
    "# Detect"
   ]
  },
  {
   "cell_type": "code",
   "execution_count": null,
   "metadata": {},
   "outputs": [],
   "source": [
    "model.detect(img)"
   ]
  },
  {
   "cell_type": "code",
   "execution_count": null,
   "metadata": {},
   "outputs": [],
   "source": [
    "# seq_name = 'P20/P20_03_21943_open_drawer'\n",
    "# seq_name = 'P03/P03_10_7118_open_juice'\n",
    "# seq_name = 'P01/P01_03_502_put-down_milk'\n",
    "# seq_name = 'P29/P29_04_35766_search-for_scissors'\n",
    "# seq_name = 'P02/P02_09_5236_pour_salt'\n",
    "# seq_name = 'P22/P22_07_25388_wash_sponge'\n",
    "# seq_name = 'P23/P23_02_29040_search-for_table'\n",
    "# seq_name = 'P23/P23_04_29398_take_cover'\n",
    "# seq_name = 'P23/P23_03_29247_put_box'\n",
    "# seq_name = 'P23/P23_04_29257_take-out_tap'\n",
    "# seq_name = 'P23/P23_01_28990_close_tap'\n",
    "seq_name = 'P23/P23_02_29021_take_garlic'\n",
    "\n",
    "seq_path = Path(ROOT)/'EPIC_KITCHENS_2018'/'EK_frames'/seq_name"
   ]
  },
  {
   "cell_type": "code",
   "execution_count": null,
   "metadata": {},
   "outputs": [],
   "source": [
    "# seq_name = 'Subject_1/open_juice_bottle/1/color'\n",
    "# seq_name = 'Subject_4/put_salt/2/color'\n",
    "# seq_name = 'Subject_5/open_milk/4/color'\n",
    "# seq_name = 'Subject_2/wash_sponge/4/color'\n",
    "# seq_name = 'Subject_2/handshake/1/color'\n",
    "# seq_name = 'Subject_2/use_flash/2/color'\n",
    "# # seq_name = 'Subject_2/charge_cell_phone/1/color'\n",
    "# seq_path =  Path(ROOT)/'First_Person_Action_Benchmark'/'Video_files_rsz'/seq_name"
   ]
  },
  {
   "cell_type": "code",
   "execution_count": null,
   "metadata": {},
   "outputs": [],
   "source": [
    "model.detect_video(seq_path, seq_name, model_info='{}_{}_{}_{}_{}'.format(dataset, model_name, exp, epoch, model_net_mode))\n",
    "# model.detect_video(seq_path, img_size=416)"
   ]
  },
  {
   "cell_type": "code",
   "execution_count": null,
   "metadata": {},
   "outputs": [],
   "source": []
  },
  {
   "cell_type": "code",
   "execution_count": null,
   "metadata": {},
   "outputs": [],
   "source": []
  }
 ],
 "metadata": {
  "kernelspec": {
   "display_name": "Python 3",
   "language": "python",
   "name": "python3"
  },
  "language_info": {
   "codemirror_mode": {
    "name": "ipython",
    "version": 3
   },
   "file_extension": ".py",
   "mimetype": "text/x-python",
   "name": "python",
   "nbconvert_exporter": "python",
   "pygments_lexer": "ipython3",
   "version": "3.7.3"
  }
 },
 "nbformat": 4,
 "nbformat_minor": 2
}
