{
 "cells": [
  {
   "cell_type": "code",
   "execution_count": null,
   "metadata": {},
   "outputs": [],
   "source": [
    "import os\n",
    "import sys\n",
    "from PIL import Image\n",
    "import matplotlib.pyplot as plt\n",
    "import numpy as np\n",
    "import torch\n",
    "\n",
    "sys.path.append(os.path.dirname(os.path.abspath('')))\n",
    "import utils.YOLO_utils as YOLO\n",
    "import utils.VOC_utils as VOC\n",
    "from utils.lmdb_utils import *\n",
    "from utils.eval_utils import *\n",
    "from utils.image_utils import *\n",
    "from utils.json_utils import parse\n",
    "from models import get_model\n"
   ]
  },
  {
   "cell_type": "code",
   "execution_count": null,
   "metadata": {},
   "outputs": [],
   "source": [
    "conf = parse('../config/YOLOV3_VOC_base.json')\n",
    "device = conf[\"device\"]\n",
    "is_train = False\n",
    "epoch = 120\n",
    "exp_dir = conf[\"exp_dir\"]\n",
    "if epoch == 0:\n",
    "    weights = '/4TB/aaron/data_yolo/yolo-voc.weights'\n",
    "    conf[\"model\"][\"pretrain\"] = weights\n",
    "\n",
    "data_split = 'test'\n",
    "filename = os.path.join(exp_dir, 'predict_{}_{}_'.format(epoch, data_split))\n",
    "year = '2007'\n",
    "classes = VOC.CLASS_LIST\n",
    "img_root = conf[\"dataset\"][data_split][\"root\"]\n",
    "with open(img_root, 'r') as file:\n",
    "    lines = file.readlines()    "
   ]
  },
  {
   "cell_type": "code",
   "execution_count": null,
   "metadata": {},
   "outputs": [],
   "source": [
    "YOLO.do_python_voc_eval(filename, VOC.DIR, classes, year, data_split)"
   ]
  },
  {
   "cell_type": "markdown",
   "metadata": {},
   "source": [
    "# Detection"
   ]
  },
  {
   "cell_type": "code",
   "execution_count": null,
   "metadata": {},
   "outputs": [],
   "source": [
    "model = get_model(conf[\"model\"], device, epoch, is_train, exp_dir, False)\n",
    "\n",
    "idx = 0\n",
    "imgpath = lines[idx].rsplit()[0]\n",
    "img = Image.open(imgpath).convert('RGB')\n",
    "img = img.resize((416, 416))\n",
    "img = np.asarray(img)\n",
    "nms_thresh = 0.45\n",
    "conf_thresh = 0.05\n",
    "pred_labels = YOLO.detect(model, img, conf_thresh, nms_thresh)\n",
    "pred_labels = np.asarray(pred_labels)\n",
    "labpath = imgpath.replace('images', 'labels').replace('JPEGImages', 'labels').replace('.jpg', '.txt').replace('.png','.txt')\n",
    "true_labels = np.loadtxt(labpath)"
   ]
  },
  {
   "cell_type": "code",
   "execution_count": null,
   "metadata": {},
   "outputs": [],
   "source": [
    "print(imgpath)\n",
    "fig, ax = plt.subplots(1,2, figsize=(15, 15))\n",
    "ax[0].imshow(img)\n",
    "ax[1].imshow(img)\n",
    "boxes = pred_labels[:, :4]\n",
    "ax[0].set_title('pred')\n",
    "VOC.draw_bbox(ax[0], boxes, (img.shape[1], img.shape[0]), class_id = pred_labels[:, -1])\n",
    "ax[1].set_title('true')\n",
    "\n",
    "VOC.draw_bbox(ax[1], true_labels[:, -4:], (img.shape[1], img.shape[0]), class_id = true_labels[:, 0])"
   ]
  },
  {
   "cell_type": "code",
   "execution_count": null,
   "metadata": {},
   "outputs": [],
   "source": []
  }
 ],
 "metadata": {
  "kernelspec": {
   "display_name": "Python 3",
   "language": "python",
   "name": "python3"
  },
  "language_info": {
   "codemirror_mode": {
    "name": "ipython",
    "version": 3
   },
   "file_extension": ".py",
   "mimetype": "text/x-python",
   "name": "python",
   "nbconvert_exporter": "python",
   "pygments_lexer": "ipython3",
   "version": "3.6.8"
  }
 },
 "nbformat": 4,
 "nbformat_minor": 2
}
