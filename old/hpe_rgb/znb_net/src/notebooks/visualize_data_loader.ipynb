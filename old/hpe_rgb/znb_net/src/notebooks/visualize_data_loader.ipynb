{
 "cells": [
  {
   "cell_type": "code",
   "execution_count": null,
   "metadata": {},
   "outputs": [],
   "source": [
    "import sys\n",
    "import os\n",
    "import numpy as np\n",
    "import cv2\n",
    "from matplotlib import pyplot as plt\n",
    "import scipy.ndimage.interpolation  as interplt\n",
    "from PIL import Image\n",
    "import lmdb\n",
    "import pickle\n",
    "import cv2\n",
    "\n",
    "sys.path.append(os.path.dirname(os.path.abspath('')))\n",
    "from utils.directory import DATA_DIR, DATASET_DIR\n",
    "import utils.visualize as visual\n",
    "import utils.convert_xyz_uvd as xyzuvd\n",
    "import utils.prepare_data as pd\n",
    "import dataset.FPHA_dataset as fpha\n",
    "import dataset"
   ]
  },
  {
   "cell_type": "code",
   "execution_count": null,
   "metadata": {},
   "outputs": [],
   "source": [
    "save_prefix = 'test_fpha'\n",
    "fpha_dataset = fpha.FPHA_pose_net_dataset(save_prefix, True)\n",
    "data_loader = dataset.znb_pose_net_fpha_dataloader(save_prefix,\n",
    "                                        dataset=fpha_dataset,\n",
    "                                        batch_size=1,\n",
    "                                        shuffle=False,\n",
    "                                        num_workers=12,\n",
    "                                        logger=None)"
   ]
  },
  {
   "cell_type": "code",
   "execution_count": null,
   "metadata": {},
   "outputs": [],
   "source": [
    "idx = 0\n",
    "for i, (img, scoremap) in enumerate(data_loader):\n",
    "    if i == idx:\n",
    "        fig, ax = plt.subplots()\n",
    "        view_img = np.squeeze(img.cpu().numpy())\n",
    "        view_img = np.reshape(view_img, (view_img.shape[1], view_img.shape[2\n",
    "], view_img.shape[0]))\n",
    "        view_img = cv2.normalize(np.asarray(view_img), None, alpha = 0, beta = 255, norm_type = cv2.NORM_MINMAX, dtype = cv2.CV_8UC3)\n",
    "        ax.imshow(view_img)\n",
    "        view_scoremap = np.squeeze(scoremap.cpu().numpy())\n",
    "        view_scoremap = np.reshape(view_scoremap, (view_scoremap.shape[1], view_scoremap.shape[2\n",
    "], view_scoremap.shape[0]))\n",
    "  \n",
    "        for i in range(21):\n",
    "            fig, ax = plt.subplots()\n",
    "            smap_resize = pd.sk_resize(view_scoremap[:, :, i], (256,256)).astype('float32')\n",
    "#             ax.imshow(view_scoremap[:, :, i])\n",
    "            ax.imshow(visual.blend_scoremap_img(smap_resize, view_img))\n",
    "        break"
   ]
  },
  {
   "cell_type": "code",
   "execution_count": null,
   "metadata": {},
   "outputs": [],
   "source": []
  }
 ],
 "metadata": {
  "kernelspec": {
   "display_name": "Python 3",
   "language": "python",
   "name": "python3"
  },
  "language_info": {
   "codemirror_mode": {
    "name": "ipython",
    "version": 3
   },
   "file_extension": ".py",
   "mimetype": "text/x-python",
   "name": "python",
   "nbconvert_exporter": "python",
   "pygments_lexer": "ipython3",
   "version": "3.6.8"
  }
 },
 "nbformat": 4,
 "nbformat_minor": 2
}
