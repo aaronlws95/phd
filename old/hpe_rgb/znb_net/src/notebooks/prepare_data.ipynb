{
 "cells": [
  {
   "cell_type": "code",
   "execution_count": null,
   "metadata": {},
   "outputs": [],
   "source": [
    "import os\n",
    "import sys\n",
    "import numpy as np \n",
    "import matplotlib.pyplot as plt\n",
    "from PIL import Image\n",
    "from skimage.transform import resize\n",
    "\n",
    "sys.path.append(os.path.dirname(os.path.abspath('')))\n",
    "import utils.prepare_data as pd\n",
    "import utils.convert_xyz_uvd as xyzuvd\n",
    "import utils.visualize as visual"
   ]
  },
  {
   "cell_type": "code",
   "execution_count": null,
   "metadata": {},
   "outputs": [],
   "source": [
    "dataset_dir = '/media/aaron/SHAREDDATA/First_Person_Action_Benchmark'"
   ]
  },
  {
   "cell_type": "code",
   "execution_count": null,
   "metadata": {},
   "outputs": [],
   "source": [
    "train_pairs, test_pairs = pd.get_fpha_data_list('color', dataset_dir)\n",
    "file_name = [i for i,j in train_pairs]\n",
    "xyz_gt = [j for i,j in train_pairs]\n",
    "xyz_gt = np.reshape(xyz_gt, (-1, 21, 3))\n",
    "uvd_gt = xyzuvd.xyz2uvd_color(xyz_gt)"
   ]
  },
  {
   "cell_type": "code",
   "execution_count": null,
   "metadata": {},
   "outputs": [],
   "source": [
    "i=15920\n",
    "cur_frame = file_name[i]\n",
    "visual.show_img_and_skel_color(cur_frame, uvd_gt[i])\n",
    "\n",
    "rsz_dim = 256\n",
    "\n",
    "color = Image.open(file_name[i])\n",
    "color = np.asarray(color, dtype='uint32')\n",
    "\n",
    "xyz_hand_gt = xyz_gt[i].copy()\n",
    "uvd_hand_gt = uvd_gt[i].copy()\n",
    "\n",
    "pad = 50\n",
    "x_max = int(np.amax(uvd_hand_gt[:,0])) + pad\n",
    "x_min = np.maximum(int(np.amin(uvd_hand_gt[:,0])) - pad, 0)\n",
    "y_max = int(np.amax(uvd_hand_gt[:,1])) + pad\n",
    "y_min = np.maximum(int(np.amin(uvd_hand_gt[:,1])) - pad, 0)\n",
    "\n",
    "crop_hand = color[y_min:y_max, x_min:x_max, :]\n",
    "\n",
    "if crop_hand.size == 0:\n",
    "    print('no hand')\n",
    "\n",
    "uvd_hand_gt[:, 0] = uvd_hand_gt[:, 0] - x_min\n",
    "uvd_hand_gt[:, 1] = uvd_hand_gt[:, 1] - y_min\n",
    "\n",
    "crop_hand_rsz = resize(crop_hand, (rsz_dim, rsz_dim), order=3, preserve_range=True).astype('uint32')\n",
    "\n",
    "Rx = rsz_dim/crop_hand.shape[1]\n",
    "Ry = rsz_dim/crop_hand.shape[0]\n",
    "\n",
    "uvd_hand_gt_rsz = uvd_hand_gt.copy()\n",
    "uvd_hand_gt_rsz[:, 0] = uvd_hand_gt_rsz[:, 0]*Rx\n",
    "uvd_hand_gt_rsz[:, 1] = uvd_hand_gt_rsz[:, 1]*Ry\n",
    "\n",
    "scoremap = pd.create_multiple_gaussian_map(uvd_hand_gt_rsz, (rsz_dim, rsz_dim))\n",
    "\n",
    "xyz_hand_gt_norm, root_bone_length = pd.norm_keypoint(np.expand_dims(xyz_hand_gt, axis=0))\n",
    "xyz_hand_gt_canon, inv_rot_mat_i = pd.canonical_transform(xyz_hand_gt_norm)\n",
    "rot_mat_i = np.linalg.inv(inv_rot_mat_i)\n",
    "xyz_hand_gt_canon = np.squeeze(xyz_hand_gt_canon)"
   ]
  },
  {
   "cell_type": "code",
   "execution_count": null,
   "metadata": {},
   "outputs": [],
   "source": [
    "fig, ax = plt.subplots()\n",
    "ax.imshow(scoremap[:, :, 0])\n",
    "ax.set_title('scoremap_gt')"
   ]
  },
  {
   "cell_type": "code",
   "execution_count": null,
   "metadata": {},
   "outputs": [],
   "source": []
  },
  {
   "cell_type": "code",
   "execution_count": null,
   "metadata": {},
   "outputs": [],
   "source": []
  }
 ],
 "metadata": {
  "kernelspec": {
   "display_name": "Python 3",
   "language": "python",
   "name": "python3"
  },
  "language_info": {
   "codemirror_mode": {
    "name": "ipython",
    "version": 3
   },
   "file_extension": ".py",
   "mimetype": "text/x-python",
   "name": "python",
   "nbconvert_exporter": "python",
   "pygments_lexer": "ipython3",
   "version": "3.6.8"
  }
 },
 "nbformat": 4,
 "nbformat_minor": 2
}
