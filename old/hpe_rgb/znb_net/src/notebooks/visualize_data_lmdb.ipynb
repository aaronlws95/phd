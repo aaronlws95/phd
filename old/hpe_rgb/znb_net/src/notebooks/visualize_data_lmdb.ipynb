{
 "cells": [
  {
   "cell_type": "code",
   "execution_count": null,
   "metadata": {},
   "outputs": [],
   "source": [
    "import sys\n",
    "import os\n",
    "import numpy as np\n",
    "import cv2\n",
    "from matplotlib import pyplot as plt\n",
    "import scipy.ndimage.interpolation  as interplt\n",
    "from PIL import Image\n",
    "import lmdb\n",
    "import pickle\n",
    "import cv2\n",
    "\n",
    "sys.path.append(os.path.dirname(os.path.abspath('')))\n",
    "from utils.directory import DATA_DIR, DATASET_DIR\n",
    "import utils.visualize as visual\n",
    "import utils.convert_xyz_uvd as xyzuvd\n",
    "import utils.prepare_data as pd"
   ]
  },
  {
   "cell_type": "code",
   "execution_count": null,
   "metadata": {},
   "outputs": [],
   "source": [
    "save_prefix = 'train_fpha'\n",
    "img_dataroot = os.path.join(DATA_DIR, save_prefix + '_256_img.lmdb')\n",
    "img_env = lmdb.open(img_dataroot, readonly=True, lock=False, readahead=False, meminit=False)\n",
    "\n",
    "uvd_gt_scaled_dataroot = os.path.join(DATA_DIR, save_prefix + '_uvd_gt_scaled.lmdb')\n",
    "uvd_gt_scaled_env = lmdb.open(uvd_gt_scaled_dataroot, readonly=True, lock=False, readahead=False, meminit=False)\n",
    "\n",
    "xyz_gt_dataroot = os.path.join(DATA_DIR, save_prefix + '_xyz_gt.lmdb')\n",
    "xyz_gt_env = lmdb.open(xyz_gt_dataroot, readonly=True, lock=False, readahead=False, meminit=False)\n",
    "\n",
    "xyz_gt_canon_dataroot = os.path.join(DATA_DIR, save_prefix + '_xyz_gt_canon.lmdb')\n",
    "xyz_gt_canon_env = lmdb.open(xyz_gt_canon_dataroot, readonly=True, lock=False, readahead=False, meminit=False)\n",
    "\n",
    "rot_mat_dataroot = os.path.join(DATA_DIR, save_prefix + '_rot_mat.lmdb')\n",
    "rot_mat_env = lmdb.open(rot_mat_dataroot, readonly=True, lock=False, readahead=False, meminit=False)\n",
    "\n",
    "keys_cache_file = os.path.join(DATA_DIR, save_prefix + '_keys_cache.p')\n",
    "print('Read lmdb keys from cache: {}'.format(keys_cache_file))\n",
    "keys = pickle.load(open(keys_cache_file, \"rb\"))\n",
    "\n"
   ]
  },
  {
   "cell_type": "code",
   "execution_count": null,
   "metadata": {},
   "outputs": [],
   "source": [
    "train_pairs, test_pairs = pd.get_fpha_data_list_general('color', DATASET_DIR)\n",
    "\n",
    "file_name = [i for i,j in train_pairs]\n",
    "xyz_gt = [j for i,j in train_pairs]"
   ]
  },
  {
   "cell_type": "code",
   "execution_count": null,
   "metadata": {},
   "outputs": [],
   "source": [
    "# read one image\n",
    "idx = 0\n",
    "key = file_name[idx]\n",
    "img = pd.read_lmdb(key, img_env, np.uint32, (256, 256, 3))\n",
    "\n",
    "fig, ax = plt.subplots()\n",
    "ax.imshow(img)\n",
    "ax.set_title('img')"
   ]
  },
  {
   "cell_type": "code",
   "execution_count": null,
   "metadata": {},
   "outputs": [],
   "source": [
    "uvd_gt_scaled = pd.read_lmdb(key, uvd_gt_scaled_env, np.float32, (21, 3))\n",
    "\n",
    "scoremap_gt = pd.create_multiple_gaussian_map(uvd_gt_scaled, (256, 256))\n",
    "\n",
    "for i in range(21):\n",
    "    fig, ax = plt.subplots()\n",
    "    scoremap_show = cv2.cvtColor(scoremap_gt[:, :, i],cv2.COLOR_GRAY2RGB)\n",
    "    scoremap_show = cv2.normalize(scoremap_show, None, alpha = 0, beta = 255, norm_type = cv2.NORM_MINMAX, dtype = cv2.CV_8UC3)\n",
    "    show = 0.5*scoremap_show + 0.5*img\n",
    "    ax.imshow(show.astype('uint32'))\n",
    "    ax.set_title('scoremap_gt')"
   ]
  },
  {
   "cell_type": "code",
   "execution_count": null,
   "metadata": {},
   "outputs": [],
   "source": [
    "xyz_gt = pd.read_lmdb(key, xyz_gt_env, np.float32, (21, 3))\n",
    "xyz_gt_canon = pd.read_lmdb(key, xyz_gt_canon_env, np.float32, (21, 3))\n",
    "rot_mat = pd.read_lmdb(key, rot_mat_env, np.float32, (3, 3))\n",
    "keypoint_scale = pd.get_keypoint_scale(xyz_gt)\n",
    "\n",
    "coord_xyz_rec = np.matmul(xyz_gt_canon, rot_mat)*keypoint_scale\n",
    "coord_xyz_rec_gt = xyz_gt - xyz_gt[0, :]\n",
    "print(np.allclose(coord_xyz_rec, coord_xyz_rec_gt))"
   ]
  },
  {
   "cell_type": "code",
   "execution_count": null,
   "metadata": {},
   "outputs": [],
   "source": [
    "scoremap_dataroot = os.path.join(DATA_DIR, save_prefix + '_scoremap_32.lmdb')\n",
    "scoremap_env = lmdb.open(scoremap_dataroot, readonly=True, lock=False, readahead=False, meminit=False)\n",
    "scoremap = pd.read_lmdb(key, scoremap_env, np.float32, (32, 32, 21))\n",
    "scoremap_resized = pd.sk_resize(scoremap_gt, (32, 32)).astype('float32')\n",
    "img_32 = pd.sk_resize(img, (32, 32))\n",
    "for i in range(21):\n",
    "    fig, ax = plt.subplots()\n",
    "    scoremap_show = cv2.cvtColor(scoremap_resized[:, :, i],cv2.COLOR_GRAY2RGB)\n",
    "    scoremap_show = cv2.normalize(scoremap_show, None, alpha = 0, beta = 255, norm_type = cv2.NORM_MINMAX, dtype = cv2.CV_8UC3)\n",
    "    show = 0.5*scoremap_show + 0.5*img_32\n",
    "    ax.imshow(show.astype('uint32'))\n",
    "    ax.set_title('scoremap_gt')"
   ]
  },
  {
   "cell_type": "markdown",
   "metadata": {},
   "source": []
  },
  {
   "cell_type": "code",
   "execution_count": null,
   "metadata": {},
   "outputs": [],
   "source": []
  }
 ],
 "metadata": {
  "kernelspec": {
   "display_name": "Python 3",
   "language": "python",
   "name": "python3"
  },
  "language_info": {
   "codemirror_mode": {
    "name": "ipython",
    "version": 3
   },
   "file_extension": ".py",
   "mimetype": "text/x-python",
   "name": "python",
   "nbconvert_exporter": "python",
   "pygments_lexer": "ipython3",
   "version": "3.6.8"
  }
 },
 "nbformat": 4,
 "nbformat_minor": 2
}
