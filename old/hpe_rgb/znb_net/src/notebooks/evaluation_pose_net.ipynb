{
 "cells": [
  {
   "cell_type": "code",
   "execution_count": null,
   "metadata": {},
   "outputs": [],
   "source": [
    "import numpy as np\n",
    "import os\n",
    "import matplotlib.pyplot as plt\n",
    "import sys\n",
    "from PIL import Image\n",
    "import pickle\n",
    "import h5py\n",
    "import cv2\n",
    "from skimage.transform import resize\n",
    "\n",
    "sys.path.append(os.path.dirname(os.path.abspath('')))\n",
    "from utils.directory import DATA_DIR, DATASET_DIR\n",
    "import utils.prepare_data as pd\n",
    "import utils.error as error\n",
    "import utils.visualize as visual\n",
    "import utils.convert_xyz_uvd as xyzuvd\n",
    "# jupyter nbconvert --to html evaluation.ipynb"
   ]
  },
  {
   "cell_type": "code",
   "execution_count": null,
   "metadata": {},
   "outputs": [],
   "source": [
    "epoch = 100\n",
    "exp = 'pose_net_aug'\n",
    "\n",
    "data_split = 'train'\n",
    "save_prefix = 'train_fpha'\n",
    "keys_cache_file = os.path.join(DATA_DIR, save_prefix + '_keys_cache.p')\n",
    "train_keys = pickle.load(open(keys_cache_file, \"rb\"))\n",
    "dataroot_uvd_gt_scaled = os.path.join(DATA_DIR, save_prefix + '_uvd_gt_scaled.lmdb')\n",
    "dataroot_xyz_gt_saved = os.path.join(DATA_DIR, save_prefix + '_xyz_gt.lmdb')\n",
    "\n",
    "train_uvd_gt_scaled = pd.read_all_lmdb_from_file(train_keys, dataroot_uvd_gt_scaled, np.float32, (21, 3))\n",
    "train_xyz_gt = pd.read_all_lmdb_from_file(train_keys, dataroot_xyz_gt_saved, np.float32, (21, 3))\n",
    "train_uvd_gt = xyzuvd.xyz2uvd_color(np.asarray(train_xyz_gt))\n",
    "\n",
    "pred_file = os.path.join(DATA_DIR, exp, 'predict_%s_%s.txt' %(epoch, data_split))\n",
    "train_pred_uvd = pd.get_pred_uvd(pred_file, save_prefix)\n",
    "\n",
    "f= h5py.File(os.path.join(DATA_DIR, exp, 'scoremap_%s_%s.h5' %(epoch, data_split)))\n",
    "train_scoremap = f['scoremap'][...]\n",
    "f.close()\n",
    "\n",
    "data_split = 'test'\n",
    "save_prefix = 'test_fpha'\n",
    "keys_cache_file = os.path.join(DATA_DIR, save_prefix + '_keys_cache.p')\n",
    "test_keys = pickle.load(open(keys_cache_file, \"rb\"))\n",
    "dataroot_uvd_gt_scaled = os.path.join(DATA_DIR, save_prefix + '_uvd_gt_scaled.lmdb')\n",
    "dataroot_xyz_gt_saved = os.path.join(DATA_DIR, save_prefix + '_xyz_gt.lmdb')\n",
    "\n",
    "test_uvd_gt_scaled = pd.read_all_lmdb_from_file(test_keys, dataroot_uvd_gt_scaled, np.float32, (21, 3))\n",
    "test_xyz_gt = pd.read_all_lmdb_from_file(test_keys, dataroot_xyz_gt_saved, np.float32, (21, 3))\n",
    "test_uvd_gt = xyzuvd.xyz2uvd_color(np.asarray(test_xyz_gt))\n",
    "\n",
    "f= h5py.File(os.path.join(DATA_DIR, exp, 'scoremap_%s_%s.h5' %(epoch, data_split)))\n",
    "test_scoremap = f['scoremap'][...]\n",
    "f.close()\n",
    "\n",
    "pred_file = os.path.join(DATA_DIR, exp, 'predict_%s_%s.txt' %(epoch, data_split))\n",
    "test_pred_uvd = pd.get_pred_uvd(pred_file, save_prefix)\n",
    "\n",
    "train_uvd_gt = train_uvd_gt[:, :, :2]\n",
    "test_uvd_gt = test_uvd_gt[:, :, :2]"
   ]
  },
  {
   "cell_type": "code",
   "execution_count": null,
   "metadata": {},
   "outputs": [],
   "source": [
    "coord_frame = 'uvd'\n",
    "pred = train_pred_uvd\n",
    "true = train_uvd_gt\n",
    "print('%s TRAIN 2D mean_l2_error: ' %coord_frame, error.mean_pose_error(true, pred))\n",
    "pred = test_pred_uvd\n",
    "true = test_uvd_gt\n",
    "print('%s TEST 2D mean_l2_error: ' %coord_frame, error.mean_pose_error(true, pred))"
   ]
  },
  {
   "cell_type": "code",
   "execution_count": null,
   "metadata": {},
   "outputs": [],
   "source": [
    "# Percentage of correct key points\n",
    "# pred = np.reshape(train_pred_uvd, (-1, 42))\n",
    "# true = np.asarray(train_uvd_gt)\n",
    "pck = error.percentage_frames_within_error_curve_zimmmerman(true, pred)\n",
    "print(pck)\n",
    "thresholds = np.arange(0, 85, 5)\n",
    "print('AUC:', error.calc_auc(pck, thresholds))"
   ]
  },
  {
   "cell_type": "code",
   "execution_count": null,
   "metadata": {},
   "outputs": [],
   "source": [
    "# Percentage of correct key points\n",
    "# pred = np.reshape(test_pred_uvd, (-1, 42))\n",
    "# true = np.asarray(test_uvd_gt)\n",
    "pck = error.percentage_frames_within_error_curve_zimmmerman(true, pred)\n",
    "print('[', end =\" \")\n",
    "for num in pck:\n",
    "    print('%f, ' %num, end =\" \")\n",
    "print(']')\n",
    "thresholds = np.arange(0, 85, 5)\n",
    "print('AUC:', error.calc_auc(pck, thresholds))"
   ]
  },
  {
   "cell_type": "code",
   "execution_count": null,
   "metadata": {},
   "outputs": [],
   "source": [
    "idx = 0\n",
    "file_name = os.path.join(DATASET_DIR, 'First_Person_Action_Benchmark', 'Video_files', train_keys[idx])\n",
    "visual.show_true_pred_img_and_skel_color(file_name, train_uvd_gt[idx], train_pred_uvd[idx])"
   ]
  },
  {
   "cell_type": "code",
   "execution_count": null,
   "metadata": {},
   "outputs": [],
   "source": [
    "file_name = os.path.join(DATASET_DIR, 'First_Person_Action_Benchmark', 'Video_files', test_keys[idx])\n",
    "visual.show_true_pred_img_and_skel_color(file_name, test_uvd_gt[idx], test_pred_uvd[idx])"
   ]
  },
  {
   "cell_type": "code",
   "execution_count": null,
   "metadata": {},
   "outputs": [],
   "source": [
    "# idx = 1\n",
    "# img = Image.open()\n",
    "# scoremap_gt = pd.create_multiple_gaussian_map(train_uvd_gt_scaled[idx], (256, 256))\n",
    "\n",
    "# scoremap_i = pd.sk_resize(test_scoremap[idx], (256, 256))\n",
    "# for i in range(21):\n",
    "#     fig, ax = plt.subplots(1, 2)\n",
    "#     ax[0].imshow(visual.blend_scoremap_img(scoremap_i[:, :, i], img))\n",
    "#     ax[0].set_title('pred')\n",
    "#     ax[1].imshow(visual.blend_scoremap_img(scoremap_gt[:, :, i], img))\n",
    "#     ax[1].set_title('true')\n",
    "    "
   ]
  },
  {
   "cell_type": "code",
   "execution_count": null,
   "metadata": {},
   "outputs": [],
   "source": []
  }
 ],
 "metadata": {
  "kernelspec": {
   "display_name": "Python 3",
   "language": "python",
   "name": "python3"
  },
  "language_info": {
   "codemirror_mode": {
    "name": "ipython",
    "version": 3
   },
   "file_extension": ".py",
   "mimetype": "text/x-python",
   "name": "python",
   "nbconvert_exporter": "python",
   "pygments_lexer": "ipython3",
   "version": "3.6.8"
  }
 },
 "nbformat": 4,
 "nbformat_minor": 2
}
