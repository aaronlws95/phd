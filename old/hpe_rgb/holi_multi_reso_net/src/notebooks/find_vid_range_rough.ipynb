{
 "cells": [
  {
   "cell_type": "code",
   "execution_count": 30,
   "metadata": {},
   "outputs": [],
   "source": [
    "import os\n",
    "import sys\n",
    "import numpy as np\n",
    "from PIL import Image\n",
    "from matplotlib import pyplot as plt\n",
    "from skimage.transform import resize\n",
    "\n",
    "sys.path.append(os.path.dirname(os.path.abspath('')))\n",
    "import utils.prepare_data as pd\n",
    "import utils.visualize as visual\n",
    "import utils.convert_xyz_uvd as xyzuvd\n",
    "import utils.camera_info as cam\n",
    "from utils.directory import DATASET_DIR, DATA_DIR\n",
    "import utils.prepare_data as pd\n",
    "import utils.error as error"
   ]
  },
  {
   "cell_type": "code",
   "execution_count": 31,
   "metadata": {},
   "outputs": [],
   "source": [
    "data_split = 'test'\n",
    "data_file_h5py = os.path.join(DATA_DIR, '%s_fpha_RGB.h5' %data_split)\n",
    "_, _, _, _, _, _, _, file_name = pd.read_data_h5py(data_file_h5py)"
   ]
  },
  {
   "cell_type": "code",
   "execution_count": 41,
   "metadata": {
    "scrolled": false
   },
   "outputs": [],
   "source": [
    "file_name = [i.replace('media/aaron/SHAREDDATA', '4TB/aaron') for i in file_name]\n",
    "\n",
    "vid_list = []\n",
    "save_file_comp = []\n",
    "for i, file in enumerate(file_name):\n",
    "    if file[-9:] == '0000.jpeg':\n",
    "        file_comp = file.split('/')\n",
    "        if i != 0:\n",
    "            name = (save_file_comp[5] + '_' + save_file_comp[6] + '_' + save_file_comp[7] + '_' + save_file_comp[8]).lower()\n",
    "            vid_list.append((start_i, i, name))\n",
    "        start_i = i\n",
    "        save_file_comp = file_comp"
   ]
  },
  {
   "cell_type": "code",
   "execution_count": 42,
   "metadata": {},
   "outputs": [
    {
     "name": "stdout",
     "output_type": "stream",
     "text": [
      "subject_1_open_juice_bottle_1_color\n"
     ]
    }
   ],
   "source": [
    "print(vid_list[0][2])"
   ]
  },
  {
   "cell_type": "code",
   "execution_count": 23,
   "metadata": {},
   "outputs": [
    {
     "data": {
      "text/plain": [
       "range(0, 152)"
      ]
     },
     "execution_count": 23,
     "metadata": {},
     "output_type": "execute_result"
    }
   ],
   "source": [
    "idx = 0\n",
    "range(vid_list[idx][0], vid_list[idx][1])"
   ]
  },
  {
   "cell_type": "code",
   "execution_count": null,
   "metadata": {},
   "outputs": [],
   "source": []
  }
 ],
 "metadata": {
  "kernelspec": {
   "display_name": "Python 3",
   "language": "python",
   "name": "python3"
  },
  "language_info": {
   "codemirror_mode": {
    "name": "ipython",
    "version": 3
   },
   "file_extension": ".py",
   "mimetype": "text/x-python",
   "name": "python",
   "nbconvert_exporter": "python",
   "pygments_lexer": "ipython3",
   "version": "3.6.8"
  }
 },
 "nbformat": 4,
 "nbformat_minor": 2
}
