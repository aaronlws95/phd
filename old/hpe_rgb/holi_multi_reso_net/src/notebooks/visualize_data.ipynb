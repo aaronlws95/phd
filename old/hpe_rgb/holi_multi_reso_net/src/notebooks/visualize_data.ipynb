{
 "cells": [
  {
   "cell_type": "code",
   "execution_count": 5,
   "metadata": {},
   "outputs": [],
   "source": [
    "import sys\n",
    "import os\n",
    "import numpy as np\n",
    "import cv2\n",
    "from matplotlib import pyplot as plt\n",
    "import scipy.ndimage.interpolation  as interplt\n",
    "from PIL import Image\n",
    "import h5py\n",
    "\n",
    "sys.path.append(os.path.dirname(os.path.abspath('')))\n",
    "from utils.directory import DATA_DIR\n",
    "import utils.visualize as visual\n",
    "import utils.convert_xyz_uvd as xyzuvd"
   ]
  },
  {
   "cell_type": "code",
   "execution_count": 6,
   "metadata": {},
   "outputs": [
    {
     "name": "stdout",
     "output_type": "stream",
     "text": [
      "keys= ['file_name', 'hand_center_uvd', 'img0', 'img1', 'img2', 'uvd_gt', 'uvd_norm_gt', 'xyz_gt']\n"
     ]
    }
   ],
   "source": [
    "load_file = os.path.join(DATA_DIR, 'train_fpha_RGB.h5')\n",
    "\n",
    "f = h5py.File(load_file, 'r')\n",
    "print('keys=', list(f.keys()))\n",
    "img0 = f['img0'][...].astype('uint32')\n",
    "img1 = f['img1'][...].astype('uint32')\n",
    "img2 = f['img2'][...].astype('uint32')\n",
    "uvd_norm_gt = f['uvd_norm_gt'][...]\n",
    "uvd_gt = f['uvd_gt'][...]\n",
    "xyz_gt = f['xyz_gt'][...]\n",
    "hand_center_uvd = f['hand_center_uvd'][...]\n",
    "file_name = f['file_name'][...]\n",
    "f.close()"
   ]
  },
  {
   "cell_type": "code",
   "execution_count": 10,
   "metadata": {},
   "outputs": [
    {
     "name": "stdout",
     "output_type": "stream",
     "text": [
      "[ 486.8979   513.9316   538.31903  495.456    466.3737   445.14252\n",
      "  478.2317   460.84988  484.9977   515.7063   504.13837  475.53122\n",
      "  586.4288  2793.258   3728.813    465.6743   463.15045  455.8027\n",
      "  455.47144  465.2278   456.3921 ]\n",
      "[854.54517 856.9098  549.1657  553.3642  568.6982  594.07654 575.24146\n",
      " 513.50476 488.81815 483.6735  473.88568 472.13043 515.43665 501.6856\n",
      " 510.83853 534.7953  531.3101  545.5359  548.5508  552.4797  564.947  ]\n",
      "[673.5815  670.8925  726.30804 728.2298  726.0991  718.348   694.3733\n",
      " 732.8629  759.48987 755.48285 783.1064  798.16    756.12445 785.3211\n",
      " 797.2109  746.8432  777.0088  788.3738  737.5478  764.6216  776.3513 ]\n"
     ]
    },
    {
     "ename": "FileNotFoundError",
     "evalue": "[Errno 2] No such file or directory: '/media/aaron/SHAREDDATA/First_Person_Action_Benchmark/Video_files/Subject_1/open_juice_bottle/2/color/color_0000.jpeg'",
     "output_type": "error",
     "traceback": [
      "\u001b[0;31m---------------------------------------------------------------------------\u001b[0m",
      "\u001b[0;31mFileNotFoundError\u001b[0m                         Traceback (most recent call last)",
      "\u001b[0;32m<ipython-input-10-1d08d1a54243>\u001b[0m in \u001b[0;36m<module>\u001b[0;34m\u001b[0m\n\u001b[1;32m      7\u001b[0m \u001b[0midx\u001b[0m\u001b[0;34m=\u001b[0m\u001b[0;36m0\u001b[0m\u001b[0;34m\u001b[0m\u001b[0;34m\u001b[0m\u001b[0m\n\u001b[1;32m      8\u001b[0m \u001b[0mcur_frame\u001b[0m \u001b[0;34m=\u001b[0m \u001b[0mfile_name\u001b[0m\u001b[0;34m[\u001b[0m\u001b[0midx\u001b[0m\u001b[0;34m]\u001b[0m\u001b[0;34m\u001b[0m\u001b[0;34m\u001b[0m\u001b[0m\n\u001b[0;32m----> 9\u001b[0;31m \u001b[0mvisual\u001b[0m\u001b[0;34m.\u001b[0m\u001b[0mshow_img_and_skel_color\u001b[0m\u001b[0;34m(\u001b[0m\u001b[0mcur_frame\u001b[0m\u001b[0;34m,\u001b[0m \u001b[0muvd_gt\u001b[0m\u001b[0;34m[\u001b[0m\u001b[0midx\u001b[0m\u001b[0;34m]\u001b[0m\u001b[0;34m)\u001b[0m\u001b[0;34m\u001b[0m\u001b[0;34m\u001b[0m\u001b[0m\n\u001b[0m",
      "\u001b[0;32m~/hpe_rgb/holi_multi_reso_net/src/utils/visualize.py\u001b[0m in \u001b[0;36mshow_img_and_skel_color\u001b[0;34m(file_name, uvd_gt)\u001b[0m\n\u001b[1;32m     10\u001b[0m         \u001b[0muvd_gt\u001b[0m \u001b[0;34m=\u001b[0m \u001b[0mnp\u001b[0m\u001b[0;34m.\u001b[0m\u001b[0mreshape\u001b[0m\u001b[0;34m(\u001b[0m\u001b[0muvd_gt\u001b[0m\u001b[0;34m,\u001b[0m \u001b[0;34m(\u001b[0m\u001b[0;36m21\u001b[0m\u001b[0;34m,\u001b[0m \u001b[0;36m3\u001b[0m\u001b[0;34m)\u001b[0m\u001b[0;34m)\u001b[0m\u001b[0;34m\u001b[0m\u001b[0;34m\u001b[0m\u001b[0m\n\u001b[1;32m     11\u001b[0m \u001b[0;34m\u001b[0m\u001b[0m\n\u001b[0;32m---> 12\u001b[0;31m     \u001b[0mcolor\u001b[0m \u001b[0;34m=\u001b[0m \u001b[0mImage\u001b[0m\u001b[0;34m.\u001b[0m\u001b[0mopen\u001b[0m\u001b[0;34m(\u001b[0m\u001b[0mfile_name\u001b[0m\u001b[0;34m)\u001b[0m\u001b[0;34m\u001b[0m\u001b[0;34m\u001b[0m\u001b[0m\n\u001b[0m\u001b[1;32m     13\u001b[0m     \u001b[0mcolor\u001b[0m \u001b[0;34m=\u001b[0m \u001b[0mnp\u001b[0m\u001b[0;34m.\u001b[0m\u001b[0masarray\u001b[0m\u001b[0;34m(\u001b[0m\u001b[0mcolor\u001b[0m\u001b[0;34m,\u001b[0m \u001b[0mdtype\u001b[0m\u001b[0;34m=\u001b[0m\u001b[0;34m'uint32'\u001b[0m\u001b[0;34m)\u001b[0m\u001b[0;34m\u001b[0m\u001b[0;34m\u001b[0m\u001b[0m\n\u001b[1;32m     14\u001b[0m     \u001b[0mfig\u001b[0m\u001b[0;34m,\u001b[0m \u001b[0max\u001b[0m \u001b[0;34m=\u001b[0m \u001b[0mplt\u001b[0m\u001b[0;34m.\u001b[0m\u001b[0msubplots\u001b[0m\u001b[0;34m(\u001b[0m\u001b[0;34m)\u001b[0m\u001b[0;34m\u001b[0m\u001b[0;34m\u001b[0m\u001b[0m\n",
      "\u001b[0;32m~/anaconda3/envs/tf_cu9/lib/python3.6/site-packages/PIL/Image.py\u001b[0m in \u001b[0;36mopen\u001b[0;34m(fp, mode)\u001b[0m\n\u001b[1;32m   2632\u001b[0m \u001b[0;34m\u001b[0m\u001b[0m\n\u001b[1;32m   2633\u001b[0m     \u001b[0;32mif\u001b[0m \u001b[0mfilename\u001b[0m\u001b[0;34m:\u001b[0m\u001b[0;34m\u001b[0m\u001b[0;34m\u001b[0m\u001b[0m\n\u001b[0;32m-> 2634\u001b[0;31m         \u001b[0mfp\u001b[0m \u001b[0;34m=\u001b[0m \u001b[0mbuiltins\u001b[0m\u001b[0;34m.\u001b[0m\u001b[0mopen\u001b[0m\u001b[0;34m(\u001b[0m\u001b[0mfilename\u001b[0m\u001b[0;34m,\u001b[0m \u001b[0;34m\"rb\"\u001b[0m\u001b[0;34m)\u001b[0m\u001b[0;34m\u001b[0m\u001b[0;34m\u001b[0m\u001b[0m\n\u001b[0m\u001b[1;32m   2635\u001b[0m         \u001b[0mexclusive_fp\u001b[0m \u001b[0;34m=\u001b[0m \u001b[0;32mTrue\u001b[0m\u001b[0;34m\u001b[0m\u001b[0;34m\u001b[0m\u001b[0m\n\u001b[1;32m   2636\u001b[0m \u001b[0;34m\u001b[0m\u001b[0m\n",
      "\u001b[0;31mFileNotFoundError\u001b[0m: [Errno 2] No such file or directory: '/media/aaron/SHAREDDATA/First_Person_Action_Benchmark/Video_files/Subject_1/open_juice_bottle/2/color/color_0000.jpeg'"
     ]
    }
   ],
   "source": [
    "idx=0\n",
    "cur_frame = file_name[idx]\n",
    "visual.show_img_and_skel_color(cur_frame, uvd_gt[idx])"
   ]
  },
  {
   "cell_type": "code",
   "execution_count": null,
   "metadata": {},
   "outputs": [],
   "source": [
    "fig, ax = plt.subplots(1,3,figsize=(18, 16))\n",
    "ax[0].imshow(img0[idx])\n",
    "ax[0].set_title('img0')\n",
    "ax[1].imshow(img1[idx])\n",
    "ax[1].set_title('img1')\n",
    "ax[2].imshow(img2[idx])\n",
    "ax[2].set_title('img2')"
   ]
  },
  {
   "cell_type": "code",
   "execution_count": null,
   "metadata": {},
   "outputs": [],
   "source": [
    "new_xyz_gt, new_uvd_gt = xyzuvd.normuvd2xyzuvd_color(uvd_norm_gt, hand_center_uvd)\n",
    "visual.show_img_and_skel_color(cur_frame, new_uvd_gt[idx])"
   ]
  },
  {
   "cell_type": "code",
   "execution_count": null,
   "metadata": {},
   "outputs": [],
   "source": []
  }
 ],
 "metadata": {
  "kernelspec": {
   "display_name": "Python 3",
   "language": "python",
   "name": "python3"
  },
  "language_info": {
   "codemirror_mode": {
    "name": "ipython",
    "version": 3
   },
   "file_extension": ".py",
   "mimetype": "text/x-python",
   "name": "python",
   "nbconvert_exporter": "python",
   "pygments_lexer": "ipython3",
   "version": "3.6.8"
  }
 },
 "nbformat": 4,
 "nbformat_minor": 2
}
