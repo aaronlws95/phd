{
 "cells": [
  {
   "cell_type": "code",
   "execution_count": null,
   "metadata": {},
   "outputs": [],
   "source": [
    "import os\n",
    "import sys\n",
    "from PIL import Image\n",
    "import matplotlib.pyplot as plt\n",
    "import numpy as np\n",
    "from skimage.transform import resize\n",
    "import torch\n",
    "import torch.nn as nn\n",
    "import cv2\n",
    "\n",
    "sys.path.append(os.path.dirname(os.path.abspath('')))\n",
    "import utils.prepare_data as pd\n",
    "import utils.xyzuvd as xyzuvd\n",
    "import utils.visual as visual\n",
    "from utils.directory import DATA_DIR, DATASET_DIR\n",
    "import model as m\n",
    "import loss as l\n",
    "import dataset as d\n",
    "import hpo_net as hnet"
   ]
  },
  {
   "cell_type": "code",
   "execution_count": null,
   "metadata": {},
   "outputs": [],
   "source": [
    "save_prefix = 'train_fpha'\n",
    "dataset = d.FPHA(save_prefix, aug=True)\n",
    "data_loader = torch.utils.data.DataLoader(dataset=dataset,\n",
    "                                           batch_size=1,\n",
    "                                           shuffle=False,\n",
    "                                           num_workers=4,\n",
    "                                           sampler=None)\n",
    "REORDER = visual.REORDER"
   ]
  },
  {
   "cell_type": "code",
   "execution_count": null,
   "metadata": {},
   "outputs": [],
   "source": [
    "i = 0\n",
    "idx = 0\n",
    "for img, uvd_gt_no_offset, uvd_gt, hand_cell_idx in data_loader:\n",
    "    if i == idx:\n",
    "        uvd_gt = np.squeeze(uvd_gt)\n",
    "        uvd_gt_no_offset = np.squeeze(uvd_gt_no_offset)\n",
    "#         uvd_gt_no_offset[..., 0] = uvd_gt_no_offset[..., 0]*416\n",
    "#         uvd_gt_no_offset[..., 1] = uvd_gt_no_offset[..., 1]*416\n",
    "        img = np.squeeze(np.reshape(img, (img.shape[0], img.shape[2], img.shape[3], img.shape[1])))\n",
    "        img = cv2.normalize(np.asarray(img), None, alpha = 0, beta = 255, norm_type = cv2.NORM_MINMAX, dtype = cv2.CV_8UC3)\n",
    "        fig, ax = plt.subplots(figsize=(15, 15))\n",
    "        ax.imshow(img)\n",
    "        visual.visualize_joints_2d(ax, uvd_gt[REORDER], joint_idxs=False)\n",
    "        visual.visualize_joints_2d(ax, uvd_gt_no_offset[REORDER], joint_idxs=False)\n",
    "\n",
    "        index = np.where(hand_cell_idx.flatten() == 1)\n",
    "        index = np.asarray(np.unravel_index(index, (13, 13, 5)))\n",
    "        index = np.squeeze(index)\n",
    "        import matplotlib.patches as patches\n",
    "        fig, ax = plt.subplots(figsize=(13,13))\n",
    "        ax.imshow(img)\n",
    "        visual.visualize_joints_2d(ax, uvd_gt[REORDER], joint_idxs=False)\n",
    "        for i in range(index.shape[1]):\n",
    "            x = index[0, i]\n",
    "            y = index[1, i]\n",
    "            rect = patches.Rectangle((x*32,y*32),32,32,linewidth=1,edgecolor='r', facecolor='r', fill=True, alpha=0.5)\n",
    "            ax.add_patch(rect)\n",
    "        fig, ax = plt.subplots(figsize=(13,13))\n",
    "        visual.visualize_joints_2d(ax, uvd_gt_no_offset[REORDER], joint_idxs=False)\n",
    "        break\n",
    "    i += 1"
   ]
  },
  {
   "cell_type": "code",
   "execution_count": null,
   "metadata": {},
   "outputs": [],
   "source": []
  }
 ],
 "metadata": {
  "kernelspec": {
   "display_name": "Python 3",
   "language": "python",
   "name": "python3"
  },
  "language_info": {
   "codemirror_mode": {
    "name": "ipython",
    "version": 3
   },
   "file_extension": ".py",
   "mimetype": "text/x-python",
   "name": "python",
   "nbconvert_exporter": "python",
   "pygments_lexer": "ipython3",
   "version": "3.6.8"
  }
 },
 "nbformat": 4,
 "nbformat_minor": 2
}
