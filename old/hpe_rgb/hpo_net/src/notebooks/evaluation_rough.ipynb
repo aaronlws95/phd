{
 "cells": [
  {
   "cell_type": "code",
   "execution_count": null,
   "metadata": {},
   "outputs": [],
   "source": [
    "import os\n",
    "import sys\n",
    "from PIL import Image\n",
    "import matplotlib.pyplot as plt\n",
    "import numpy as np\n",
    "from skimage.transform import resize\n",
    "\n",
    "sys.path.append(os.path.dirname(os.path.abspath('')))\n",
    "import utils.prepare_data as pd\n",
    "import utils.xyzuvd as xyzuvd\n",
    "import utils.visual as visual\n",
    "import utils.error as error\n",
    "from utils.directory import DATA_DIR, DATASET_DIR"
   ]
  },
  {
   "cell_type": "code",
   "execution_count": null,
   "metadata": {},
   "outputs": [],
   "source": [
    "data_split = 'train'\n",
    "save_prefix = '%s_fpha' %data_split\n",
    "keys = pd.get_keys(save_prefix)\n",
    "xyz_gt = np.array(pd.read_all_lmdb_from_name(keys, save_prefix, 'xyz_gt', 'float32', (21, 3)))\n",
    "uvd_gt_resize = np.array(pd.read_all_lmdb_from_name(keys, save_prefix, 'uvd_gt_resize', 'float32', (21, 3)))\n",
    "\n",
    "xyz_gt = xyz_gt\n",
    "uvd_gt_resize = uvd_gt_resize\n",
    "uvd_gt = xyzuvd.xyz2uvd_color(xyz_gt)\n",
    "REORDER = visual.REORDER\n",
    "\n",
    "epoch = 54\n",
    "exp = 'big_test'\n",
    "pred_file = os.path.join(DATA_DIR, exp, 'predict_%s_%s_uvd.txt' %(epoch, data_split))\n",
    "pred_uvd_resize = pd.read_predict(pred_file)\n",
    "pred_uvd_resize = np.reshape(pred_uvd_resize, (-1, 21, 3))\n",
    "pred_uvd = pd.scale_annot_wh(pred_uvd_resize, (416, 416), (1920, 1080))\n",
    "pred_xyz = xyzuvd.uvd2xyz_color(pred_uvd)\n",
    "pred_file_845 = os.path.join(DATA_DIR, exp, 'predict_%s_%s_uvd_845.txt' %(epoch, data_split))\n",
    "pred_uvd_resize_845 = pd.read_predict(pred_file_845)\n",
    "pred_uvd_resize_845 = np.reshape(pred_uvd_resize_845, (-1, 845, 21, 3))"
   ]
  },
  {
   "cell_type": "code",
   "execution_count": null,
   "metadata": {},
   "outputs": [],
   "source": [
    "print('%s UVD RESIZED mean_l2_error: ' %data_split, error.mean_pose_error(uvd_gt_resize, pred_uvd_resize))\n",
    "print('%s UVD mean_l2_error: ' %data_split, error.mean_pose_error(uvd_gt, pred_uvd))\n",
    "print('%s XYZ mean_l2_error: ' %data_split, error.mean_pose_error(xyz_gt, pred_xyz))"
   ]
  },
  {
   "cell_type": "code",
   "execution_count": null,
   "metadata": {},
   "outputs": [],
   "source": [
    "idx = 0\n",
    "file_name_i = keys[idx]\n",
    "img = pd.get_img(file_name_i)\n",
    "pred_uvd_i = pred_uvd[idx]\n",
    "uvd_gt_i_resize = uvd_gt[idx]\n",
    "\n",
    "fig, ax = plt.subplots(1,2, figsize=(12,12))\n",
    "ax[0].imshow(img)\n",
    "ax[0].set_title('pred')\n",
    "visual.visualize_joints_2d(ax[0], pred_uvd_i[REORDER], joint_idxs=False)\n",
    "ax[1].imshow(img)\n",
    "ax[1].set_title('true')\n",
    "visual.visualize_joints_2d(ax[1], uvd_gt_i_resize[REORDER], joint_idxs=False)"
   ]
  },
  {
   "cell_type": "code",
   "execution_count": null,
   "metadata": {},
   "outputs": [],
   "source": [
    "img = pd.resize_img(img, (416, 416))\n",
    "pred_uvd_i = pred_uvd_resize[idx]\n",
    "uvd_gt_i_resize = uvd_gt_resize[idx]\n",
    "\n",
    "fig, ax = plt.subplots(1,2, figsize=(12,12))\n",
    "ax[0].imshow(img)\n",
    "ax[0].set_title('pred')\n",
    "visual.visualize_joints_2d(ax[0], pred_uvd_i[REORDER], joint_idxs=False)\n",
    "ax[1].imshow(img)\n",
    "ax[1].set_title('true')\n",
    "visual.visualize_joints_2d(ax[1], uvd_gt_i_resize[REORDER], joint_idxs=False)"
   ]
  },
  {
   "cell_type": "markdown",
   "metadata": {},
   "source": [
    "# Analysis"
   ]
  },
  {
   "cell_type": "code",
   "execution_count": null,
   "metadata": {},
   "outputs": [],
   "source": [
    "pred_conf_file = os.path.join(DATA_DIR, exp, 'predict_%s_%s_conf.txt' %(epoch, data_split))\n",
    "pred_conf = pd.read_predict(pred_conf_file)\n",
    "pred_conf = np.array(pred_conf)\n",
    "\n",
    "pred_conf_i = pred_conf[idx]\n",
    "norm_pred_conf_i = (pred_conf_i - np.amin(pred_conf_i))/(np.amax(pred_conf_i) - np.amin(pred_conf_i))"
   ]
  },
  {
   "cell_type": "code",
   "execution_count": null,
   "metadata": {},
   "outputs": [],
   "source": [
    "max_idx = []\n",
    "for i in range(len(norm_pred_conf_i)//5):\n",
    "    max_idx.append(i*5 + np.argmax(norm_pred_conf_i[i*5:i*5+5]))\n",
    "    \n",
    "best_idx = np.argmax(norm_pred_conf_i[max_idx])\n",
    "best_hand_idx = max_idx[best_idx]"
   ]
  },
  {
   "cell_type": "code",
   "execution_count": null,
   "metadata": {},
   "outputs": [],
   "source": [
    "show_uvd = pred_uvd_resize_845[0, best_hand_idx]\n",
    "\n",
    "import matplotlib.patches as patches\n",
    "fig, ax = plt.subplots(figsize=(13,13))\n",
    "visual.visualize_joints_2d(ax, show_uvd[REORDER], joint_idxs=False)\n",
    "ax.imshow(img)\n",
    "for i in range(len(max_idx)):\n",
    "    index = np.unravel_index(i, (13, 13))\n",
    "    x = index[0]\n",
    "    y = index[1]\n",
    "    al = norm_pred_conf_i[max_idx[i]]\n",
    "    if al == np.amax(norm_pred_conf_i):\n",
    "        c = 'r'\n",
    "    elif al <= 0.9:\n",
    "        c = 'b'\n",
    "    else:\n",
    "        c = 'y'\n",
    "    rect = patches.Rectangle((x*32,y*32),32,32,linewidth=1, edgecolor=c, facecolor=c, fill=True, alpha=al)\n",
    "    ax.add_patch(rect)"
   ]
  },
  {
   "cell_type": "code",
   "execution_count": null,
   "metadata": {},
   "outputs": [],
   "source": [
    "pred_uvd_i = pred_uvd_resize[idx]\n",
    "uvd_gt_i_resize = uvd_gt_resize[idx]\n",
    "\n",
    "fig, ax = plt.subplots(1,2, figsize=(12,12))\n",
    "ax[0].imshow(img)\n",
    "ax[0].set_title('pred')\n",
    "visual.visualize_joints_2d(ax[0], show_uvd[REORDER], joint_idxs=False)\n",
    "ax[1].imshow(img)\n",
    "ax[1].set_title('true')\n",
    "visual.visualize_joints_2d(ax[1], uvd_gt_i_resize[REORDER], joint_idxs=False)"
   ]
  },
  {
   "cell_type": "code",
   "execution_count": null,
   "metadata": {},
   "outputs": [],
   "source": [
    "print('pred best conf: ', np.argmax(pred_conf_i), pred_conf[idx, np.argmax(pred_conf_i)])\n",
    "print('pred better conf: ', best_hand_idx, pred_conf[idx, best_hand_idx])"
   ]
  },
  {
   "cell_type": "code",
   "execution_count": null,
   "metadata": {},
   "outputs": [],
   "source": [
    "def get_true_conf(pred_uvd, true_uvd):\n",
    "\n",
    "    def l2dist(pred, true):\n",
    "        return np.mean(np.sqrt(np.sum((pred-true)**2, axis=-1)), axis=-1)\n",
    "\n",
    "    alpha = 2\n",
    "\n",
    "    d_th = 75\n",
    "    true_uvd_expand = np.repeat(true_uvd[np.newaxis, :, :], 845, axis=0)\n",
    "    D_T = l2dist(pred_uvd, true_uvd_expand)\n",
    "    conf = np.exp(alpha*(1-(D_T/d_th)))\n",
    "    conf_thresh = conf.copy()\n",
    "    conf_thresh[D_T >= d_th] = 0\n",
    "    return conf_thresh\n",
    "\n",
    "\n",
    "pred_uvd_resize_845_i = pred_uvd_resize_845[idx]\n",
    "true_conf = get_true_conf(pred_uvd_resize_845_i, uvd_gt_i_resize)\n",
    "print(np.argmax(true_conf))"
   ]
  },
  {
   "cell_type": "code",
   "execution_count": null,
   "metadata": {},
   "outputs": [],
   "source": []
  },
  {
   "cell_type": "code",
   "execution_count": null,
   "metadata": {},
   "outputs": [],
   "source": []
  }
 ],
 "metadata": {
  "kernelspec": {
   "display_name": "Python 3",
   "language": "python",
   "name": "python3"
  },
  "language_info": {
   "codemirror_mode": {
    "name": "ipython",
    "version": 3
   },
   "file_extension": ".py",
   "mimetype": "text/x-python",
   "name": "python",
   "nbconvert_exporter": "python",
   "pygments_lexer": "ipython3",
   "version": "3.6.8"
  }
 },
 "nbformat": 4,
 "nbformat_minor": 2
}
