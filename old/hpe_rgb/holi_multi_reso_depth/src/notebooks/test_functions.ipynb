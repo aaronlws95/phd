{
 "cells": [
  {
   "cell_type": "code",
   "execution_count": null,
   "metadata": {},
   "outputs": [],
   "source": [
    "import os\n",
    "import sys\n",
    "import numpy as np \n",
    "\n",
    "sys.path.append(os.path.dirname(os.path.abspath('')))\n",
    "import utils.prepare_data as pd\n",
    "import utils.convert_xyz_uvd as xyzuvd\n",
    "import utils.visualize as v"
   ]
  },
  {
   "cell_type": "code",
   "execution_count": null,
   "metadata": {},
   "outputs": [],
   "source": [
    "dataset_dir = '/media/aaron/SHAREDDATA/First_Person_Action_Benchmark'"
   ]
  },
  {
   "cell_type": "code",
   "execution_count": null,
   "metadata": {},
   "outputs": [],
   "source": [
    "train_pairs, test_pairs = pd.get_fpha_data_list('depth', dataset_dir)\n",
    "file_name = [i for i,j in train_pairs]\n",
    "xyz_gt = [j for i,j in train_pairs]"
   ]
  },
  {
   "cell_type": "markdown",
   "metadata": {},
   "source": [
    "### Test depth xyz uvd conversion"
   ]
  },
  {
   "cell_type": "code",
   "execution_count": null,
   "metadata": {},
   "outputs": [],
   "source": [
    "xyz_gt = np.reshape(xyz_gt,(-1, 21, 3))\n",
    "uvd_gt = xyzuvd.xyz2uvd_depth(xyz_gt)\n",
    "xyz_gt_new = xyzuvd.uvd2xyz_depth(uvd_gt)\n",
    "\n",
    "print(np.allclose(xyz_gt, xyz_gt_new))\n",
    "\n",
    "v.show_img_and_skel_depth(file_name[0], uvd_gt[0])"
   ]
  },
  {
   "cell_type": "code",
   "execution_count": null,
   "metadata": {},
   "outputs": [],
   "source": []
  }
 ],
 "metadata": {
  "kernelspec": {
   "display_name": "Python 3",
   "language": "python",
   "name": "python3"
  },
  "language_info": {
   "codemirror_mode": {
    "name": "ipython",
    "version": 3
   },
   "file_extension": ".py",
   "mimetype": "text/x-python",
   "name": "python",
   "nbconvert_exporter": "python",
   "pygments_lexer": "ipython3",
   "version": "3.6.8"
  }
 },
 "nbformat": 4,
 "nbformat_minor": 2
}
