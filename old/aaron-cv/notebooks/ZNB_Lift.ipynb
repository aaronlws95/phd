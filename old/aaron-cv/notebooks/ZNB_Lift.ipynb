{
 "cells": [
  {
   "cell_type": "code",
   "execution_count": null,
   "metadata": {},
   "outputs": [],
   "source": [
    "import os\n",
    "import sys\n",
    "from PIL import Image\n",
    "import matplotlib.pyplot as plt\n",
    "import numpy as np\n",
    "import torch\n",
    "import torch.nn as nn\n",
    "import cv2\n",
    "from tqdm import tqdm\n",
    "from pathlib import Path\n",
    "from torch.utils.data import DataLoader\n",
    "\n",
    "WORK_DIR = Path(Path.cwd()).parent\n",
    "sys.path.append(str(WORK_DIR))\n",
    "from src.datasets import get_dataset, get_dataloader\n",
    "from src.utils import parse_data_cfg, IMG, DATA_DIR, RHD"
   ]
  },
  {
   "cell_type": "code",
   "execution_count": null,
   "metadata": {},
   "outputs": [],
   "source": [
    "cfg = parse_data_cfg(WORK_DIR/'data_cfg'/'znb_lift_data_mod1.cfg')\n",
    "epoch = 200\n",
    "exp_dir = cfg[\"exp_dir\"]\n",
    "data_split = 'test'\n",
    "split_set = cfg[data_split + '_set']\n",
    "img_size = int(cfg['img_size'])"
   ]
  },
  {
   "cell_type": "markdown",
   "metadata": {},
   "source": [
    "# Visualize Dataloader"
   ]
  },
  {
   "cell_type": "code",
   "execution_count": null,
   "metadata": {},
   "outputs": [],
   "source": [
    "dataset_kwargs = {'split_set': split_set}\n",
    "cfg['visual'] = True # for visualisation\n",
    "dataset   = get_dataset(cfg, dataset_kwargs)\n",
    "sampler   = None\n",
    "shuffle   = cfg['shuffle']\n",
    "kwargs = {'batch_size'  :   int(cfg['batch_size']),\n",
    "          'shuffle'     :   shuffle,\n",
    "          'num_workers' :   int(cfg['num_workers']),\n",
    "          'pin_memory'  :   True}\n",
    "data_loader = get_dataloader(dataset, sampler, kwargs)\n"
   ]
  },
  {
   "cell_type": "code",
   "execution_count": null,
   "metadata": {},
   "outputs": [],
   "source": [
    "idx = 0\n",
    "for i, (scoremap, xyz_gt_canon, rot_mat, uv_gt, kpt_scale, crop, K, xyz_gt, img, hand_side) in enumerate(data_loader):\n",
    "    if i == idx:\n",
    "        img = img.cpu().numpy()\n",
    "        img = IMG.scale_img_255(img)\n",
    "        crop = crop.cpu().numpy()\n",
    "        crop = IMG.scale_img_255(crop)        \n",
    "        scoremap = scoremap.cpu().numpy()\n",
    "        scoremap = np.swapaxes(scoremap, 2, 3)\n",
    "        scoremap = np.swapaxes(scoremap, 1, 3)\n",
    "        xyz_gt_canon = xyz_gt_canon.cpu().numpy()\n",
    "        rot_mat = rot_mat.cpu().numpy()\n",
    "        uv_gt = uv_gt.cpu().numpy()\n",
    "        kpt_scale = kpt_scale.cpu().numpy()\n",
    "        xyz_gt = xyz_gt.cpu().numpy()\n",
    "        hand_side = hand_side.numpy()\n",
    "        break\n",
    "    i += 1"
   ]
  },
  {
   "cell_type": "code",
   "execution_count": null,
   "metadata": {},
   "outputs": [],
   "source": [
    "idx = 0\n",
    "cur_smap       = scoremap[idx]\n",
    "cur_img        = img[idx]\n",
    "cur_crop       = crop[idx]\n",
    "cur_uv         = uv_gt[idx]\n",
    "cur_rot_mat    = rot_mat[idx]\n",
    "cur_xyz_canon  = xyz_gt_canon[idx]\n",
    "cur_kpt        = kpt_scale[idx]\n",
    "cur_K          = K[idx]\n",
    "cur_xyz        = xyz_gt[idx]\n",
    "cur_hand_side  = hand_side[idx]\n",
    "\n",
    "fig, ax = plt.subplots(5, 5, figsize=(10, 10))\n",
    "for i in range(5):\n",
    "    for j in range(5):\n",
    "        k = np.ravel_multi_index((i, j), (5, 5))\n",
    "        if k >= cur_smap.shape[2]:\n",
    "            break        \n",
    "        show_scoremap = cv2.cvtColor(cur_smap[:, :, k], cv2.COLOR_GRAY2RGB)\n",
    "        show_scoremap = cv2.normalize(show_scoremap, None, alpha = 0, beta = 255, norm_type = cv2.NORM_MINMAX, dtype = cv2.CV_8UC3)\n",
    "        show_scoremap[:, :, 0] = 0\n",
    "        show_scoremap[:, :, 2] = 0\n",
    "        show = 0.5*show_scoremap + 0.5*cur_crop\n",
    "    \n",
    "        ax[i, j].imshow(show.astype('uint32'))\n",
    "        ax[i, j].plot(cur_uv[k, 0], cur_uv[k, 1], 'b.')\n",
    "        RHD.visualize_joints_2d(ax[i, j], cur_uv[RHD.REORDER_IDX])\n",
    "\n",
    "fig, ax = plt.subplots()\n",
    "ax.imshow(cur_crop)\n",
    "RHD.visualize_joints_2d(ax, cur_uv[RHD.REORDER_IDX])"
   ]
  },
  {
   "cell_type": "code",
   "execution_count": null,
   "metadata": {},
   "outputs": [],
   "source": [
    "fig, ax = plt.subplots(1, 2)\n",
    "RHD.visualize_joints_2d(ax[0], cur_xyz_canon[RHD.REORDER_IDX])\n",
    "RHD.visualize_joints_2d(ax[1], np.matmul(cur_xyz_canon, cur_rot_mat)[RHD.REORDER_IDX])\n",
    "\n",
    "if cur_hand_side == 1:\n",
    "    print('swapping hand sides')\n",
    "    cur_xyz_canon[:, 2] = -cur_xyz_canon[:, 2]\n",
    "    \n",
    "reform_xyz = np.matmul(cur_xyz_canon, cur_rot_mat)*cur_kpt\n",
    "reform_xyz += cur_xyz[0, :]\n",
    "print(np.allclose(reform_xyz, cur_xyz))\n",
    "reform_uvd = RHD.xyz2uvd(reform_xyz, cur_K)\n",
    "print(np.allclose(reform_uvd, RHD.xyz2uvd(cur_xyz, cur_K)))\n",
    "fig, ax = plt.subplots()\n",
    "ax.imshow(cur_img)\n",
    "RHD.visualize_joints_2d(ax, reform_uvd[RHD.REORDER_IDX])"
   ]
  },
  {
   "cell_type": "markdown",
   "metadata": {},
   "source": [
    "# Evaluation"
   ]
  },
  {
   "cell_type": "code",
   "execution_count": null,
   "metadata": {},
   "outputs": [],
   "source": [
    "xyz_gt_list, uv_gt_list, vis_list, K_list, hand_side_list = RHD.get_all_anno(split_set)\n",
    "\n",
    "gt_canon_list = []\n",
    "rot_mat_list = []\n",
    "kpt_scale_list = []\n",
    "for i, xyz in enumerate(xyz_gt_list):\n",
    "    xyz_norm, kpt_scale             = RHD.norm_keypoint(xyz_gt_list[i])\n",
    "    xyz_gt_canon, inv_rot_mat       = RHD.canonical_transform(xyz_norm)\n",
    "    rot_mat                         = np.linalg.inv(inv_rot_mat)\n",
    "    xyz_gt_canon                    = np.squeeze(xyz_gt_canon)\n",
    "\n",
    "    if hand_side_list[i] == 1:\n",
    "        xyz_gt_canon[:, 2] = -xyz_gt_canon[:, 2]\n",
    "\n",
    "    gt_canon_list.append(xyz_gt_canon)\n",
    "    rot_mat_list.append(rot_mat)\n",
    "    kpt_scale_list.append(kpt_scale)"
   ]
  },
  {
   "cell_type": "code",
   "execution_count": null,
   "metadata": {},
   "outputs": [],
   "source": [
    "pred_file = os.path.join(DATA_DIR, exp_dir, 'predict_{}_{}_xyz.txt'.format(epoch, data_split))\n",
    "pred_xyz = np.reshape(np.loadtxt(pred_file), (-1, 21, 3))\n",
    "\n",
    "pred_uvd = []\n",
    "for i, xyz in enumerate(pred_xyz):\n",
    "    pred_uvd.append(RHD.xyz2uvd(xyz, K_list[i]))\n",
    "pred_uvd = np.asarray(pred_uvd)\n",
    "\n",
    "pred_file = os.path.join(DATA_DIR, exp_dir, 'predict_{}_{}_canon.txt'.format(epoch, data_split))\n",
    "pred_canon = np.reshape(np.loadtxt(pred_file), (-1, 21, 3))\n",
    "\n",
    "pred_file = os.path.join(DATA_DIR, exp_dir, 'predict_{}_{}_rot.txt'.format(epoch, data_split))\n",
    "pred_rot = np.reshape(np.loadtxt(pred_file), (-1, 3, 3))"
   ]
  },
  {
   "cell_type": "code",
   "execution_count": null,
   "metadata": {},
   "outputs": [],
   "source": [
    "canon_gt_list_compare = np.asarray(gt_canon_list[:len(pred_xyz)])\n",
    "rot_mat_list_compare = np.asarray(rot_mat_list[:len(pred_xyz)])\n",
    "\n",
    "xyz_error = RHD.mean_L2_error(pred_canon, canon_gt_list_compare)\n",
    "print('%s CANON mean_l2_error: ' %data_split, xyz_error) \n",
    "\n",
    "xyz_error = RHD.mean_L2_error(pred_rot, rot_mat_list_compare)\n",
    "print('%s ROT mean_l2_error: ' %data_split, xyz_error) "
   ]
  },
  {
   "cell_type": "code",
   "execution_count": null,
   "metadata": {},
   "outputs": [],
   "source": [
    "xyz_gt_list_compare = np.asarray(xyz_gt_list[:len(pred_xyz)])\n",
    "\n",
    "_, xyz_error = RHD.mean_L2_error_vis(xyz_gt_list_compare*1000, pred_xyz*1000, vis_list) # m to mm\n",
    "print('%s XYZ mean_l2_error: ' %data_split, xyz_error) \n",
    "\n",
    "error, uv_error = RHD.mean_L2_error_vis(uv_gt_list[:len(pred_uvd)], pred_uvd[:, :, :], vis_list)\n",
    "print('%s UV mean_l2_error: ' %data_split, uv_error)\n",
    "mean, median = RHD.get_median_mean(xyz_gt_list_compare*1000, pred_xyz*1000, vis_list)\n",
    "\n",
    "print('XYZ calculated per keypoint mean:', mean, 'median:', median)\n",
    "\n",
    "min_error_idx = np.argmin(error)\n",
    "max_error_idx = np.argmax(error)\n",
    "print('Best Pose id:', min_error_idx, 'uv_error:', error[min_error_idx])\n",
    "print('Worst Pose id:', max_error_idx, 'uv_error:', error[max_error_idx])\n",
    "for idx in np.argsort(error):\n",
    "    print(idx, error[idx])"
   ]
  },
  {
   "cell_type": "code",
   "execution_count": null,
   "metadata": {},
   "outputs": [],
   "source": [
    "pck = RHD.percentage_frames_within_error_curve_vis(xyz_gt_list_compare*1000, pred_xyz*1000, vis_list)\n",
    "print(pck)\n",
    "thresholds = np.arange(0, 85, 5)\n",
    "print('AUC:', RHD.calc_auc(pck, thresholds))"
   ]
  },
  {
   "cell_type": "code",
   "execution_count": null,
   "metadata": {},
   "outputs": [],
   "source": [
    "idx = 1       \n",
    "image = np.asarray(Image.open(os.path.join(DATA_DIR, 'RHD_published_v2', split_set, \n",
    "                                             'color', '%.5d.png' % idx)))\n",
    "\n",
    "fig, ax = plt.subplots(figsize=(10, 10))\n",
    "ax.imshow(image)\n",
    "cur_vis = vis_list[idx]\n",
    "# RHD.visualize_joints_2d(ax, pred_uvd[idx][RHD.REORDER_IDX], c='r')\n",
    "# RHD.visualize_joints_2d(ax, uv_gt_list[idx][RHD.REORDER_IDX], c='b')\n",
    "ax.plot(uv_gt_list[idx][cur_vis][:, 0], uv_gt_list[idx][cur_vis][:, 1], 'bo')\n",
    "ax.plot(pred_uvd[idx][cur_vis][:, 0], pred_uvd[idx][cur_vis][:, 1], 'ro')"
   ]
  },
  {
   "cell_type": "code",
   "execution_count": null,
   "metadata": {},
   "outputs": [],
   "source": []
  }
 ],
 "metadata": {
  "kernelspec": {
   "display_name": "Python 3",
   "language": "python",
   "name": "python3"
  },
  "language_info": {
   "codemirror_mode": {
    "name": "ipython",
    "version": 3
   },
   "file_extension": ".py",
   "mimetype": "text/x-python",
   "name": "python",
   "nbconvert_exporter": "python",
   "pygments_lexer": "ipython3",
   "version": "3.6.8"
  }
 },
 "nbformat": 4,
 "nbformat_minor": 2
}
