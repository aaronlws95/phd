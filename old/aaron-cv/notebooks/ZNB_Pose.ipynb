{
 "cells": [
  {
   "cell_type": "code",
   "execution_count": null,
   "metadata": {},
   "outputs": [],
   "source": [
    "import os\n",
    "import sys\n",
    "from PIL import Image\n",
    "import matplotlib.pyplot as plt\n",
    "import numpy as np\n",
    "import torch\n",
    "import torch.nn as nn\n",
    "import cv2\n",
    "from tqdm import tqdm\n",
    "from pathlib import Path\n",
    "from torch.utils.data import DataLoader\n",
    "\n",
    "WORK_DIR = Path(Path.cwd()).parent\n",
    "sys.path.append(str(WORK_DIR))\n",
    "from src.datasets import get_dataset, get_dataloader\n",
    "from src.utils import parse_data_cfg, IMG, DATA_DIR, RHD"
   ]
  },
  {
   "cell_type": "code",
   "execution_count": null,
   "metadata": {},
   "outputs": [],
   "source": [
    "cfg = parse_data_cfg(WORK_DIR/'data_cfg'/'exp2/znb_pose_data.cfg')\n",
    "epoch = 200\n",
    "exp_dir = cfg[\"exp_dir\"]\n",
    "data_split = 'train'\n",
    "split_set = cfg[data_split + '_set']\n",
    "img_size = int(cfg['img_size'])"
   ]
  },
  {
   "cell_type": "code",
   "execution_count": null,
   "metadata": {},
   "outputs": [],
   "source": [
    "xyz_gt_list, uv_gt_list, vis_list, K_list, _ = RHD.get_all_anno(split_set)"
   ]
  },
  {
   "cell_type": "markdown",
   "metadata": {},
   "source": [
    "# Visualize Dataloader"
   ]
  },
  {
   "cell_type": "code",
   "execution_count": null,
   "metadata": {},
   "outputs": [],
   "source": [
    "dataset_kwargs = {'split_set': split_set}\n",
    "dataset   = get_dataset(cfg, dataset_kwargs)\n",
    "sampler   = None\n",
    "shuffle   = cfg['shuffle']\n",
    "kwargs = {'batch_size'  :   int(cfg['batch_size']),\n",
    "          'shuffle'     :   shuffle,\n",
    "          'num_workers' :   int(cfg['num_workers']),\n",
    "          'pin_memory'  :   True}\n",
    "data_loader = get_dataloader(dataset, sampler, kwargs)\n"
   ]
  },
  {
   "cell_type": "code",
   "execution_count": null,
   "metadata": {},
   "outputs": [],
   "source": [
    "idx = 0\n",
    "for i, (img, scoremap, uv_gt, vis) in enumerate(data_loader):\n",
    "    if i == idx:\n",
    "        batch_size = img.shape[0]\n",
    "        img = img.cpu().numpy()\n",
    "        img = np.swapaxes(img, 2, 3)\n",
    "        img = np.swapaxes(img, 1, 3)\n",
    "        img = IMG.scale_img_255(img)\n",
    "        scoremap = scoremap.cpu().numpy()\n",
    "        scoremap = np.swapaxes(scoremap, 2, 3)\n",
    "        scoremap = np.swapaxes(scoremap, 1, 3)\n",
    "        uv_gt = uv_gt.cpu().numpy()\n",
    "        vis = vis.cpu().numpy()\n",
    "        break\n",
    "    i += 1"
   ]
  },
  {
   "cell_type": "code",
   "execution_count": null,
   "metadata": {},
   "outputs": [],
   "source": [
    "idx = 6\n",
    "cur_smap = scoremap[idx]\n",
    "cur_img = img[idx]\n",
    "cur_uv = uv_gt[idx]\n",
    "cur_vis = vis[idx].astype('bool')\n",
    "\n",
    "fig, ax = plt.subplots(5, 5, figsize=(10, 10))\n",
    "for i in range(5):\n",
    "    for j in range(5):\n",
    "        k = np.ravel_multi_index((i, j), (5, 5))\n",
    "        if k >= cur_smap.shape[2]:\n",
    "            break        \n",
    "        show_scoremap = cv2.cvtColor(cur_smap[:, :, k], cv2.COLOR_GRAY2RGB)\n",
    "        show_scoremap = cv2.normalize(show_scoremap, None, alpha = 0, beta = 255, norm_type = cv2.NORM_MINMAX, dtype = cv2.CV_8UC3)\n",
    "        show_scoremap[:, :, 0] = 0\n",
    "        show_scoremap[:, :, 2] = 0\n",
    "        show = 0.5*show_scoremap + 0.5*cur_img\n",
    "    \n",
    "        ax[i, j].imshow(show.astype('uint32'))\n",
    "        ax[i, j].plot(cur_uv[k, 0], cur_uv[k, 1], 'r.')\n",
    "        RHD.visualize_joints_2d(ax[i, j], cur_uv[RHD.REORDER_IDX])\n",
    "\n",
    "fig, ax = plt.subplots()\n",
    "ax.imshow(cur_img)\n",
    "RHD.visualize_joints_2d(ax, cur_uv[RHD.REORDER_IDX])"
   ]
  },
  {
   "cell_type": "markdown",
   "metadata": {},
   "source": [
    "# Evaluation"
   ]
  },
  {
   "cell_type": "code",
   "execution_count": null,
   "metadata": {},
   "outputs": [],
   "source": [
    "pred_file = os.path.join(DATA_DIR, exp_dir, 'predict_{}_{}_uv.txt'.format(epoch, data_split))\n",
    "pred_uv = np.reshape(np.loadtxt(pred_file), (-1, 21, 2))\n",
    "\n",
    "revert_pred_uv = []\n",
    "for i, uv in enumerate(pred_uv):\n",
    "    img = np.asarray(Image.open(os.path.join(DATA_DIR, 'RHD_published_v2', split_set, \n",
    "                                             'color', '%.5d.png' % i)))\n",
    "    revert_pred_uv.append(RHD.revert_hand_annot(img, uv_gt_list[i], uv, (img_size, img_size)))\n",
    "revert_pred_uv = np.asarray(revert_pred_uv)"
   ]
  },
  {
   "cell_type": "code",
   "execution_count": null,
   "metadata": {},
   "outputs": [],
   "source": [
    "uv_gt_list = np.asarray(uv_gt_list)\n",
    "\n",
    "error, uv_error = RHD.mean_L2_error_vis(uv_gt_list[..., :2], revert_pred_uv, vis_list)\n",
    "min_error_idx = np.argmin(error)\n",
    "max_error_idx = np.argmax(error)\n",
    "\n",
    "print('%s UV mean_l2_error: ' %data_split, uv_error)\n",
    "print('Best Pose id:', min_error_idx, 'uv_error:', error[min_error_idx])\n",
    "print('Worst Pose id:', max_error_idx, 'uv_error:', error[max_error_idx])\n",
    "for idx in np.argsort(error):\n",
    "    print(idx, error[idx])"
   ]
  },
  {
   "cell_type": "code",
   "execution_count": null,
   "metadata": {},
   "outputs": [],
   "source": [
    "pck = RHD.percentage_frames_within_error_curve_vis(uv_gt_list, revert_pred_uv, vis_list)\n",
    "print(pck)\n",
    "thresholds = np.arange(0, 85, 5)\n",
    "print('AUC:', RHD.calc_auc(pck, thresholds))"
   ]
  },
  {
   "cell_type": "code",
   "execution_count": null,
   "metadata": {},
   "outputs": [],
   "source": [
    "idx = 1012\n",
    "image = np.asarray(Image.open(os.path.join(DATA_DIR, 'RHD_published_v2', split_set, \n",
    "                                             'color', '%.5d.png' % idx)))\n",
    "\n",
    "fig, ax = plt.subplots(figsize=(10, 10))\n",
    "ax.imshow(image)\n",
    "cur_vis = vis_list[idx]\n",
    "# RHD.visualize_joints_2d(ax, revert_pred_uv[idx][RHD.REORDER_IDX], c='r')\n",
    "# RHD.visualize_joints_2d(ax, uv_gt_list[idx][RHD.REORDER_IDX], c='b')\n",
    "ax.plot(uv_gt_list[idx][cur_vis, 0], uv_gt_list[idx][cur_vis, 1], 'bo')\n",
    "ax.plot(revert_pred_uv[idx][cur_vis, 0], revert_pred_uv[idx][cur_vis, 1], 'ro')"
   ]
  },
  {
   "cell_type": "markdown",
   "metadata": {},
   "source": [
    "# Model detection"
   ]
  },
  {
   "cell_type": "code",
   "execution_count": null,
   "metadata": {},
   "outputs": [],
   "source": [
    "from src.models import get_model\n",
    "import torch\n",
    "torch.cuda.set_device(1)\n",
    "model = get_model(cfg, False, epoch, None, None)\n",
    "img, scoremap, uv_gt, vis = next(iter(data_loader))\n",
    "img = img[0].unsqueeze(0)\n",
    "pred_smap, pred_uv = model.detect(img.cuda())\n",
    "img = img.cpu().numpy()"
   ]
  },
  {
   "cell_type": "code",
   "execution_count": null,
   "metadata": {},
   "outputs": [],
   "source": [
    "img = np.swapaxes(img, 2, 3)\n",
    "img = np.swapaxes(img, 1, 3)\n",
    "img = IMG.scale_img_255(img[0])\n",
    "fig, ax = plt.subplots(5, 5, figsize=(10, 10))\n",
    "for i in range(5):\n",
    "    for j in range(5):\n",
    "        k = np.ravel_multi_index((i, j), (5, 5))\n",
    "        if k >= pred_smap.shape[2]:\n",
    "            break        \n",
    "        show_scoremap = cv2.cvtColor(pred_smap[:, :, k], cv2.COLOR_GRAY2RGB)\n",
    "        show_scoremap = cv2.normalize(show_scoremap, None, alpha = 0, beta = 255, norm_type = cv2.NORM_MINMAX, dtype = cv2.CV_8UC3)\n",
    "        show_scoremap[:, :, 0] = 0\n",
    "        show_scoremap[:, :, 2] = 0\n",
    "        show = 0.5*show_scoremap + 0.5*img\n",
    "    \n",
    "        ax[i, j].imshow(show.astype('uint32'))\n",
    "        ax[i, j].plot(pred_uv[k, 0], pred_uv[k, 1], 'r.')\n",
    "#         RHD.visualize_joints_2d(ax[i, j], cur_uv[RHD.REORDER_IDX])"
   ]
  },
  {
   "cell_type": "code",
   "execution_count": null,
   "metadata": {},
   "outputs": [],
   "source": []
  }
 ],
 "metadata": {
  "kernelspec": {
   "display_name": "Python 3",
   "language": "python",
   "name": "python3"
  },
  "language_info": {
   "codemirror_mode": {
    "name": "ipython",
    "version": 3
   },
   "file_extension": ".py",
   "mimetype": "text/x-python",
   "name": "python",
   "nbconvert_exporter": "python",
   "pygments_lexer": "ipython3",
   "version": "3.6.8"
  }
 },
 "nbformat": 4,
 "nbformat_minor": 2
}
