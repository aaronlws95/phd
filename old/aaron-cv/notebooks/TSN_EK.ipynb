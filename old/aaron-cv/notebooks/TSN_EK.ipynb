{
 "cells": [
  {
   "cell_type": "code",
   "execution_count": null,
   "metadata": {},
   "outputs": [],
   "source": [
    "import os\n",
    "import sys\n",
    "from PIL import Image\n",
    "import matplotlib.pyplot as plt\n",
    "import numpy as np\n",
    "import torch\n",
    "import torch.nn as nn\n",
    "import cv2\n",
    "import pandas as pd\n",
    "from tqdm import tqdm\n",
    "from pathlib import Path\n",
    "from torch.utils.data import DataLoader\n",
    "import torchvision\n",
    "\n",
    "WORK_DIR = Path(Path.cwd()).parent\n",
    "sys.path.append(str(WORK_DIR))\n",
    "from src.datasets import get_dataset, get_dataloader, EK_TSN_Labels\n",
    "from src.utils import parse_data_cfg, IMG, TSN, EK, DATA_DIR\n",
    "from src.models import get_model"
   ]
  },
  {
   "cell_type": "code",
   "execution_count": null,
   "metadata": {},
   "outputs": [],
   "source": [
    "exp_fold = ''\n",
    "cfgname = 'tsn_ek_base'\n",
    "cfg = parse_data_cfg(WORK_DIR/'data_cfg'/exp_fold/(cfgname + '.cfg'))\n",
    "epoch = 80\n",
    "exp_dir = cfg[\"exp_dir\"]\n",
    "data_split = 'train'\n",
    "data_list = cfg[data_split + '_set']\n",
    "\n",
    "epic_root = Path(DATA_DIR)/'EPIC_KITCHENS_2018'\n",
    "epic_action_data =  os.path.join(epic_root, 'annotations', 'EPIC_train_action_labels.csv')\n",
    "epic_action_data = pd.read_csv(epic_action_data)\n",
    "action_verb_class = np.sort(epic_action_data.verb_class.unique())\n",
    "action_noun_class = np.sort(epic_action_data.noun_class.unique())\n",
    "verb_dict = EK.rev_lin_id(action_verb_class)\n",
    "noun_dict = EK.rev_lin_id(action_noun_class)"
   ]
  },
  {
   "cell_type": "code",
   "execution_count": null,
   "metadata": {},
   "outputs": [],
   "source": [
    "model = get_model(cfg, True, epoch, None, None)"
   ]
  },
  {
   "cell_type": "markdown",
   "metadata": {},
   "source": [
    "# Train dataloader"
   ]
  },
  {
   "cell_type": "code",
   "execution_count": null,
   "metadata": {},
   "outputs": [],
   "source": [
    "input, target_verb, target_noun = next(iter(model.train_loader))\n",
    "input = input.permute(0, 2, 3, 1)\n",
    "print(input.shape)"
   ]
  },
  {
   "cell_type": "code",
   "execution_count": null,
   "metadata": {},
   "outputs": [],
   "source": [
    "idx = 10\n",
    "cur_input = input[idx]\n",
    "cur_verb = verb_dict[target_verb[idx].item()]\n",
    "cur_noun = noun_dict[target_noun[idx].item()]\n",
    "verb = EK.get_class_name(int(cur_verb), 'verb')\n",
    "noun = EK.get_class_name(int(cur_noun), 'noun')\n",
    "\n",
    "img1 = cur_input[:, :, :3]\n",
    "img2 = cur_input[:, :, 3:6]\n",
    "img3 = cur_input[:, :, 6:]\n",
    "\n",
    "img1 = cv2.normalize(np.asarray(img1), None, alpha = 0, beta = 255, norm_type = cv2.NORM_MINMAX, dtype = cv2.CV_8UC3)\n",
    "img2 = cv2.normalize(np.asarray(img2), None, alpha = 0, beta = 255, norm_type = cv2.NORM_MINMAX, dtype = cv2.CV_8UC3)\n",
    "img3 = cv2.normalize(np.asarray(img3), None, alpha = 0, beta = 255, norm_type = cv2.NORM_MINMAX, dtype = cv2.CV_8UC3)"
   ]
  },
  {
   "cell_type": "code",
   "execution_count": null,
   "metadata": {},
   "outputs": [],
   "source": [
    "print(verb, noun)\n",
    "fig, ax = plt.subplots(3, 1, figsize=(10, 10))\n",
    "ax[0].imshow(img1[:, :, ::-1])\n",
    "ax[1].imshow(img2[:, :, ::-1])\n",
    "ax[2].imshow(img3[:, :, ::-1])"
   ]
  },
  {
   "cell_type": "markdown",
   "metadata": {},
   "source": [
    "# Test dataloader"
   ]
  },
  {
   "cell_type": "code",
   "execution_count": null,
   "metadata": {},
   "outputs": [],
   "source": [
    "model = get_model(cfg, False, epoch, None, None)"
   ]
  },
  {
   "cell_type": "code",
   "execution_count": null,
   "metadata": {},
   "outputs": [],
   "source": [
    "data_set        = data_split + '_set'\n",
    "dataset_kwargs  = {'split_set': cfg[data_set]}\n",
    "cfg['aug']      = None\n",
    "cropping = torchvision.transforms.Compose([\n",
    "    TSN.GroupOverSample(model.net.input_size, model.net.scale_size)])\n",
    "pred_tfm = torchvision.transforms.Compose([\n",
    "    cropping,\n",
    "    TSN.Stack(roll=cfg['base_model']== 'BNInception'),\n",
    "    TSN.ToTorchFormatTensor(div=cfg['base_model'] != 'BNInception'),\n",
    "    TSN.GroupNormalize(model.net.input_mean, model.net.input_std)])\n",
    "pred_dataset = EK_TSN_Labels(cfg, cfg[data_set], pred_tfm,\n",
    "                             random_shift=True, test_mode=True)\n",
    "pred_kwargs =  {'batch_size'  :   1,\n",
    "                'shuffle'     :   True,\n",
    "                'num_workers' :   int(cfg['num_workers']),\n",
    "                'pin_memory'  :   True}\n",
    "data_loader = DataLoader(pred_dataset,\n",
    "                         sampler=None,\n",
    "                         **pred_kwargs)\n"
   ]
  },
  {
   "cell_type": "code",
   "execution_count": null,
   "metadata": {},
   "outputs": [],
   "source": [
    "input, target_verb, target_noun = next(iter(data_loader))\n",
    "input = input.permute(0, 2, 3, 1)\n",
    "print(input.shape)"
   ]
  },
  {
   "cell_type": "code",
   "execution_count": null,
   "metadata": {},
   "outputs": [],
   "source": [
    "cur_input = input[0]\n",
    "cur_verb = verb_dict[target_verb[0].item()]\n",
    "cur_noun = noun_dict[target_noun[0].item()]\n",
    "verb = EK.get_class_name(int(cur_verb), 'verb')\n",
    "noun = EK.get_class_name(int(cur_noun), 'noun')\n",
    "print(verb, noun)"
   ]
  },
  {
   "cell_type": "code",
   "execution_count": null,
   "metadata": {},
   "outputs": [],
   "source": [
    "fig, ax = plt.subplots(2, 5, figsize=(10, 10))\n",
    "idx = 0\n",
    "for i in range(2):\n",
    "    for j in range(5):\n",
    "        img = cur_input[:, :, idx*3:idx*3 + 3]\n",
    "        img = cv2.normalize(np.asarray(img), None, alpha = 0, beta = 255, norm_type = cv2.NORM_MINMAX, dtype = cv2.CV_8UC3)\n",
    "        ax[i, j].imshow(img[:, :, ::-1])\n",
    "        idx += 10"
   ]
  },
  {
   "cell_type": "code",
   "execution_count": null,
   "metadata": {},
   "outputs": [],
   "source": []
  }
 ],
 "metadata": {
  "kernelspec": {
   "display_name": "Python 3",
   "language": "python",
   "name": "python3"
  },
  "language_info": {
   "codemirror_mode": {
    "name": "ipython",
    "version": 3
   },
   "file_extension": ".py",
   "mimetype": "text/x-python",
   "name": "python",
   "nbconvert_exporter": "python",
   "pygments_lexer": "ipython3",
   "version": "3.6.8"
  }
 },
 "nbformat": 4,
 "nbformat_minor": 2
}
