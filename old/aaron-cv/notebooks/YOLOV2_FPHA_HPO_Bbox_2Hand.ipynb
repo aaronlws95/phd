{
 "cells": [
  {
   "cell_type": "code",
   "execution_count": null,
   "metadata": {},
   "outputs": [],
   "source": [
    "import os\n",
    "import sys\n",
    "import torch\n",
    "import cv2\n",
    "import random\n",
    "import matplotlib.pyplot as plt\n",
    "import numpy as np\n",
    "import torch.nn as nn\n",
    "from PIL import Image\n",
    "from tqdm import tqdm\n",
    "from pathlib import Path\n",
    "from torch.utils.data import DataLoader\n",
    "\n",
    "WORK_DIR = Path(Path.cwd()).parent\n",
    "sys.path.append(str(WORK_DIR))\n",
    "from src.datasets import get_dataset, get_dataloader\n",
    "from src.utils import parse_data_cfg, IMG, FPHA, LMDB, DATA_DIR, YOLO"
   ]
  },
  {
   "cell_type": "code",
   "execution_count": null,
   "metadata": {},
   "outputs": [],
   "source": [
    "cfgname = 'debug/yolov2_fpha_hpo_bbox_2hand_1_data_OVERFIT'\n",
    "cfg = parse_data_cfg(WORK_DIR/'data_cfg'/(cfgname + '.cfg'))\n",
    "epoch = 1000\n",
    "exp_dir = cfg[\"exp_dir\"]\n",
    "data_split = 'train'\n",
    "split_set = cfg[data_split + '_set']"
   ]
  },
  {
   "cell_type": "markdown",
   "metadata": {},
   "source": [
    "# Visualize Dataloader"
   ]
  },
  {
   "cell_type": "code",
   "execution_count": null,
   "metadata": {},
   "outputs": [],
   "source": [
    "def collate_fn(batch):\n",
    "    \"\"\"\n",
    "    Flip entire dataset batch to same side\n",
    "    Args:\n",
    "        batch   : list of img, bbox_gt, uvd_gt\n",
    "        img     : [img_1, ..., img_batch]\n",
    "        bbox_gt : [bbox_gt_1, ..., bbox_gt_batch]\n",
    "        uvd_gt  : [uvd_gt_1, ..., uvd_gt_batch]\n",
    "    Out:\n",
    "        Vertically mirrored inputs\n",
    "    \"\"\"\n",
    "    FT                      = torch.FloatTensor\n",
    "    img, bbox_gt, uvd_gt    = zip(*batch)\n",
    "    flip                    = random.randint(1, 10000)%2\n",
    "    # Do flipping\n",
    "    # 0 = left, 1 = right\n",
    "    hand_side = 1\n",
    "    if flip:\n",
    "        hand_side = 0  \n",
    "\n",
    "    new_img     = []\n",
    "    new_bbox    = []\n",
    "    new_uvd     = []\n",
    "    for i, b, u in batch:\n",
    "        if flip:\n",
    "            i       = i.transpose(Image.FLIP_LEFT_RIGHT)\n",
    "            b[0]    = 0.999 - b[0]\n",
    "            u[:, 0] = 0.999 - u[:, 0]\n",
    "        i = np.asarray(i)\n",
    "        i = i/255.0\n",
    "        i = IMG.imgshape2torch(i)\n",
    "        new_img.append(i)\n",
    "        new_bbox.append(b)\n",
    "        new_uvd.append(u)\n",
    "\n",
    "    new_img     = FT(new_img)\n",
    "    new_bbox    = FT(new_bbox)\n",
    "    new_uvd     = FT(new_uvd)\n",
    "    return new_img, new_bbox, new_uvd, hand_side"
   ]
  },
  {
   "cell_type": "code",
   "execution_count": null,
   "metadata": {},
   "outputs": [],
   "source": [
    "dataset_kwargs = {'split_set': split_set}\n",
    "dataset   = get_dataset(cfg, dataset_kwargs)\n",
    "sampler   = None\n",
    "shuffle   = cfg['shuffle']\n",
    "kwargs = {'batch_size'  : int(cfg['batch_size']),\n",
    "          'shuffle'     : shuffle,\n",
    "          'num_workers' : int(cfg['num_workers']),\n",
    "          'pin_memory'  : True,\n",
    "          'collate_fn'  : collate_fn}\n",
    "data_loader = get_dataloader(dataset, sampler, kwargs)"
   ]
  },
  {
   "cell_type": "code",
   "execution_count": null,
   "metadata": {},
   "outputs": [],
   "source": [
    "idx = 0 \n",
    "for i, (img, bbox_gt, uvd_gt, hand_side) in enumerate(data_loader):\n",
    "    if i == idx:\n",
    "        if hand_side == 0:\n",
    "            print('left')\n",
    "        else:\n",
    "            print('right')\n",
    "        batch_size = img.shape[0]\n",
    "        img = img.cpu().numpy()\n",
    "        img = np.swapaxes(img, 2, 3)\n",
    "        img = np.swapaxes(img, 1, 3)\n",
    "        img = IMG.scale_img_255(img)\n",
    "        bbox_gt = bbox_gt.cpu().numpy()\n",
    "        uvd_gt = uvd_gt.cpu().numpy()\n",
    "        uvd_gt = np.squeeze(uvd_gt)\n",
    "        break\n",
    "    i += 1"
   ]
  },
  {
   "cell_type": "code",
   "execution_count": null,
   "metadata": {},
   "outputs": [],
   "source": [
    "fig, ax = plt.subplots(4, 4, figsize=(15, 15))\n",
    "idx = 0\n",
    "for i in range(4):\n",
    "    for j in range(4):\n",
    "        k = np.ravel_multi_index((i, j), (4, 4))\n",
    "        if k >= len(img):\n",
    "            break\n",
    "        cur_img = img[idx]\n",
    "        b = bbox_gt[idx]\n",
    "        u = uvd_gt[idx]        \n",
    "        ax[i, j].imshow(cur_img)\n",
    "        FPHA.draw_bbox(ax[i, j], b, (cur_img.shape[1], cur_img.shape[0]))\n",
    "        u = IMG.scale_points_WH(u, (1,1), (cur_img.shape[0], cur_img.shape[1]))\n",
    "        FPHA.visualize_joints_2d(ax[i, j], u[FPHA.REORDER_IDX], joint_idxs=False)\n",
    "        idx += 1"
   ]
  },
  {
   "cell_type": "markdown",
   "metadata": {},
   "source": [
    "# Evaluation"
   ]
  },
  {
   "cell_type": "code",
   "execution_count": null,
   "metadata": {},
   "outputs": [],
   "source": [
    "keys = LMDB.get_keys(os.path.join(DATA_DIR, split_set + \"_keys_cache.p\"))\n",
    "bbox_gt = LMDB.read_all_lmdb_dataroot(keys, os.path.join(DATA_DIR, split_set + \"_bbox_gt.lmdb\"), \"float32\", 4)\n",
    "pred_file = os.path.join(DATA_DIR, exp_dir, 'predict_{}_{}_bbox.txt'.format(epoch, data_split))\n",
    "bbox_pred = np.loadtxt(pred_file)\n",
    "bbox_pred = np.asarray([bbox[:5] for bbox in bbox_pred]) # take only the first bbox\n",
    "\n",
    "xyz_gt = LMDB.read_all_lmdb_dataroot(keys, os.path.join(DATA_DIR, split_set + '_xyz_gt.lmdb'), 'float32', (21, 3))\n",
    "uvd_gt = FPHA.xyz2uvd_color(xyz_gt)\n",
    "\n",
    "# Left hand\n",
    "pred_file = os.path.join(DATA_DIR, exp_dir, 'predict_{}_{}_uvd_left.txt'.format(epoch, data_split))\n",
    "pred_uvd_left = np.reshape(np.loadtxt(pred_file), (-1, 21, 3))\n",
    "pred_uvd_left = IMG.scale_points_WH(pred_uvd_left, (1, 1), (1920, 1080))\n",
    "pred_uvd_left[..., 2] *= 1000\n",
    "pred_xyz_left = FPHA.uvd2xyz_color(pred_uvd_left)\n",
    "\n",
    "pred_file = os.path.join(DATA_DIR, exp_dir, 'predict_{}_{}_conf_left.txt'.format(epoch, data_split))\n",
    "pred_conf_left = np.loadtxt(pred_file)\n",
    "\n",
    "# Right hand\n",
    "pred_file = os.path.join(DATA_DIR, exp_dir, 'predict_{}_{}_uvd_right.txt'.format(epoch, data_split))\n",
    "pred_uvd_right = np.reshape(np.loadtxt(pred_file), (-1, 21, 3))\n",
    "pred_uvd_right = IMG.scale_points_WH(pred_uvd_right, (1, 1), (1920, 1080))\n",
    "pred_uvd_right[..., 2] *= 1000\n",
    "pred_xyz_right = FPHA.uvd2xyz_color(pred_uvd_right)\n",
    "\n",
    "pred_file = os.path.join(DATA_DIR, exp_dir, 'predict_{}_{}_conf_right.txt'.format(epoch, data_split))\n",
    "pred_conf_right = np.loadtxt(pred_file)"
   ]
  },
  {
   "cell_type": "code",
   "execution_count": null,
   "metadata": {},
   "outputs": [],
   "source": [
    "idx = 1\n",
    "print(keys[idx])\n",
    "\n",
    "img = Image.open(os.path.join(DATA_DIR, 'First_Person_Action_Benchmark', 'Video_files', keys[idx]))\n",
    "img = img.transpose(Image.FLIP_LEFT_RIGHT)\n",
    "img = np.asarray(img)\n",
    "fig, ax = plt.subplots()\n",
    "ax.imshow(img)\n",
    "\n",
    "FPHA.draw_bbox(ax, bbox_pred[idx], (img.shape[1], img.shape[0]), 'r')\n",
    "FPHA.visualize_joints_2d(ax, pred_uvd_left[idx][FPHA.REORDER_IDX], joint_idxs=False, c='r')\n",
    "FPHA.visualize_joints_2d(ax, pred_uvd_right[idx][FPHA.REORDER_IDX], joint_idxs=False, c='g')\n",
    "FPHA.draw_bbox(ax, bbox_gt[idx], (img.shape[1], img.shape[0]), 'b')\n",
    "FPHA.visualize_joints_2d(ax, uvd_gt[idx][FPHA.REORDER_IDX], joint_idxs=False, c='b')"
   ]
  }
 ],
 "metadata": {
  "kernelspec": {
   "display_name": "Python 3",
   "language": "python",
   "name": "python3"
  },
  "language_info": {
   "codemirror_mode": {
    "name": "ipython",
    "version": 3
   },
   "file_extension": ".py",
   "mimetype": "text/x-python",
   "name": "python",
   "nbconvert_exporter": "python",
   "pygments_lexer": "ipython3",
   "version": "3.6.8"
  }
 },
 "nbformat": 4,
 "nbformat_minor": 2
}
