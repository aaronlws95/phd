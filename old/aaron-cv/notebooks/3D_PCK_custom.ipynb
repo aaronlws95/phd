{
 "cells": [
  {
   "cell_type": "code",
   "execution_count": null,
   "metadata": {},
   "outputs": [],
   "source": [
    "import numpy as np\n",
    "import matplotlib.pyplot as plt\n",
    "import matplotlib"
   ]
  },
  {
   "cell_type": "code",
   "execution_count": null,
   "metadata": {},
   "outputs": [],
   "source": [
    "def calc_auc(y, x):\n",
    "    integral = np.trapz(y, x)\n",
    "    norm = np.trapz(np.ones_like(y), x)\n",
    "    return integral / norm"
   ]
  },
  {
   "cell_type": "code",
   "execution_count": null,
   "metadata": {},
   "outputs": [],
   "source": [
    "thresholds = np.arange(0, 85, 5)\n",
    "print('thresholds:', thresholds)\n",
    "curve_list = []"
   ]
  },
  {
   "cell_type": "code",
   "execution_count": null,
   "metadata": {},
   "outputs": [],
   "source": [
    "name = 'HPO pretrained on bbox'\n",
    "pck = [0.0, 0.08757087, 0.28912184, 0.47862366, \n",
    "                 0.62651795, 0.735914, 0.8159041, 0.87380093, \n",
    "                 0.915202, 0.9439708, 0.9633097, 0.97642833, 0.9845541, \n",
    "                 0.98958707, 0.9926009, 0.99454206, 0.9958302]\n",
    "pck = np.asarray(pck)\n",
    "auc = calc_auc(pck, thresholds)\n",
    "label = '%s (AUC=%.4f)' %(name, auc)\n",
    "style = {'linestyle': '-',          \n",
    "         'color': 'r', \n",
    "         'marker': 'P', \n",
    "         'linewidth': 1.0, \n",
    "         'label': label}\n",
    "curve_list.append((auc, pck, style))"
   ]
  },
  {
   "cell_type": "code",
   "execution_count": null,
   "metadata": {},
   "outputs": [],
   "source": [
    "fpha_hpo_mod1 = [0.0, 0.07108252, 0.25979057, 0.4496472, 0.60197645, \n",
    "                 0.7166778, 0.800295, 0.86202985, 0.9060877, 0.93728656, \n",
    "                 0.9581264, 0.97260445, 0.98202896, 0.9883165, 0.99219877, \n",
    "                 0.99462974, 0.99619985]\n",
    "fpha_hpo_mod1 = np.asarray(fpha_hpo_mod1)\n",
    "auc = calc_auc(fpha_hpo_mod1, thresholds)\n",
    "label = 'HPO base (AUC=%.4f)' %auc\n",
    "style = {'linestyle': '--', \n",
    "         'color': 'r', \n",
    "         'marker': '.', \n",
    "         'linewidth': 1.0, \n",
    "         'label': label}\n",
    "curve_list.append((auc, fpha_hpo_mod1, style))"
   ]
  },
  {
   "cell_type": "code",
   "execution_count": null,
   "metadata": {},
   "outputs": [],
   "source": [
    "yolov2_fpha_hpo_bbox_mod1 = [0.0, 0.080176145, 0.28452367, 0.48051935, 0.63347477, \n",
    "                         0.74551696, 0.82473385, 0.8793595, 0.9164444, 0.9422166, \n",
    "                         0.96011305, 0.97245306, 0.9813825, 0.9873799, 0.99130106, \n",
    "                         0.99401003, 0.9957544]\n",
    "yolov2_fpha_hpo_bbox_mod1 = np.asarray(yolov2_fpha_hpo_bbox_mod1)\n",
    "auc = calc_auc(yolov2_fpha_hpo_bbox_mod1, thresholds)\n",
    "label = 'HPO+YOLO (AUC=%.4f)' %auc\n",
    "style = {'linestyle': '--', \n",
    "         'color': 'g', \n",
    "         'marker': '*', \n",
    "         'linewidth': 1.0, \n",
    "         'label': label}\n",
    "curve_list.append((auc, yolov2_fpha_hpo_bbox_mod1, style))"
   ]
  },
  {
   "cell_type": "code",
   "execution_count": null,
   "metadata": {},
   "outputs": [],
   "source": [
    "matplotlib.rcParams.update({'font.size': 22})\n",
    "fig, ax = plt.subplots(figsize=(10, 10))\n",
    "\n",
    "curve_list = np.asarray(curve_list)\n",
    "ind = np.argsort(curve_list[:,0])\n",
    "curve_list = curve_list[ind[::-1]]\n",
    "\n",
    "for _, curve, style in curve_list:\n",
    "    ax.plot(thresholds,curve,\n",
    "            linestyle = style['linestyle'], \n",
    "            c = style['color'], \n",
    "            marker = style['marker'],\n",
    "            label = style['label'],\n",
    "            linewidth = style['linewidth'])\n",
    "ax.set_xticks(np.arange(0, 90, 10))\n",
    "ax.set_yticks(np.arange(0, 1.1, 0.1))\n",
    "ax.set_title('First Person Hand Action Dataset')\n",
    "plt.grid()\n",
    "leg = plt.legend()\n",
    "ax.set_ylabel('3D PCK (%)')\n",
    "ax.set_xlabel('Error Thresholds (mm)')\n",
    "plt.show()"
   ]
  }
 ],
 "metadata": {
  "kernelspec": {
   "display_name": "Python 3",
   "language": "python",
   "name": "python3"
  },
  "language_info": {
   "codemirror_mode": {
    "name": "ipython",
    "version": 3
   },
   "file_extension": ".py",
   "mimetype": "text/x-python",
   "name": "python",
   "nbconvert_exporter": "python",
   "pygments_lexer": "ipython3",
   "version": "3.6.8"
  }
 },
 "nbformat": 4,
 "nbformat_minor": 2
}
