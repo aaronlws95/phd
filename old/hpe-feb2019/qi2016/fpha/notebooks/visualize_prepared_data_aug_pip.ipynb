{
 "cells": [
  {
   "cell_type": "code",
   "execution_count": null,
   "metadata": {},
   "outputs": [],
   "source": [
    "import sys\n",
    "import os\n",
    "import numpy as np\n",
    "import cv2\n",
    "from matplotlib import pyplot as plt\n",
    "import scipy.ndimage.interpolation  as interplt\n",
    "from PIL import Image\n",
    "import h5py\n",
    "\n",
    "ROOT_DIR = os.path.abspath(\"../src\")\n",
    "sys.path.append(ROOT_DIR)\n",
    "\n",
    "import data_augmentation as aug\n",
    "import utils\n",
    "import constants"
   ]
  },
  {
   "cell_type": "code",
   "execution_count": null,
   "metadata": {},
   "outputs": [],
   "source": [
    "load_file = os.path.join(constants.DATA_DIR, 'train_fpha_hier.h5')\n",
    "load_file\n",
    "f = h5py.File(load_file, 'r')\n",
    "print('keys=', list(f.keys()))\n",
    "img0 = f['img0'][...]\n",
    "img1 = f['img1'][...]\n",
    "img2 = f['img2'][...]\n",
    "uvd_norm_gt = f['uvd_norm_gt'][...]\n",
    "uvd_gt = f['uvd_gt'][...]\n",
    "xyz_gt = f['xyz_gt'][...]\n",
    "hand_center_uvd = f['hand_center_uvd'][...]\n",
    "file_name = f['file_name'][...]\n",
    "f.close()"
   ]
  },
  {
   "cell_type": "code",
   "execution_count": null,
   "metadata": {},
   "outputs": [],
   "source": [
    "img0_ori = img0.copy()\n",
    "img0 = np.expand_dims(img0, -1)\n",
    "uvd_norm_gt_copy = uvd_norm_gt.copy()\n",
    "uvd_norm_gt_new = uvd_norm_gt_copy[:, [9], :]\n",
    "uvd_palm = uvd_norm_gt[:, :6, :]\n",
    "jnt_uvd_in_prev_layer = uvd_palm[:, [2], :]\n",
    "\n",
    "idx = 0\n",
    "img0 = np.asarray([img0[idx]])\n",
    "uvd_norm_gt_new = np.asarray([uvd_norm_gt_new[idx]])\n",
    "uvd_palm = np.asarray([uvd_palm[idx]])\n",
    "jnt_uvd_in_prev_layer = np.asarray([jnt_uvd_in_prev_layer[idx]])"
   ]
  },
  {
   "cell_type": "code",
   "execution_count": null,
   "metadata": {},
   "outputs": [],
   "source": [
    "crop0, crop1, ground_truth = aug.get_crop_for_finger_part_s0(img0, uvd_norm_gt_new, uvd_palm, jnt_uvd_in_prev_layer, if_aug=False)"
   ]
  },
  {
   "cell_type": "code",
   "execution_count": null,
   "metadata": {},
   "outputs": [],
   "source": [
    "fig, ax = plt.subplots(1, 3,figsize=(18, 16))\n",
    "ax[0].imshow(np.squeeze(crop0))\n",
    "ax[0].set_title('crop0')\n",
    "ax[1].imshow(np.squeeze(crop1))\n",
    "ax[1].set_title('crop1')\n",
    "ax[2].imshow(np.squeeze(img0))\n",
    "ax[1].set_title('img0')"
   ]
  },
  {
   "cell_type": "code",
   "execution_count": null,
   "metadata": {},
   "outputs": [],
   "source": []
  }
 ],
 "metadata": {
  "kernelspec": {
   "display_name": "Python 3",
   "language": "python",
   "name": "python3"
  },
  "language_info": {
   "codemirror_mode": {
    "name": "ipython",
    "version": 3
   },
   "file_extension": ".py",
   "mimetype": "text/x-python",
   "name": "python",
   "nbconvert_exporter": "python",
   "pygments_lexer": "ipython3",
   "version": "3.6.8"
  }
 },
 "nbformat": 4,
 "nbformat_minor": 2
}
