{
 "cells": [
  {
   "cell_type": "code",
   "execution_count": null,
   "metadata": {},
   "outputs": [],
   "source": [
    "import sys\n",
    "import os\n",
    "import numpy as np\n",
    "import cv2\n",
    "from matplotlib import pyplot as plt\n",
    "import scipy.ndimage.interpolation  as interplt\n",
    "from PIL import Image\n",
    "import h5py\n",
    "\n",
    "ROOT_DIR = os.path.abspath(\"../src\")\n",
    "sys.path.append(ROOT_DIR)\n",
    "\n",
    "import data_augmentation as aug\n",
    "import utils\n",
    "import constants"
   ]
  },
  {
   "cell_type": "code",
   "execution_count": null,
   "metadata": {},
   "outputs": [],
   "source": [
    "load_file = os.path.join(constants.DATA_DIR, 'train_fpha.h5')\n",
    "f = h5py.File(load_file, 'r')\n",
    "print('keys=', list(f.keys()))\n",
    "img0 = f['img0'][...]\n",
    "img1 = f['img1'][...]\n",
    "img2 = f['img2'][...]\n",
    "uvd_norm_gt = f['uvd_norm_gt'][...]\n",
    "uvd_gt = f['uvd_gt'][...]\n",
    "xyz_gt = f['xyz_gt'][...]\n",
    "hand_center_uvd = f['hand_center_uvd'][...]\n",
    "file_name = f['file_name'][...]\n",
    "f.close()"
   ]
  },
  {
   "cell_type": "code",
   "execution_count": null,
   "metadata": {},
   "outputs": [],
   "source": [
    "img0_ori = img0.copy()\n",
    "img1_ori = img1.copy()\n",
    "img2_ori = img2.copy()\n",
    "\n",
    "img0 = np.expand_dims(img0, -1)\n",
    "img1 = np.expand_dims(img1, -1)\n",
    "img2 = np.expand_dims(img2, -1)\n",
    "\n",
    "img0, img1, img2, uvd_norm_gt = aug.augment_data_3d_rot_scale(img0, img1, img2, uvd_norm_gt)\n",
    "\n",
    "idx=10000\n",
    "cur_frame = file_name[idx]\n",
    "depth = Image.open(cur_frame)\n",
    "depth = np.asarray(depth, dtype='uint16')\n",
    "\n",
    "imgcopy=depth.copy()\n",
    "min = imgcopy.min()\n",
    "max = imgcopy.max()\n",
    "#scale to 0 - 255\n",
    "imgcopy = (imgcopy - min) / (max - min) * 255. \n",
    "imgcopy = imgcopy.astype('uint8')\n",
    "imgcopy = cv2.cvtColor(imgcopy, cv2.COLOR_GRAY2BGR)\n",
    "\n",
    "print(cur_frame)\n",
    "\n",
    "fig, ax = plt.subplots()\n",
    "ax.imshow(imgcopy)\n",
    "utils.visualize_joints_2d(ax, uvd_gt[idx][constants.REORDER], joint_idxs=False)"
   ]
  },
  {
   "cell_type": "code",
   "execution_count": null,
   "metadata": {},
   "outputs": [],
   "source": [
    "img0 = np.squeeze(img0, -1)\n",
    "img1 = np.squeeze(img1, -1)\n",
    "img2 = np.squeeze(img2, -1)\n",
    "\n",
    "fig, ax = plt.subplots(1,3,figsize=(18, 16))\n",
    "ax[0].imshow(img0[idx])\n",
    "ax[0].set_title('img0')\n",
    "ax[1].imshow(img1[idx])\n",
    "ax[1].set_title('img1')\n",
    "ax[2].imshow(img2[idx])\n",
    "ax[2].set_title('img2')"
   ]
  },
  {
   "cell_type": "code",
   "execution_count": null,
   "metadata": {},
   "outputs": [],
   "source": [
    "fig, ax = plt.subplots(1,3,figsize=(18, 16))\n",
    "ax[0].imshow(img0_ori[idx])\n",
    "ax[0].set_title('img0')\n",
    "ax[1].imshow(img1_ori[idx])\n",
    "ax[1].set_title('img1')\n",
    "ax[2].imshow(img2_ori[idx])\n",
    "ax[2].set_title('img2')"
   ]
  },
  {
   "cell_type": "code",
   "execution_count": null,
   "metadata": {},
   "outputs": [],
   "source": [
    "uvd_norm_gt = np.reshape(uvd_norm_gt, (-1, 21, 3))\n",
    "\n",
    "new_xyz_gt, new_uvd_gt = utils.normuvd2xyzuvd_batch_depth(uvd_norm_gt, hand_center_uvd)\n",
    "\n",
    "fig, ax = plt.subplots()\n",
    "ax.imshow(imgcopy)\n",
    "utils.visualize_joints_2d(ax, new_uvd_gt[idx][constants.REORDER], joint_idxs=False)"
   ]
  },
  {
   "cell_type": "code",
   "execution_count": null,
   "metadata": {},
   "outputs": [],
   "source": []
  }
 ],
 "metadata": {
  "kernelspec": {
   "display_name": "Python 3",
   "language": "python",
   "name": "python3"
  },
  "language_info": {
   "codemirror_mode": {
    "name": "ipython",
    "version": 3
   },
   "file_extension": ".py",
   "mimetype": "text/x-python",
   "name": "python",
   "nbconvert_exporter": "python",
   "pygments_lexer": "ipython3",
   "version": "3.6.8"
  }
 },
 "nbformat": 4,
 "nbformat_minor": 2
}
