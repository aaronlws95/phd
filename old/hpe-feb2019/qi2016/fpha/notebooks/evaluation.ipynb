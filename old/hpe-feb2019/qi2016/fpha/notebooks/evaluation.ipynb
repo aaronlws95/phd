{
 "cells": [
  {
   "cell_type": "code",
   "execution_count": null,
   "metadata": {},
   "outputs": [],
   "source": [
    "import numpy as np\n",
    "import os\n",
    "import matplotlib.pyplot as plt\n",
    "import sys\n",
    "from PIL import Image\n",
    "\n",
    "ROOT_DIR = os.path.abspath(\"../src\")\n",
    "sys.path.append(ROOT_DIR)\n",
    "import constants\n",
    "import utils\n",
    "import error\n",
    "from prepare_data import prepare_data, read_prepare_data_h5py\n",
    "# jupyter nbconvert --to html evaluation.ipynb"
   ]
  },
  {
   "cell_type": "code",
   "execution_count": null,
   "metadata": {},
   "outputs": [],
   "source": [
    "epoch = 20\n",
    "data_split = 'test'\n",
    "if data_split == 'train':\n",
    "    data_file_h5py = os.path.join(constants.DATA_DIR, 'train_fpha.h5')\n",
    "else:\n",
    "    data_file_h5py = os.path.join(constants.DATA_DIR, 'test_fpha.h5')\n",
    "\n",
    "exp = 'no_dropout_no_batchnorm_lr0003'    \n",
    "pred_file = os.path.join(constants.DATA_DIR, exp, 'predict_%s_%s.txt' %(epoch, data_split))\n",
    "img0, img1, img2, uvd_norm_gt, uvd_gt, xyz_gt, hand_center_uvd, file_name = read_prepare_data_h5py(data_file_h5py)\n",
    "pred_xyz, pred_uvd, pred_normuvd = error.get_pred_xyzuvd_from_normuvd(pred_file, hand_center_uvd)\n",
    "xyz_gt = np.reshape(xyz_gt[:pred_uvd.shape[0]], (-1, 63))\n",
    "uvd_gt = np.reshape(uvd_gt[:pred_uvd.shape[0]], (-1, 63))\n",
    "uvd_norm_gt = np.reshape(uvd_norm_gt[:pred_uvd.shape[0]], (-1, 63))\n",
    "pred_xyz = np.reshape(pred_xyz, (-1, 63))\n",
    "pred_uvd = np.reshape(pred_uvd, (-1, 63))\n",
    "pred_normuvd = np.reshape(pred_normuvd, (-1, 63))\n",
    "print('no. of frames=', pred_normuvd.shape[0])"
   ]
  },
  {
   "cell_type": "code",
   "execution_count": null,
   "metadata": {},
   "outputs": [],
   "source": [
    "#normuvd\n",
    "pred = pred_normuvd\n",
    "true = uvd_norm_gt\n",
    "print('normuvd mean_jnt_error:', error.mean_jnt_error(true, pred))\n",
    "print('normuvd mean_dim_error:', error.mean_dim_error(true, pred))\n",
    "print('normuvd mean_pose_error:', error.mean_pose_error(true, pred))\n",
    "print('normuvd mean_squared_error:', np.mean(error.mean_squared_error(true, pred)))"
   ]
  },
  {
   "cell_type": "code",
   "execution_count": null,
   "metadata": {},
   "outputs": [],
   "source": [
    "#xyz\n",
    "pred = pred_xyz\n",
    "true = xyz_gt\n",
    "print('xyz mean_jnt_error:', error.mean_jnt_error(true, pred))\n",
    "print('xyz mean_dim_error:', error.mean_dim_error(true, pred))\n",
    "print('xyz_mean_pose_error:', error.mean_pose_error(true, pred))"
   ]
  },
  {
   "cell_type": "code",
   "execution_count": null,
   "metadata": {},
   "outputs": [],
   "source": [
    "#uvd\n",
    "pred = pred_uvd\n",
    "true = uvd_gt\n",
    "print('uvd mean_jnt_error:', error.mean_jnt_error(true, pred))\n",
    "print('uvd mean_dim_error:', error.mean_dim_error(true, pred))\n",
    "print('uvd mean_pose_error:', error.mean_pose_error(true, pred))"
   ]
  },
  {
   "cell_type": "code",
   "execution_count": null,
   "metadata": {},
   "outputs": [],
   "source": [
    "# Percentage of correct key points\n",
    "pred = np.reshape(pred_xyz, (-1, 63))\n",
    "true = np.asarray(xyz_gt)\n",
    "error.percentage_frames_within_error_curve(true, pred)\n"
   ]
  },
  {
   "cell_type": "code",
   "execution_count": null,
   "metadata": {},
   "outputs": [],
   "source": [
    "i = 50000\n",
    "\n",
    "depth = Image.open(file_name[i])\n",
    "depth = np.asarray(depth, dtype='uint16')\n",
    "fig, ax = plt.subplots(1,2, figsize=(18, 10))\n",
    "ax[0].imshow(depth)\n",
    "ax[1].imshow(depth)\n",
    "ax[0].set_title('pred')\n",
    "ax[1].set_title('true')\n",
    "utils.visualize_joints_2d(ax[0], np.reshape(pred_uvd, (-1,21,3))[i][constants.REORDER], joint_idxs=False)\n",
    "utils.visualize_joints_2d(ax[1], np.reshape(uvd_gt, (-1,21,3))[i][constants.REORDER], joint_idxs=False)"
   ]
  },
  {
   "cell_type": "code",
   "execution_count": null,
   "metadata": {},
   "outputs": [],
   "source": [
    "fig = plt.figure(figsize=(12, 5))\n",
    "ax_1 = fig.add_subplot(1, 2, 1, projection='3d')\n",
    "ax_1.set_title('pred')\n",
    "ax_2 = fig.add_subplot(1, 2, 2, projection='3d')\n",
    "ax_2.set_title('true')\n",
    "\n",
    "for ax in [ax_1, ax_2]:\n",
    "    ax.view_init(elev=30, azim=45)\n",
    "    \n",
    "utils.visualize_joints_3d(ax_1, np.reshape(pred_uvd, (-1,21,3))[i][constants.REORDER], joint_idxs=False)\n",
    "utils.visualize_joints_3d(ax_2, np.reshape(uvd_gt, (-1,21,3))[i][constants.REORDER], joint_idxs=False)\n",
    "\n",
    "print('xyz_mean_pose_error:', error.pose_error(uvd_gt[i], pred_uvd[i]))"
   ]
  },
  {
   "cell_type": "code",
   "execution_count": null,
   "metadata": {},
   "outputs": [],
   "source": [
    "# error.epoch_xyz_loss_curve([10, 20], 'no_dropout_no_batchnorm_lr0003')"
   ]
  },
  {
   "cell_type": "code",
   "execution_count": null,
   "metadata": {},
   "outputs": [],
   "source": []
  }
 ],
 "metadata": {
  "kernelspec": {
   "display_name": "Python 3",
   "language": "python",
   "name": "python3"
  },
  "language_info": {
   "codemirror_mode": {
    "name": "ipython",
    "version": 3
   },
   "file_extension": ".py",
   "mimetype": "text/x-python",
   "name": "python",
   "nbconvert_exporter": "python",
   "pygments_lexer": "ipython3",
   "version": "3.6.8"
  }
 },
 "nbformat": 4,
 "nbformat_minor": 2
}
