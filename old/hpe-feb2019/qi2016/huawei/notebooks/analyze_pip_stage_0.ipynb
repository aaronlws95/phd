{
 "cells": [
  {
   "cell_type": "code",
   "execution_count": null,
   "metadata": {},
   "outputs": [],
   "source": [
    "import time\n",
    "import matplotlib\n",
    "import matplotlib.pyplot as plt\n",
    "from keras.models import model_from_json\n",
    "from keras.optimizers import Adam\n",
    "from keras import backend as K\n",
    "import h5py\n",
    "import keras\n",
    "import numpy\n",
    "import os\n",
    "import tensorflow as tf\n",
    "import sys\n",
    "import matplotlib.pyplot as plt\n",
    "import cv2\n",
    "from PIL import Image\n",
    "\n",
    "ROOT_DIR = os.path.abspath(\"../\")\n",
    "sys.path.append(ROOT_DIR)\n",
    "from Model import multi_resolution\n",
    "from utils import get_err,hand_utils\n",
    "ROOT_DIR = os.path.abspath(\"../Hier_Estimator\")\n",
    "sys.path.append(ROOT_DIR)\n",
    "import trainer"
   ]
  },
  {
   "cell_type": "code",
   "execution_count": null,
   "metadata": {},
   "outputs": [],
   "source": [
    "_EPSILON = 10e-8\n",
    "\n",
    "K.set_image_data_format('channels_last')  # TF dimension ordering in this code\n",
    "num_kern=[48,96]\n",
    "\n",
    "lr=0.0001\n",
    "cur_finger=1\n",
    "cur_jnt_idx=[cur_finger*4+1+1]\n",
    "jnt_in_prev_layer=[cur_finger+1]\n",
    "version = 'pip_s0_finger%d_smalljiter_ker%d_lr%f'%(cur_finger,num_kern[0],lr)\n",
    "data_dir = '../data'\n",
    "source_dir= os.path.join(data_dir, 'mega')\n",
    "save_dir= os.path.join(data_dir, 'mega')\n",
    "img_dir = os.path.join(source_dir, 'test_images')\n",
    "batch_size=128"
   ]
  },
  {
   "cell_type": "code",
   "execution_count": null,
   "metadata": {},
   "outputs": [],
   "source": [
    "dataset = 'test'\n",
    "f = h5py.File('%s/source/%s_crop_norm_vassi.h5'%(save_dir,dataset), 'r')\n",
    "train_x0 = f['img0'][...]\n",
    "train_y= f['uvd_norm_gt'][...][:,cur_jnt_idx,:]\n",
    "f.close()"
   ]
  },
  {
   "cell_type": "code",
   "execution_count": null,
   "metadata": {},
   "outputs": [],
   "source": [
    "idx=0\n",
    "fig, ax = plt.subplots()\n",
    "ax.imshow(train_x0[idx])"
   ]
  },
  {
   "cell_type": "code",
   "execution_count": null,
   "metadata": {},
   "outputs": [],
   "source": []
  },
  {
   "cell_type": "code",
   "execution_count": null,
   "metadata": {},
   "outputs": [],
   "source": []
  }
 ],
 "metadata": {
  "kernelspec": {
   "display_name": "Python 3",
   "language": "python",
   "name": "python3"
  },
  "language_info": {
   "codemirror_mode": {
    "name": "ipython",
    "version": 3
   },
   "file_extension": ".py",
   "mimetype": "text/x-python",
   "name": "python",
   "nbconvert_exporter": "python",
   "pygments_lexer": "ipython3",
   "version": "3.6.8"
  }
 },
 "nbformat": 4,
 "nbformat_minor": 2
}
