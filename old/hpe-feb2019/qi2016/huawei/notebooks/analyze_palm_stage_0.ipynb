{
 "cells": [
  {
   "cell_type": "markdown",
   "metadata": {},
   "source": [
    "# Import"
   ]
  },
  {
   "cell_type": "code",
   "execution_count": null,
   "metadata": {},
   "outputs": [],
   "source": [
    "import time\n",
    "import matplotlib\n",
    "import matplotlib.pyplot as plt\n",
    "from keras.models import model_from_json\n",
    "from keras.optimizers import Adam\n",
    "from keras import backend as K\n",
    "import h5py\n",
    "import keras\n",
    "import numpy\n",
    "import os\n",
    "import tensorflow as tf\n",
    "import sys\n",
    "import matplotlib.pyplot as plt\n",
    "import cv2\n",
    "from PIL import Image\n",
    "\n",
    "ROOT_DIR = os.path.abspath(\"../\")\n",
    "sys.path.append(ROOT_DIR)\n",
    "from Model import multi_resolution\n",
    "from utils import get_err,hand_utils\n",
    "ROOT_DIR = os.path.abspath(\"../Hier_Estimator\")\n",
    "sys.path.append(ROOT_DIR)\n",
    "import trainer"
   ]
  },
  {
   "cell_type": "markdown",
   "metadata": {},
   "source": [
    "# Init"
   ]
  },
  {
   "cell_type": "code",
   "execution_count": null,
   "metadata": {},
   "outputs": [],
   "source": [
    "setname='mega'\n",
    "\n",
    "_EPSILON = 10e-8\n",
    "\n",
    "K.set_image_data_format('channels_last')  # TF dimension ordering in this code\n",
    "num_kern=[32,64,96]\n",
    "\n",
    "lr=0.00003\n",
    "# best lr = 0.0001\n",
    "\n",
    "# version = 'palm_s0_rot_scale_ker%d_lr%f'%(num_kern[0],lr)\n",
    "\n",
    "data_dir = '../data'\n",
    "source_dir= os.path.join(data_dir, 'mega')\n",
    "save_dir= os.path.join(data_dir, 'mega')\n",
    "img_dir = os.path.join(source_dir, 'test_images')\n",
    "palm_idx =[0,1,5,9,13,17]\n",
    "batch_size=128\n"
   ]
  },
  {
   "cell_type": "markdown",
   "metadata": {},
   "source": [
    "# Load Data"
   ]
  },
  {
   "cell_type": "code",
   "execution_count": null,
   "metadata": {},
   "outputs": [],
   "source": [
    "dataset = 'test'\n",
    "\n",
    "f = h5py.File('%s/source/%s_crop_norm_vassi.h5'%(save_dir,dataset), 'r')\n",
    "print('keys=', list(f.keys()))\n",
    "test_x0 = f['img0'][...]\n",
    "test_x1 = f['img1'][...]\n",
    "test_x2 = f['img2'][...]\n",
    "test_y= f['uvd_norm_gt'][...][:,palm_idx,:].reshape(-1,len(palm_idx)*3)\n",
    "uvd_gt = f['uvd_gt'][...][:,palm_idx,:]\n",
    "# xyz_gt = f['xyz_gt'][...][:,palm_idx,:]\n",
    "bbsize = f['bbsize']\n",
    "new_file_names = f['new_file_names'][...]\n",
    "uvd_hand_centre = f['uvd_hand_centre']\n",
    "f.close()\n",
    "print(dataset,' loaded',test_x0.shape,test_y.shape)\n",
    "# data = numpy.expand_dims(test_x0,axis=-1),numpy.expand_dims(test_x1,axis=-1),numpy.expand_dims(test_x2,axis=-1),test_y"
   ]
  },
  {
   "cell_type": "code",
   "execution_count": null,
   "metadata": {},
   "outputs": [],
   "source": [
    "idx=0\n",
    "cur_frame = new_file_names[idx]\n",
    "depth = Image.open(\"%s/%s.png\"%(img_dir,cur_frame))\n",
    "depth = numpy.asarray(depth, dtype='uint16')\n",
    "\n",
    "imgcopy=depth.copy()\n",
    "min = imgcopy.min()\n",
    "max = imgcopy.max()\n",
    "#scale to 0 - 255\n",
    "imgcopy = (imgcopy - min) / (max - min) * 255. \n",
    "imgcopy = imgcopy.astype('uint8')\n",
    "imgcopy = cv2.cvtColor(imgcopy, cv2.COLOR_GRAY2BGR)\n",
    "\n",
    "#visualize annotation\n",
    "for j in range(uvd_gt.shape[1]):\n",
    "    cv2.circle(imgcopy,(int(uvd_gt[idx,j,0]),int(uvd_gt[idx,j,1])), int(3000.0/numpy.mean(uvd_gt[idx,j,2])), (0, 255, 0), -1)\n",
    "    \n",
    "print(cur_frame)\n",
    "\n",
    "fig, ax = plt.subplots(figsize=(10, 10))\n",
    "ax.imshow(imgcopy)\n",
    "\n"
   ]
  },
  {
   "cell_type": "code",
   "execution_count": null,
   "metadata": {},
   "outputs": [],
   "source": [
    "fig, ax = plt.subplots(1,3,figsize=(18, 16))\n",
    "ax[0].imshow(test_x0[idx])\n",
    "ax[0].set_title('96')\n",
    "ax[1].imshow(test_x1[idx])\n",
    "ax[1].set_title('48')\n",
    "ax[2].imshow(test_x2[idx])\n",
    "ax[2].set_title('24')"
   ]
  },
  {
   "cell_type": "markdown",
   "metadata": {},
   "source": [
    "# Augmentation"
   ]
  },
  {
   "cell_type": "code",
   "execution_count": null,
   "metadata": {},
   "outputs": [],
   "source": [
    "def augment_data_3d_mega_rot_scale(r0,r1,r2,gr_uvd):\n",
    "    new_r0=r0[:,:,:,0].copy()\n",
    "    new_r1=r1[:,:,:,0].copy()\n",
    "    new_r2=r2[:,:,:,0].copy()\n",
    "\n",
    "    new_gr_uvd =gr_uvd.copy().reshape(gr_uvd.shape[0],-1,3)\n",
    "\n",
    "    num_frame=gr_uvd.shape[0]\n",
    "    num_jnt=new_gr_uvd.shape[1]\n",
    "\n",
    "    img_gr_uv =new_gr_uvd[:,:,:2]*96+48\n",
    "\n",
    "    rot = numpy.random.uniform(low=-180,high=180,size=num_frame)\n",
    "    scale_factor = numpy.random.normal(loc=1,scale=0.05,size=num_frame)\n",
    "\n",
    "    # for i in range(0,gr_uvd.shape[0],1):\n",
    "    for i in numpy.random.randint(0,num_frame,int(num_frame*0.5)):\n",
    "        \"\"\"2d translation, rotation and scale\"\"\"\n",
    "        # print(center_x[i],center_y[i],rot[i],scale_factor[i])\n",
    "        M = cv2.getRotationMatrix2D((48,48),rot[i],scale_factor[i])\n",
    "        new_r0[i] = cv2.warpAffine(new_r0[i],M,(96,96),borderValue=1)\n",
    "\n",
    "        for j in range(num_jnt):\n",
    "            tmp=numpy.dot(M,numpy.array([img_gr_uv[i,j,0],img_gr_uv[i,j,1],1]))\n",
    "            new_gr_uvd[i,j,0:2] = (tmp-48)/96\n",
    "        M = cv2.getRotationMatrix2D((24,24),rot[i],scale_factor[i])\n",
    "        new_r1[i] = cv2.warpAffine(new_r1[i],M,(48,48),borderValue=1)\n",
    "        M = cv2.getRotationMatrix2D((12,12),rot[i],scale_factor[i])\n",
    "        new_r2[i] = cv2.warpAffine(new_r2[i],M,(24,24),borderValue=1)\n",
    "\n",
    "    return numpy.expand_dims(new_r0,axis=-1),numpy.expand_dims(new_r1,axis=-1),\\\n",
    "           numpy.expand_dims(new_r2,axis=-1),new_gr_uvd.reshape(new_gr_uvd.shape[0],new_gr_uvd.shape[1]*new_gr_uvd.shape[2])\n",
    "\n",
    "train_img0 = numpy.expand_dims(test_x0, axis=-1)\n",
    "train_img1 = numpy.expand_dims(test_x1, axis=-1)\n",
    "train_img2 = numpy.expand_dims(test_x2, axis=-1)\n",
    "train_target = test_y\n",
    "\n",
    "batch_idx = [0,1]\n",
    "x0,x1,x2,y= augment_data_3d_mega_rot_scale(train_img0[batch_idx],train_img1[batch_idx],train_img2[batch_idx],\n",
    "                                                                train_target[batch_idx])\n",
    "fig, ax = plt.subplots(1,3,figsize=(18, 16))\n",
    "ax[0].imshow(numpy.squeeze(x0[0]))\n",
    "ax[0].set_title('96')\n",
    "ax[1].imshow(numpy.squeeze(x1[0]))\n",
    "ax[1].set_title('48')\n",
    "ax[2].imshow(numpy.squeeze(x2[0]))\n",
    "ax[2].set_title('24')"
   ]
  },
  {
   "cell_type": "code",
   "execution_count": null,
   "metadata": {},
   "outputs": [],
   "source": []
  }
 ],
 "metadata": {
  "kernelspec": {
   "display_name": "Python 3",
   "language": "python",
   "name": "python3"
  },
  "language_info": {
   "codemirror_mode": {
    "name": "ipython",
    "version": 3
   },
   "file_extension": ".py",
   "mimetype": "text/x-python",
   "name": "python",
   "nbconvert_exporter": "python",
   "pygments_lexer": "ipython3",
   "version": "3.6.8"
  }
 },
 "nbformat": 4,
 "nbformat_minor": 2
}
