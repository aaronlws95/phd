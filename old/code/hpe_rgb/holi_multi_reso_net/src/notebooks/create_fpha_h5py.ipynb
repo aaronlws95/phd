{
 "cells": [
  {
   "cell_type": "code",
   "execution_count": 1,
   "metadata": {},
   "outputs": [],
   "source": [
    "import os\n",
    "import sys\n",
    "\n",
    "sys.path.append(os.path.dirname(os.path.abspath('')))\n",
    "import utils.prepare_data as pd"
   ]
  },
  {
   "cell_type": "code",
   "execution_count": 2,
   "metadata": {},
   "outputs": [],
   "source": [
    "dataset_dir = '/media/aaron/SHAREDDATA/First_Person_Action_Benchmark'\n",
    "save_dir = '/media/aaron/SHAREDDATA/data'\n",
    "train_pairs, test_pairs = pd.get_fpha_data_list('color', dataset_dir)"
   ]
  },
  {
   "cell_type": "code",
   "execution_count": 5,
   "metadata": {},
   "outputs": [
    {
     "name": "stderr",
     "output_type": "stream",
     "text": [
      "100%|██████████| 52324/52324 [37:12<00:00, 23.43it/s]\n"
     ]
    }
   ],
   "source": [
    "file_name = [i for i,j in train_pairs]\n",
    "xyz_gt = [j for i,j in train_pairs]\n",
    "pd.write_data_h5py(file_name, xyz_gt, os.path.join(save_dir, 'train_fpha_RGB_.h5'))"
   ]
  },
  {
   "cell_type": "code",
   "execution_count": 6,
   "metadata": {},
   "outputs": [
    {
     "name": "stderr",
     "output_type": "stream",
     "text": [
      "  0%|          | 0/53135 [00:00<?, ?it/s]/home/aaron/anaconda3/envs/tf_cu9/lib/python3.6/site-packages/skimage/transform/_warps.py:105: UserWarning: The default mode, 'constant', will be changed to 'reflect' in skimage 0.15.\n",
      "  warn(\"The default mode, 'constant', will be changed to 'reflect' in \"\n",
      "/home/aaron/anaconda3/envs/tf_cu9/lib/python3.6/site-packages/skimage/transform/_warps.py:110: UserWarning: Anti-aliasing will be enabled by default in skimage 0.15 to avoid aliasing artifacts when down-sampling images.\n",
      "  warn(\"Anti-aliasing will be enabled by default in skimage 0.15 to \"\n",
      "100%|██████████| 53135/53135 [40:10<00:00, 23.22it/s] \n"
     ]
    }
   ],
   "source": [
    "file_name = [i for i,j in test_pairs]\n",
    "xyz_gt = [j for i,j in test_pairs]\n",
    "pd.write_data_h5py(file_name, xyz_gt, os.path.join(save_dir, 'test_fpha_RGB.h5'))"
   ]
  },
  {
   "cell_type": "code",
   "execution_count": null,
   "metadata": {},
   "outputs": [],
   "source": []
  }
 ],
 "metadata": {
  "kernelspec": {
   "display_name": "Python 3",
   "language": "python",
   "name": "python3"
  },
  "language_info": {
   "codemirror_mode": {
    "name": "ipython",
    "version": 3
   },
   "file_extension": ".py",
   "mimetype": "text/x-python",
   "name": "python",
   "nbconvert_exporter": "python",
   "pygments_lexer": "ipython3",
   "version": "3.6.8"
  }
 },
 "nbformat": 4,
 "nbformat_minor": 2
}
