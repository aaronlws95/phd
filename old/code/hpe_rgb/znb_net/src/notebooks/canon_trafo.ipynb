{
 "cells": [
  {
   "cell_type": "code",
   "execution_count": null,
   "metadata": {},
   "outputs": [],
   "source": [
    "import os\n",
    "import sys\n",
    "import numpy as np\n",
    "from PIL import Image\n",
    "from matplotlib import pyplot as plt\n",
    "from skimage.transform import resize\n",
    "from mpl_toolkits.mplot3d import Axes3D\n",
    "\n",
    "sys.path.append(os.path.dirname(os.path.abspath('')))\n",
    "import utils.prepare_data as pd\n",
    "import utils.visualize as visual\n",
    "import utils.convert_xyz_uvd as xyzuvd\n",
    "import utils.camera_info as cam"
   ]
  },
  {
   "cell_type": "code",
   "execution_count": null,
   "metadata": {},
   "outputs": [],
   "source": [
    "dataset_dir = '/4TB/aaron/First_Person_Action_Benchmark'\n",
    "train_pairs, test_pairs = pd.get_fpha_data_list('color', dataset_dir)\n",
    "\n"
   ]
  },
  {
   "cell_type": "code",
   "execution_count": null,
   "metadata": {},
   "outputs": [],
   "source": [
    "file_name = [i for i,j in train_pairs]\n",
    "xyz_gt = [j for i,j in train_pairs]\n",
    "idx = 5000\n",
    "frame = file_name[idx]\n",
    "xyz_gt = np.reshape(xyz_gt, (-1, 21, 3))\n",
    "xyz_gt = xyz_gt[idx]\n",
    "uvd_gt = xyzuvd.xyz2uvd_color(xyz_gt)\n",
    "color = Image.open(frame)\n",
    "color = np.asarray(color, dtype='uint32')\n",
    "print(color.shape)\n",
    "print(frame)\n",
    "visual.show_img_and_skel_color(file_name[idx], uvd_gt)\n"
   ]
  },
  {
   "cell_type": "code",
   "execution_count": null,
   "metadata": {},
   "outputs": [],
   "source": [
    "REORDER = [0, 1, 6, 7, 8, 2, 9, 10, 11, 3, 12, 13, 14, 4, 15, 16, 17, 5, 18, 19, 20]\n",
    "\n",
    "fig = plt.figure(figsize=(12, 18))\n",
    "ax = fig.add_subplot(1, 1, 1, projection='3d')\n",
    "ax.view_init(elev=30, azim=45)\n",
    "\n",
    "visual.visualize_joints_3d(ax, xyz_gt[REORDER], joint_idxs=False)\n",
    "plt.show()"
   ]
  },
  {
   "cell_type": "code",
   "execution_count": null,
   "metadata": {},
   "outputs": [],
   "source": [
    "def left_handed_rot_mat(dim, angle):\n",
    "    c, s = np.cos(angle), np.sin(angle)\n",
    "    if dim == 'x':\n",
    "        rot_mat = [[1., 0, 0],\n",
    "                   [0, c, s],\n",
    "                   [0, -s, c]]\n",
    "    elif dim == 'y':\n",
    "        rot_mat = [[c, 0, -s],\n",
    "                  [0, 1, 0],\n",
    "                  [s, 0, c]]\n",
    "    elif dim == 'z':\n",
    "        rot_mat = [[c, s, 0],\n",
    "                   [-s, c, 0],\n",
    "                   [0, 0, 1]]\n",
    "    else:\n",
    "        raise ValueError('dim needs to be x, y or z')\n",
    "    \n",
    "    return rot_mat\n",
    "\n",
    "def rad(angle):\n",
    "    return np.radians(angle)\n",
    "\n",
    "def deg(angle):\n",
    "    return np.degrees(angle)\n",
    "\n",
    "xyz_gt = np.expand_dims(xyz_gt, axis=0)\n",
    "print(xyz_gt.shape)"
   ]
  },
  {
   "cell_type": "code",
   "execution_count": null,
   "metadata": {},
   "outputs": [],
   "source": [
    "coords_xyz = xyz_gt\n",
    "\n",
    "ROOT_NODE_ID = 0\n",
    "ALIGN_NODE_ID = 3 #beg middle\n",
    "ROT_NODE_ID = 5 #beg pinky\n",
    "\n",
    "# 1. Translate the whole set s.t. the root kp is located in the origin\n",
    "trans = coords_xyz[:, ROOT_NODE_ID, :]\n",
    "coords_xyz_t = coords_xyz - trans"
   ]
  },
  {
   "cell_type": "code",
   "execution_count": null,
   "metadata": {},
   "outputs": [],
   "source": [
    "REORDER = [0, 1, 6, 7, 8, 2, 9, 10, 11, 3, 12, 13, 14, 4, 15, 16, 17, 5, 18, 19, 20]\n",
    "\n",
    "fig = plt.figure()\n",
    "ax = fig.add_subplot(1, 1, 1, projection='3d')\n",
    "\n",
    "plotthis = np.squeeze(coords_xyz_t)\n",
    "visual.visualize_joints_3d(ax, plotthis[REORDER], joint_idxs=False)\n",
    "ax.set_xlabel('x')\n",
    "ax.set_ylabel('y')\n",
    "ax.set_zlabel('z')\n",
    "plt.show()"
   ]
  },
  {
   "cell_type": "code",
   "execution_count": null,
   "metadata": {},
   "outputs": [],
   "source": [
    "# 2. Rotate and scale keypoints such that the root bone is of unit length and aligned with the y axis\n",
    "p = coords_xyz_t[:, ALIGN_NODE_ID, :]  # thats the point we want to put on (0/1/0)\n",
    "\n",
    "# Rotate point into the yz-plane\n",
    "alpha = np.arctan2(p[:, 0], p[:, 1])\n",
    "\n",
    "rot_mat = left_handed_rot_mat('z', alpha)\n",
    "\n",
    "coords_xyz_t_r1 = np.matmul(coords_xyz_t, rot_mat)\n",
    "total_rot_mat = rot_mat"
   ]
  },
  {
   "cell_type": "code",
   "execution_count": null,
   "metadata": {},
   "outputs": [],
   "source": [
    "REORDER = [0, 1, 6, 7, 8, 2, 9, 10, 11, 3, 12, 13, 14, 4, 15, 16, 17, 5, 18, 19, 20]\n",
    "\n",
    "fig = plt.figure()\n",
    "ax = fig.add_subplot(1, 1, 1, projection='3d')\n",
    "p = coords_xyz_t_r1[:, ALIGN_NODE_ID, :]\n",
    "print(p)\n",
    "\n",
    "plotthis = np.squeeze(coords_xyz_t_r1)\n",
    "visual.visualize_joints_3d(ax, plotthis[REORDER], joint_idxs=False)\n",
    "ax.set_xlabel('x')\n",
    "ax.set_ylabel('y')\n",
    "ax.set_zlabel('z')\n",
    "plt.show()"
   ]
  },
  {
   "cell_type": "code",
   "execution_count": null,
   "metadata": {},
   "outputs": [],
   "source": [
    "# Rotate point within the yz-plane onto the xy-plane\n",
    "p = coords_xyz_t_r1[:, ALIGN_NODE_ID, :]\n",
    "beta = -np.arctan2(p[:, 2], p[:, 1])\n",
    "rot_mat = left_handed_rot_mat('x', beta + 3.141592653589793)\n",
    "coords_xyz_t_r2 = np.matmul(coords_xyz_t_r1, rot_mat)\n",
    "total_rot_mat = np.matmul(total_rot_mat, rot_mat)"
   ]
  },
  {
   "cell_type": "code",
   "execution_count": null,
   "metadata": {},
   "outputs": [],
   "source": [
    "REORDER = [0, 1, 6, 7, 8, 2, 9, 10, 11, 3, 12, 13, 14, 4, 15, 16, 17, 5, 18, 19, 20]\n",
    "\n",
    "fig = plt.figure()\n",
    "ax = fig.add_subplot(1, 1, 1, projection='3d')\n",
    "p = coords_xyz_t_r2[:, ALIGN_NODE_ID, :]\n",
    "print(p)\n",
    "\n",
    "plotthis = np.squeeze(coords_xyz_t_r2)\n",
    "visual.visualize_joints_3d(ax, plotthis[REORDER], joint_idxs=False)\n",
    "ax.set_xlabel('x')\n",
    "ax.set_ylabel('y')\n",
    "ax.set_zlabel('z')\n",
    "plt.show()"
   ]
  },
  {
   "cell_type": "code",
   "execution_count": null,
   "metadata": {},
   "outputs": [],
   "source": [
    "# 3. Rotate keypoints such that rotation along the y-axis is defined\n",
    "p = coords_xyz_t_r2[:, ROT_NODE_ID, :]\n",
    "gamma = np.arctan2(p[:, 2], p[:, 0])\n",
    "rot_mat = left_handed_rot_mat('y', gamma)\n",
    "coords_xyz_normed = np.matmul(coords_xyz_t_r2, rot_mat)\n",
    "total_rot_mat = np.matmul(total_rot_mat, rot_mat)"
   ]
  },
  {
   "cell_type": "code",
   "execution_count": null,
   "metadata": {},
   "outputs": [],
   "source": [
    "REORDER = [0, 1, 6, 7, 8, 2, 9, 10, 11, 3, 12, 13, 14, 4, 15, 16, 17, 5, 18, 19, 20]\n",
    "\n",
    "fig = plt.figure()\n",
    "ax = fig.add_subplot(1, 1, 1, projection='3d')\n",
    "ax.view_init(elev=90, azim=90)\n",
    "\n",
    "plotthis = np.squeeze(coords_xyz_normed)\n",
    "visual.visualize_joints_3d(ax, plotthis[REORDER], joint_idxs=False)\n",
    "ax.set_xlabel('x')\n",
    "ax.set_ylabel('y')\n",
    "ax.set_zlabel('z')\n",
    "plt.show()"
   ]
  },
  {
   "cell_type": "code",
   "execution_count": null,
   "metadata": {},
   "outputs": [],
   "source": []
  }
 ],
 "metadata": {
  "kernelspec": {
   "display_name": "Python 3",
   "language": "python",
   "name": "python3"
  },
  "language_info": {
   "codemirror_mode": {
    "name": "ipython",
    "version": 3
   },
   "file_extension": ".py",
   "mimetype": "text/x-python",
   "name": "python",
   "nbconvert_exporter": "python",
   "pygments_lexer": "ipython3",
   "version": "3.6.8"
  }
 },
 "nbformat": 4,
 "nbformat_minor": 2
}
