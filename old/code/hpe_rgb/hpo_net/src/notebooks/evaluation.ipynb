{
 "cells": [
  {
   "cell_type": "code",
   "execution_count": null,
   "metadata": {},
   "outputs": [],
   "source": [
    "import os\n",
    "import sys\n",
    "from PIL import Image\n",
    "import matplotlib.pyplot as plt\n",
    "import numpy as np\n",
    "from skimage.transform import resize\n",
    "\n",
    "sys.path.append(os.path.dirname(os.path.abspath('')))\n",
    "import utils.prepare_data as pd\n",
    "import utils.xyzuvd as xyzuvd\n",
    "import utils.visual as visual\n",
    "import utils.error as error\n",
    "from utils.directory import DATA_DIR, DATASET_DIR"
   ]
  },
  {
   "cell_type": "code",
   "execution_count": null,
   "metadata": {},
   "outputs": [],
   "source": [
    "epoch = 14\n",
    "exp = 'exp4'"
   ]
  },
  {
   "cell_type": "markdown",
   "metadata": {},
   "source": [
    "# Train"
   ]
  },
  {
   "cell_type": "code",
   "execution_count": null,
   "metadata": {},
   "outputs": [],
   "source": [
    "data_split = 'train'\n",
    "save_prefix = '%s_fpha' %data_split\n",
    "keys = pd.get_keys(save_prefix)\n",
    "xyz_gt = np.array(pd.read_all_lmdb_from_name(keys, save_prefix, 'xyz_gt', 'float32', (21, 3)))\n",
    "uvd_gt_resize = np.array(pd.read_all_lmdb_from_name(keys, save_prefix, 'uvd_gt_resize', 'float32', (21, 3)))\n",
    "\n",
    "uvd_gt = xyzuvd.xyz2uvd_color(xyz_gt)\n",
    "REORDER = visual.REORDER\n",
    "\n",
    "pred_file = os.path.join(DATA_DIR, exp, 'predict_%s_%s_uvd.txt' %(epoch, data_split))\n",
    "pred_uvd_resize = pd.read_predict(pred_file)\n",
    "pred_uvd_resize = np.reshape(pred_uvd_resize, (-1, 21, 3))\n",
    "pred_uvd = pd.scale_annot_wh(pred_uvd_resize, (416, 416), (1920, 1080))\n",
    "pred_xyz = xyzuvd.uvd2xyz_color(pred_uvd)\n",
    "pred_file_845 = os.path.join(DATA_DIR, exp, 'predict_%s_%s_uvd_845.txt' %(epoch, data_split))\n",
    "pred_uvd_resize_845 = pd.read_predict(pred_file_845)\n",
    "pred_uvd_resize_845 = np.reshape(pred_uvd_resize_845, (-1, 845, 21, 3))"
   ]
  },
  {
   "cell_type": "code",
   "execution_count": null,
   "metadata": {},
   "outputs": [],
   "source": [
    "print('%s UVD RESIZED mean_l2_error: ' %data_split, error.mean_pose_error(uvd_gt_resize, pred_uvd_resize))\n",
    "print('%s UVD mean_l2_error: ' %data_split, error.mean_pose_error(uvd_gt, pred_uvd))\n",
    "print('%s XYZ mean_l2_error: ' %data_split, error.mean_pose_error(xyz_gt, pred_xyz))"
   ]
  },
  {
   "cell_type": "code",
   "execution_count": null,
   "metadata": {},
   "outputs": [],
   "source": [
    "idx = 0\n",
    "file_name_i = keys[idx]\n",
    "img = pd.get_img(file_name_i)\n",
    "pred_uvd_i = pred_uvd[idx]\n",
    "uvd_gt_i_resize = uvd_gt[idx]\n",
    "\n",
    "fig, ax = plt.subplots(1,2, figsize=(15,15))\n",
    "ax[0].imshow(img)\n",
    "ax[0].set_title('pred')\n",
    "visual.visualize_joints_2d(ax[0], pred_uvd_i[REORDER], joint_idxs=False)\n",
    "ax[1].imshow(img)\n",
    "ax[1].set_title('true')\n",
    "visual.visualize_joints_2d(ax[1], uvd_gt_i_resize[REORDER], joint_idxs=False)"
   ]
  },
  {
   "cell_type": "code",
   "execution_count": null,
   "metadata": {},
   "outputs": [],
   "source": [
    "pred_conf_file = os.path.join(DATA_DIR, exp, 'predict_%s_%s_conf.txt' %(epoch, data_split))\n",
    "pred_conf = pd.read_predict(pred_conf_file)\n",
    "pred_conf = np.array(pred_conf)\n",
    "\n",
    "pred_conf_i = pred_conf[idx]\n",
    "norm_pred_conf_i = (pred_conf_i - np.amin(pred_conf_i))/(np.amax(pred_conf_i) - np.amin(pred_conf_i))\n",
    "print('pred conf: ', np.argmax(pred_conf_i), pred_conf[idx, np.argmax(pred_conf_i)])"
   ]
  },
  {
   "cell_type": "code",
   "execution_count": null,
   "metadata": {},
   "outputs": [],
   "source": [
    "max_idx = []\n",
    "for i in range(len(norm_pred_conf_i)//5):\n",
    "    max_idx.append(i*5 + np.argmax(norm_pred_conf_i[i*5:i*5+5]))\n",
    "show_uvd = pred_uvd_resize_845[idx, np.argmax(pred_conf_i)]\n",
    "img_rsz = pd.sk_resize(img, (416, 416))\n",
    "import matplotlib.patches as patches\n",
    "fig, ax = plt.subplots(figsize=(5,5))\n",
    "visual.visualize_joints_2d(ax, show_uvd[REORDER], joint_idxs=False)\n",
    "ax.imshow(img_rsz.astype('uint32'))\n",
    "for i in range(len(max_idx)):\n",
    "    index = np.unravel_index(i, (13, 13))\n",
    "    x = index[0]\n",
    "    y = index[1]\n",
    "    al = norm_pred_conf_i[max_idx[i]]\n",
    "    if al == np.amax(norm_pred_conf_i):\n",
    "        c = 'r'\n",
    "    elif al <= 0.9:\n",
    "        c = 'b'\n",
    "    else:\n",
    "        c = 'y'\n",
    "    rect = patches.Rectangle((x*32,y*32),32,32,linewidth=1, edgecolor=c, facecolor=c, fill=True, alpha=al)\n",
    "    ax.add_patch(rect)"
   ]
  },
  {
   "cell_type": "markdown",
   "metadata": {},
   "source": [
    "# Test"
   ]
  },
  {
   "cell_type": "code",
   "execution_count": null,
   "metadata": {},
   "outputs": [],
   "source": [
    "data_split = 'test'\n",
    "save_prefix = '%s_fpha' %data_split\n",
    "keys = pd.get_keys(save_prefix)\n",
    "xyz_gt = np.array(pd.read_all_lmdb_from_name(keys, save_prefix, 'xyz_gt', 'float32', (21, 3)))\n",
    "uvd_gt_resize = np.array(pd.read_all_lmdb_from_name(keys, save_prefix, 'uvd_gt_resize', 'float32', (21, 3)))\n",
    "\n",
    "\n",
    "uvd_gt = xyzuvd.xyz2uvd_color(xyz_gt)\n",
    "REORDER = visual.REORDER\n",
    "\n",
    "pred_file = os.path.join(DATA_DIR, exp, 'predict_%s_%s_uvd.txt' %(epoch, data_split))\n",
    "pred_uvd_resize = pd.read_predict(pred_file)\n",
    "pred_uvd_resize = np.reshape(pred_uvd_resize, (-1, 21, 3))\n",
    "pred_uvd = pd.scale_annot_wh(pred_uvd_resize, (416, 416), (1920, 1080))\n",
    "pred_xyz = xyzuvd.uvd2xyz_color(pred_uvd)\n",
    "pred_file_845 = os.path.join(DATA_DIR, exp, 'predict_%s_%s_uvd_845.txt' %(epoch, data_split))\n",
    "pred_uvd_resize_845 = pd.read_predict(pred_file_845)\n",
    "pred_uvd_resize_845 = np.reshape(pred_uvd_resize_845, (-1, 845, 21, 3))\n"
   ]
  },
  {
   "cell_type": "code",
   "execution_count": null,
   "metadata": {},
   "outputs": [],
   "source": [
    "print('%s UVD RESIZED mean_l2_error: ' %data_split, error.mean_pose_error(uvd_gt_resize, pred_uvd_resize))\n",
    "print('%s UVD mean_l2_error: ' %data_split, error.mean_pose_error(uvd_gt, pred_uvd))\n",
    "print('%s XYZ mean_l2_error: ' %data_split, error.mean_pose_error(xyz_gt, pred_xyz))"
   ]
  },
  {
   "cell_type": "code",
   "execution_count": null,
   "metadata": {},
   "outputs": [],
   "source": [
    "idx = 0\n",
    "file_name_i = keys[idx]\n",
    "img = pd.get_img(file_name_i)\n",
    "pred_uvd_i = pred_uvd[idx]\n",
    "uvd_gt_i_resize = uvd_gt[idx]\n",
    "\n",
    "fig, ax = plt.subplots(1,2, figsize=(15,15))\n",
    "ax[0].imshow(img)\n",
    "ax[0].set_title('pred')\n",
    "visual.visualize_joints_2d(ax[0], pred_uvd_i[REORDER], joint_idxs=False)\n",
    "ax[1].imshow(img)\n",
    "ax[1].set_title('true')\n",
    "visual.visualize_joints_2d(ax[1], uvd_gt_i_resize[REORDER], joint_idxs=False)"
   ]
  },
  {
   "cell_type": "code",
   "execution_count": null,
   "metadata": {},
   "outputs": [],
   "source": [
    "pred_conf_file = os.path.join(DATA_DIR, exp, 'predict_%s_%s_conf.txt' %(epoch, data_split))\n",
    "pred_conf = pd.read_predict(pred_conf_file)\n",
    "pred_conf = np.array(pred_conf)\n",
    "\n",
    "pred_conf_i = pred_conf[idx]\n",
    "norm_pred_conf_i = (pred_conf_i - np.amin(pred_conf_i))/(np.amax(pred_conf_i) - np.amin(pred_conf_i))\n",
    "print('pred conf: ', np.argmax(pred_conf_i), pred_conf[idx, np.argmax(pred_conf_i)])"
   ]
  },
  {
   "cell_type": "code",
   "execution_count": null,
   "metadata": {},
   "outputs": [],
   "source": [
    "max_idx = []\n",
    "for i in range(len(norm_pred_conf_i)//5):\n",
    "    max_idx.append(i*5 + np.argmax(norm_pred_conf_i[i*5:i*5+5]))\n",
    "show_uvd = pred_uvd_resize_845[idx, np.argmax(pred_conf_i)]\n",
    "img_rsz = pd.sk_resize(img, (416, 416))\n",
    "import matplotlib.patches as patches\n",
    "fig, ax = plt.subplots(figsize=(5,5))\n",
    "visual.visualize_joints_2d(ax, show_uvd[REORDER], joint_idxs=False)\n",
    "ax.imshow(img_rsz.astype('uint32'))\n",
    "for i in range(len(max_idx)):\n",
    "    index = np.unravel_index(i, (13, 13))\n",
    "    x = index[0]\n",
    "    y = index[1]\n",
    "    al = norm_pred_conf_i[max_idx[i]]\n",
    "    if al == np.amax(norm_pred_conf_i):\n",
    "        c = 'r'\n",
    "    elif al <= 0.9:\n",
    "        c = 'b'\n",
    "    else:\n",
    "        c = 'y'\n",
    "    rect = patches.Rectangle((x*32,y*32),32,32,linewidth=1, edgecolor=c, facecolor=c, fill=True, alpha=al)\n",
    "    ax.add_patch(rect)"
   ]
  },
  {
   "cell_type": "code",
   "execution_count": null,
   "metadata": {},
   "outputs": [],
   "source": []
  }
 ],
 "metadata": {
  "kernelspec": {
   "display_name": "Python 3",
   "language": "python",
   "name": "python3"
  },
  "language_info": {
   "codemirror_mode": {
    "name": "ipython",
    "version": 3
   },
   "file_extension": ".py",
   "mimetype": "text/x-python",
   "name": "python",
   "nbconvert_exporter": "python",
   "pygments_lexer": "ipython3",
   "version": "3.6.8"
  }
 },
 "nbformat": 4,
 "nbformat_minor": 2
}
