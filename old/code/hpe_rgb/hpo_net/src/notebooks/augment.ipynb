{
 "cells": [
  {
   "cell_type": "code",
   "execution_count": null,
   "metadata": {},
   "outputs": [],
   "source": [
    "import os\n",
    "import sys\n",
    "import pickle\n",
    "import numpy as np\n",
    "import torch\n",
    "import torchvision.transforms as transforms\n",
    "from PIL import Image\n",
    "import matplotlib.pyplot as plt\n",
    "import lmdb\n",
    "import imgaug as ia\n",
    "from imgaug import augmenters as iaa\n",
    "\n",
    "sys.path.append(os.path.dirname(os.path.abspath('')))\n",
    "import utils.prepare_data as pd\n",
    "import utils.xyzuvd as xyzuvd\n",
    "import utils.visual as visual\n",
    "import utils.error as error\n",
    "from utils.directory import DATA_DIR, DATASET_DIR"
   ]
  },
  {
   "cell_type": "code",
   "execution_count": null,
   "metadata": {},
   "outputs": [],
   "source": [
    "save_prefix = 'train_fpha'\n",
    "keys_cache_file = os.path.join(DATA_DIR, save_prefix + '_keys_cache.p')\n",
    "keys = pickle.load(open(keys_cache_file, \"rb\"))\n",
    "REORDER = visual.REORDER\n",
    "\n",
    "idx = 0\n",
    "key = keys[idx]\n",
    "img = np.asarray(Image.open(os.path.join(DATASET_DIR, 'First_Person_Action_Benchmark', 'Video_files_416', key)))\n",
    "\n",
    "dataroot_uvd_gt = os.path.join(DATA_DIR, save_prefix + '_uvd_gt_resize.lmdb')\n",
    "uvd_gt_env = lmdb.open(dataroot_uvd_gt, readonly=True, lock=False, readahead=False, meminit=False)\n",
    "uvd_gt = pd.read_lmdb(key, uvd_gt_env, np.float32, (21, 3))\n",
    "\n",
    "dataroot_hand_cell_idx = os.path.join(DATA_DIR, save_prefix + '_hand_cell_idx.lmdb')\n",
    "hand_cell_idx_env = lmdb.open(dataroot_hand_cell_idx, readonly=True, lock=False, readahead=False, meminit=False)\n",
    "hand_cell_idx = pd.read_lmdb(key, hand_cell_idx_env, np.uint8, (845))"
   ]
  },
  {
   "cell_type": "code",
   "execution_count": null,
   "metadata": {},
   "outputs": [],
   "source": [
    "fig,ax = plt.subplots()\n",
    "ax.imshow(img)\n",
    "visual.visualize_joints_2d(ax, uvd_gt[REORDER], joint_idxs=False)"
   ]
  },
  {
   "cell_type": "code",
   "execution_count": null,
   "metadata": {},
   "outputs": [],
   "source": [
    "skel_kps = []\n",
    "for kps in uvd_gt:\n",
    "    skel_kps.append(ia.Keypoint(x=kps[0],y=kps[1]))\n",
    "skel_kpsoi = ia.KeypointsOnImage(skel_kps, shape=img.shape)\n",
    "\n",
    "seq = iaa.Sequential([\n",
    "    iaa.ChangeColorspace(from_colorspace=\"RGB\", to_colorspace=\"HSV\"),\n",
    "    iaa.WithChannels(0, iaa.Add((-90, 90))), #hue\n",
    "    iaa.WithChannels(1, iaa.Add((-128, 128))), #saturation\n",
    "    iaa.WithChannels(2, iaa.Add((-128, 128))), #exposure\n",
    "    iaa.ChangeColorspace(from_colorspace=\"HSV\", to_colorspace=\"RGB\"),\n",
    "    iaa.Affine(translate_percent={\"x\": (-0.1, 0.1), \"y\": (-0.1, 0.1)}),\n",
    "])\n",
    "\n",
    "seq_det = seq.to_deterministic()\n",
    "img_aug = seq_det.augment_images([img])[0]\n",
    "kps_aug = seq_det.augment_keypoints([skel_kpsoi])[0]\n",
    "kps_aug = kps_aug.get_coords_array()\n",
    "uvd_gt_aug = np.concatenate((kps_aug, np.expand_dims((uvd_gt[:, 2]), -1)), -1)"
   ]
  },
  {
   "cell_type": "code",
   "execution_count": null,
   "metadata": {},
   "outputs": [],
   "source": [
    "fig,ax = plt.subplots()\n",
    "ax.imshow(img_aug)\n",
    "visual.visualize_joints_2d(ax, uvd_gt_aug[REORDER], joint_idxs=False)\n",
    "\n",
    "print(np.amax(img_aug[..., 0]))\n",
    "print(np.amax(img_aug[..., 1]))\n",
    "print(np.amax(img_aug[..., 2]))"
   ]
  },
  {
   "cell_type": "code",
   "execution_count": null,
   "metadata": {},
   "outputs": [],
   "source": [
    "pad = 10\n",
    "x_max = int(np.amax(uvd_gt_aug[:, 0])) + pad\n",
    "x_min = np.maximum(int(np.amin(uvd_gt_aug[:, 0])) - pad, 0)\n",
    "y_max = int(np.amax(uvd_gt_aug[:, 1])) + pad\n",
    "y_min = np.maximum(int(np.amin(uvd_gt_aug[:, 1])) - pad, 0)\n",
    "z_max = int(np.amax(uvd_gt_aug[:, 2])) + pad\n",
    "z_min = np.maximum(int(np.amin(uvd_gt_aug[:, 2])) - pad, 0)\n",
    "\n",
    "x_min_scale = x_min//32\n",
    "x_max_scale = np.ceil(x_max/32)\n",
    "y_min_scale = y_min//32\n",
    "y_max_scale = np.ceil(y_max/32)\n",
    "z_min_scale = z_min//120\n",
    "z_max_scale = np.ceil(z_max/120)\n",
    "\n",
    "if z_max_scale > 5:\n",
    "    z_max_scale = 5\n",
    "if y_max_scale > 13:\n",
    "    y_max_scale = 13\n",
    "if x_max_scale > 13:\n",
    "    x_max_scale = 13\n",
    "\n",
    "import itertools\n",
    "comb = [list(i) for i in itertools.product(np.arange(x_min_scale, x_max_scale), \\\n",
    "                                              np.arange(y_min_scale, y_max_scale), \\\n",
    "                                              np.arange(z_min_scale, z_max_scale))]\n",
    "comb = np.asarray(comb, dtype=np.uint8)\n",
    "\n",
    "import matplotlib.patches as patches\n",
    "fig, ax = plt.subplots(figsize=(13,13))\n",
    "ax.imshow(img_aug)\n",
    "visual.visualize_joints_2d(ax, uvd_gt_aug[REORDER], joint_idxs=False)\n",
    "for x,y,z in comb:\n",
    "    rect = patches.Rectangle((x*32,y*32),32,32,linewidth=1,edgecolor='r', facecolor='r', fill=True, alpha=0.5)\n",
    "    ax.add_patch(rect)\n",
    "    "
   ]
  },
  {
   "cell_type": "code",
   "execution_count": null,
   "metadata": {},
   "outputs": [],
   "source": [
    "ravel_comb = []\n",
    "for c in comb:\n",
    "    ravel_comb.append(np.ravel_multi_index(c, (13,13,5)))\n",
    "    \n",
    "hand_cell_i = np.zeros(845)\n",
    "hand_cell_i[ravel_comb] = 1\n",
    "hand_cell_i = hand_cell_i.astype('uint8')"
   ]
  },
  {
   "cell_type": "code",
   "execution_count": null,
   "metadata": {},
   "outputs": [],
   "source": [
    "print(hand_cell_i)"
   ]
  },
  {
   "cell_type": "code",
   "execution_count": null,
   "metadata": {},
   "outputs": [],
   "source": [
    "idxes = np.where(hand_cell_i == 1)\n",
    "unravel = np.unravel_index(idxes, (13, 13, 5))\n",
    "indexes = np.squeeze(unravel)"
   ]
  },
  {
   "cell_type": "code",
   "execution_count": null,
   "metadata": {},
   "outputs": [],
   "source": [
    "import matplotlib.patches as patches\n",
    "fig, ax = plt.subplots(figsize=(13,13))\n",
    "ax.imshow(img_aug)\n",
    "visual.visualize_joints_2d(ax, uvd_gt_aug[REORDER], joint_idxs=False)\n",
    "for i in range(indexes.shape[-1]):\n",
    "    x = indexes[0,i]\n",
    "    y = indexes[1,i]\n",
    "    rect = patches.Rectangle((x*32,y*32),32,32,linewidth=1,edgecolor='r', facecolor='r', fill=True, alpha=0.5)\n",
    "    ax.add_patch(rect)"
   ]
  },
  {
   "cell_type": "code",
   "execution_count": null,
   "metadata": {},
   "outputs": [],
   "source": []
  }
 ],
 "metadata": {
  "kernelspec": {
   "display_name": "Python 3",
   "language": "python",
   "name": "python3"
  },
  "language_info": {
   "codemirror_mode": {
    "name": "ipython",
    "version": 3
   },
   "file_extension": ".py",
   "mimetype": "text/x-python",
   "name": "python",
   "nbconvert_exporter": "python",
   "pygments_lexer": "ipython3",
   "version": "3.6.8"
  }
 },
 "nbformat": 4,
 "nbformat_minor": 2
}
