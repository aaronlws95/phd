{
 "cells": [
  {
   "cell_type": "code",
   "execution_count": null,
   "metadata": {},
   "outputs": [],
   "source": [
    "import os\n",
    "import sys\n",
    "from PIL import Image\n",
    "import matplotlib.pyplot as plt\n",
    "import numpy as np\n",
    "import cv2\n",
    "from tqdm import tqdm\n",
    "\n",
    "sys.path.append(os.path.dirname(os.path.abspath('')))\n",
    "import utils.FPHA_utils as FPHA\n",
    "import utils.HPO_utils as HPO\n",
    "from utils.lmdb_utils import *\n",
    "from utils.eval_utils import *\n",
    "from utils.image_utils import *"
   ]
  },
  {
   "cell_type": "code",
   "execution_count": null,
   "metadata": {},
   "outputs": [],
   "source": [
    "epoch = 200\n",
    "exp = 'base_rootbug'\n",
    "REORDER = FPHA.REORDER_IDX"
   ]
  },
  {
   "cell_type": "markdown",
   "metadata": {},
   "source": [
    "# Train"
   ]
  },
  {
   "cell_type": "code",
   "execution_count": null,
   "metadata": {},
   "outputs": [],
   "source": [
    "data_split = 'train'\n",
    "save_prefix = '%s_fpha_root' %data_split\n",
    "key_cache_file = os.path.join(HPO.DIR, save_prefix + '_keys_cache.p')\n",
    "img_path = get_keys(key_cache_file) \n",
    "\n",
    "dataroot = os.path.join(HPO.DIR, save_prefix + '_xyz_gt.lmdb')\n",
    "xyz_gt = read_all_lmdb_dataroot(img_path, dataroot, 'float32', (21, 3))\n",
    "uvd_gt = FPHA.xyz2uvd_color(xyz_gt)\n",
    "\n",
    "pred_uvd_best, pred_uvd_topk, pred_conf = HPO.load_all_pred(exp, epoch, data_split)\n",
    "\n",
    "pred_uvd = scale_points_WH(pred_uvd_best, (1, 1), (1920, 1080))\n",
    "pred_uvd[..., 2] *= 1000\n",
    "pred_xyz = FPHA.uvd2xyz_color(pred_uvd)\n"
   ]
  },
  {
   "cell_type": "code",
   "execution_count": null,
   "metadata": {},
   "outputs": [],
   "source": [
    "print('%s UVD mean_l2_error: ' %data_split, mean_L2_error(uvd_gt, pred_uvd))\n",
    "print('%s XYZ mean_l2_error: ' %data_split, mean_L2_error(xyz_gt, pred_xyz))\n",
    "error = []\n",
    "for i, (pred, uvd) in enumerate(zip(pred_uvd, uvd_gt)):\n",
    "#     print(i, mean_L2_error(uvd, pred))\n",
    "    error.append(mean_L2_error(uvd, pred))\n",
    "error = np.asarray(error)\n",
    "min_error_idx = np.argmin(error)\n",
    "max_error_idx = np.argmax(error)\n",
    "print('Best Pose id:', min_error_idx, 'uvd_error:', error[min_error_idx])\n",
    "print('Worst Pose id:', max_error_idx, 'uvd_error:', error[max_error_idx])"
   ]
  },
  {
   "cell_type": "code",
   "execution_count": null,
   "metadata": {},
   "outputs": [],
   "source": [
    "idx = 15541 \n",
    "file_name_i = img_path[idx]\n",
    "img = FPHA.get_img(file_name_i)\n",
    "pred_uvd_i = pred_uvd[idx]\n",
    "uvd_gt_i_resize = uvd_gt[idx]\n",
    "\n",
    "# for pred in pred_uvd_topk[idx]:\n",
    "#     pred = scale_points_WH(pred, (1, 1), (1920, 1080))\n",
    "#     print(mean_L2_error(uvd_gt_i_resize, pred))\n",
    "\n",
    "fig, ax = plt.subplots(1,2, figsize=(15,15))\n",
    "ax[0].imshow(img)\n",
    "ax[0].set_title('pred')\n",
    "FPHA.visualize_joints_2d(ax[0], pred_uvd_i[REORDER], joint_idxs=False)\n",
    "ax[1].imshow(img)\n",
    "ax[1].set_title('true')\n",
    "FPHA.visualize_joints_2d(ax[1], uvd_gt_i_resize[REORDER], joint_idxs=False)"
   ]
  },
  {
   "cell_type": "code",
   "execution_count": null,
   "metadata": {},
   "outputs": [],
   "source": [
    "pred_conf_i = pred_conf[idx]\n",
    "max_idx = []\n",
    "# get the best idx for each 2D cell\n",
    "for i in range(len(pred_conf_i)//5):\n",
    "    max_idx.append(i*5 + np.argmax(pred_conf_i[i*5:i*5+5]))\n",
    "\n",
    "fig, ax = plt.subplots(figsize=(5,5))\n",
    "pred_uvd_i_416 = scale_points_WH(pred_uvd_i, (1920, 1080), (416, 416))\n",
    "FPHA.visualize_joints_2d(ax, pred_uvd_i_416[REORDER], joint_idxs=False)\n",
    "img_rsz = resize_img(img, (416, 416))\n",
    "ax.imshow(img_rsz.astype('uint32'))\n",
    "\n",
    "# red is the best\n",
    "# yellow is anything over 0.9\n",
    "import matplotlib.patches as patches\n",
    "for i in range(len(max_idx)):\n",
    "    index = np.unravel_index(i, (13, 13))\n",
    "    x = index[0]\n",
    "    y = index[1]\n",
    "    al = pred_conf_i[max_idx[i]]\n",
    "    if al == np.amax(pred_conf_i):\n",
    "        c = 'r'\n",
    "    elif al <= 0.9:\n",
    "        c = 'b'\n",
    "    else:\n",
    "        c = 'y'\n",
    "    rect = patches.Rectangle((x*32,y*32),32,32,linewidth=1, edgecolor=c, facecolor=c, fill=True, alpha=al)\n",
    "    ax.add_patch(rect)"
   ]
  },
  {
   "cell_type": "code",
   "execution_count": null,
   "metadata": {},
   "outputs": [],
   "source": [
    "pck = percentage_frames_within_error_curve(xyz_gt, pred_xyz)\n",
    "print(pck)\n",
    "thresholds = np.arange(0, 85, 5)\n",
    "print('AUC:', calc_auc(pck, thresholds))"
   ]
  },
  {
   "cell_type": "markdown",
   "metadata": {},
   "source": [
    "# Test"
   ]
  },
  {
   "cell_type": "code",
   "execution_count": null,
   "metadata": {},
   "outputs": [],
   "source": [
    "data_split = 'test'\n",
    "save_prefix = '%s_fpha_root' %data_split\n",
    "\n",
    "key_cache_file = os.path.join(HPO.DIR, save_prefix + '_keys_cache.p')\n",
    "img_path = get_keys(key_cache_file) \n",
    "\n",
    "dataroot = os.path.join(HPO.DIR, save_prefix + '_xyz_gt.lmdb')\n",
    "xyz_gt = read_all_lmdb_dataroot(img_path, dataroot, 'float32', (21, 3))\n",
    "uvd_gt = FPHA.xyz2uvd_color(xyz_gt)\n",
    "\n",
    "pred_uvd_best, pred_uvd_topk, pred_conf = HPO.load_all_pred(exp, epoch, data_split)\n",
    "pred_uvd = scale_points_WH(pred_uvd_best, (1, 1), (1920, 1080))\n",
    "pred_uvd[..., 2] *= 1000\n",
    "pred_xyz = FPHA.uvd2xyz_color(pred_uvd)\n"
   ]
  },
  {
   "cell_type": "code",
   "execution_count": null,
   "metadata": {},
   "outputs": [],
   "source": [
    "print('%s UVD mean_l2_error: ' %data_split, mean_L2_error(uvd_gt, pred_uvd))\n",
    "print('%s XYZ mean_l2_error: ' %data_split, mean_L2_error(xyz_gt, pred_xyz))\n",
    "error = []\n",
    "for i, (pred, uvd) in enumerate(zip(pred_uvd, uvd_gt)):\n",
    "#     print(i, mean_L2_error(uvd, pred))\n",
    "    error.append(mean_L2_error(uvd, pred))\n",
    "error = np.asarray(error)\n",
    "min_error_idx = np.argmin(error)\n",
    "max_error_idx = np.argmax(error)\n",
    "print('Best Pose id:', min_error_idx, 'uvd_error:', error[min_error_idx])\n",
    "print('Worst Pose id:', max_error_idx, 'uvd_error:', error[max_error_idx])"
   ]
  },
  {
   "cell_type": "code",
   "execution_count": null,
   "metadata": {},
   "outputs": [],
   "source": [
    "idx = 0\n",
    "file_name_i = img_path[idx]\n",
    "img = FPHA.get_img(file_name_i)\n",
    "pred_uvd_i = pred_uvd[idx]\n",
    "uvd_gt_i_resize = uvd_gt[idx]\n",
    "\n",
    "fig, ax = plt.subplots(1,2, figsize=(15,15))\n",
    "ax[0].imshow(img)\n",
    "ax[0].set_title('pred')\n",
    "FPHA.visualize_joints_2d(ax[0], pred_uvd_i[REORDER], joint_idxs=False)\n",
    "ax[1].imshow(img)\n",
    "ax[1].set_title('true')\n",
    "FPHA.visualize_joints_2d(ax[1], uvd_gt_i_resize[REORDER], joint_idxs=False)"
   ]
  },
  {
   "cell_type": "code",
   "execution_count": null,
   "metadata": {},
   "outputs": [],
   "source": [
    "pred_conf_i = pred_conf[idx]\n",
    "max_idx = []\n",
    "# get the best idx for each 2D cell\n",
    "for i in range(len(pred_conf_i)//5):\n",
    "    max_idx.append(i*5 + np.argmax(pred_conf_i[i*5:i*5+5]))\n",
    "\n",
    "fig, ax = plt.subplots(figsize=(15,15))\n",
    "pred_uvd_i_416 = scale_points_WH(pred_uvd_i, (1920, 1080), (416, 416))\n",
    "FPHA.visualize_joints_2d(ax, pred_uvd_i_416[REORDER], joint_idxs=True)\n",
    "img_rsz = resize_img(img, (416, 416))\n",
    "ax.imshow(img_rsz.astype('uint32'))\n",
    "\n",
    "# red is the best\n",
    "# yellow is anything over 0.9\n",
    "import matplotlib.patches as patches\n",
    "for i in range(len(max_idx)):\n",
    "    index = np.unravel_index(i, (13, 13))\n",
    "    x = index[0]\n",
    "    y = index[1]\n",
    "    al = pred_conf_i[max_idx[i]]\n",
    "    if al == np.amax(pred_conf_i):\n",
    "        c = 'r'\n",
    "    elif al <= 0.9:\n",
    "        c = 'b'\n",
    "    else:\n",
    "        c = 'y'\n",
    "    rect = patches.Rectangle((x*32,y*32),32,32,linewidth=1, edgecolor=c, facecolor=c, fill=True, alpha=al)\n",
    "    ax.add_patch(rect)"
   ]
  },
  {
   "cell_type": "code",
   "execution_count": null,
   "metadata": {},
   "outputs": [],
   "source": [
    "pck = percentage_frames_within_error_curve(xyz_gt, pred_xyz)\n",
    "print(pck)\n",
    "thresholds = np.arange(0, 85, 5)\n",
    "print('AUC:', calc_auc(pck, thresholds))"
   ]
  },
  {
   "cell_type": "code",
   "execution_count": null,
   "metadata": {},
   "outputs": [],
   "source": []
  }
 ],
 "metadata": {
  "kernelspec": {
   "display_name": "Python 3",
   "language": "python",
   "name": "python3"
  },
  "language_info": {
   "codemirror_mode": {
    "name": "ipython",
    "version": 3
   },
   "file_extension": ".py",
   "mimetype": "text/x-python",
   "name": "python",
   "nbconvert_exporter": "python",
   "pygments_lexer": "ipython3",
   "version": "3.6.8"
  }
 },
 "nbformat": 4,
 "nbformat_minor": 2
}
