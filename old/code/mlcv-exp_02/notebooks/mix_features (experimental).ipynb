{
 "cells": [
  {
   "cell_type": "code",
   "execution_count": null,
   "metadata": {},
   "outputs": [],
   "source": [
    "# Reload the notebook automatically\n",
    "%load_ext autoreload\n",
    "%autoreload 2"
   ]
  },
  {
   "cell_type": "markdown",
   "metadata": {},
   "source": [
    "# Import"
   ]
  },
  {
   "cell_type": "code",
   "execution_count": null,
   "metadata": {},
   "outputs": [],
   "source": [
    "import sys\n",
    "from pathlib import Path\n",
    "import numpy as np\n",
    "import matplotlib.pyplot as plt\n",
    "import cv2\n",
    "from IPython.display import clear_output\n",
    "\n",
    "WORK_DIR = Path(Path.cwd()).parent\n",
    "sys.path.append(str(WORK_DIR))\n",
    "from src import ROOT, parse\n",
    "from src.models import get_model\n",
    "from src.datasets.transforms import *\n",
    "from src.datasets import get_dataset, get_dataloader\n",
    "from src.utils import *\n",
    "\n",
    "cfg_dir = 'mlcv-exp/data/cfg/'"
   ]
  },
  {
   "cell_type": "markdown",
   "metadata": {},
   "source": [
    "# Models"
   ]
  },
  {
   "cell_type": "code",
   "execution_count": null,
   "metadata": {},
   "outputs": [],
   "source": [
    "dataset = 'fpha'\n",
    "model_name = 'yolov2_bbox'\n",
    "exp = 'exp2'\n",
    "epoch = 200\n",
    "cfg_name = '{}_{}_{}.cfg'.format(dataset, model_name, exp)\n",
    "cfg = parse(Path(ROOT)/cfg_dir/model_name/cfg_name)\n",
    "cfg['aug'] = None\n",
    "cfg['batch_size'] = 1\n",
    "cfg['shuffle'] = None\n",
    "model_1 = get_model(cfg, 'test', epoch)"
   ]
  },
  {
   "cell_type": "code",
   "execution_count": null,
   "metadata": {},
   "outputs": [],
   "source": [
    "dataset = 'ek'\n",
    "model_name = 'hpo_ar'\n",
    "exp = 'exp1'\n",
    "epoch = 2\n",
    "cfg_name = '{}_{}_{}.cfg'.format(dataset, model_name, exp)\n",
    "cfg = parse(Path(ROOT)/cfg_dir/model_name/cfg_name)\n",
    "cfg['aug'] = None\n",
    "cfg['batch_size'] = 1\n",
    "cfg['shuffle'] = None\n",
    "model_2 = get_model(cfg, 'test', epoch)"
   ]
  },
  {
   "cell_type": "code",
   "execution_count": null,
   "metadata": {},
   "outputs": [],
   "source": [
    "model_1.net.train()\n",
    "model_2.net.eval()\n",
    "clear_output()"
   ]
  },
  {
   "cell_type": "markdown",
   "metadata": {},
   "source": [
    "# Mix features"
   ]
  },
  {
   "cell_type": "code",
   "execution_count": null,
   "metadata": {},
   "outputs": [],
   "source": [
    "img_path = Path('EPIC_KITCHENS_2018')/'EK_frames'/'P20/P20_03_21943_open_drawer'/'img_{:05d}.jpg'.format(100)\n",
    "img = get_img_dataloader(str(Path(ROOT)/img_path), 416)\n",
    "img = img.unsqueeze(0).cuda()"
   ]
  },
  {
   "cell_type": "code",
   "execution_count": null,
   "metadata": {},
   "outputs": [],
   "source": [
    "do_sum = 0\n",
    "def mix_feat(x_1, x_2):\n",
    "    return (x_1 + x_2)/2.0"
   ]
  },
  {
   "cell_type": "code",
   "execution_count": null,
   "metadata": {},
   "outputs": [],
   "source": [
    "spatial_attn_map            = []\n",
    "spatial_attn_map_block0     = []\n",
    "spatial_attn_map_block1_1   = []\n",
    "spatial_attn_map_block1_2   = []\n",
    "\n",
    "x_1 = img.clone()\n",
    "x_2 = img.clone()\n",
    "\n",
    "for layer1, layer2 in zip(model_1.net.backbone.block0, model_2.net.backbone.block0):\n",
    "    x_1 = layer1(x_1)\n",
    "    x_2 = layer2(x_2)\n",
    "    if do_sum:\n",
    "        x_1 = mix_feat(x_1, x_2)\n",
    "    spatial_attn_map_block0.append(x_1) \n",
    "out0 = x_1.clone()\n",
    "spatial_attn_map.append(spatial_attn_map_block0)\n",
    "\n",
    "x_1 = out0.clone()\n",
    "for layer1, layer2 in zip(model_1.net.backbone.block1_1, model_2.net.backbone.block1_1):\n",
    "    x_1 = layer1(x_1)\n",
    "    x_2 = layer2(x_2)\n",
    "    if do_sum:\n",
    "        x_1 = mix_feat(x_1, x_2)\n",
    "    spatial_attn_map_block1_1.append(x_1) \n",
    "out1_1 = x_1.clone()\n",
    "spatial_attn_map.append(spatial_attn_map_block1_1)\n",
    "\n",
    "x_1 = out0.clone()\n",
    "x_2_2 = out0.clone()\n",
    "for layer1, layer2 in zip(model_1.net.backbone.block1_2, model_2.net.backbone.block1_2):\n",
    "    x_1 = layer1(x_1)\n",
    "    x_2_2 = layer2(x_2_2)\n",
    "    if do_sum:\n",
    "        x_1 = mix_feat(x_1, x_2_2)\n",
    "    spatial_attn_map_block1_2.append(x_1) \n",
    "out1_2 = x_1.clone()\n",
    "spatial_attn_map.append(spatial_attn_map_block1_2)\n",
    "\n",
    "out1 = torch.cat([out1_1, out1_2], 1)\n",
    "x_2 = torch.cat([x_2, x_2_2], 1)\n",
    "spatial_attn_map.append([out1])\n",
    "\n",
    "x_1 = out1.clone()\n",
    "for layer1, layer2 in zip(model_1.net.backbone.block2, model_2.net.backbone.block2):\n",
    "    x_1 = layer1(x_1)\n",
    "    x_2 = layer2(x_2)\n",
    "    if do_sum:\n",
    "        x_1 = sum_feat(x_1, x_2)\n",
    "out2 = x_1.clone()\n",
    "spatial_attn_map.append([out2])\n",
    "\n",
    "pred = model_1.net.conv_out(out2)\n",
    "spatial_attn_map.append([pred])\n",
    "\n",
    "pred = pred.cpu()"
   ]
  },
  {
   "cell_type": "code",
   "execution_count": null,
   "metadata": {},
   "outputs": [],
   "source": [
    "img_copy    = img.clone()\n",
    "img_copy = ImgToNumpy()(img_copy.cpu())[0]\n",
    "fig, ax = plt.subplots()\n",
    "ax.imshow(img_copy)\n",
    "plt.show()"
   ]
  },
  {
   "cell_type": "markdown",
   "metadata": {},
   "source": [
    "# Spatial Attention Map"
   ]
  },
  {
   "cell_type": "code",
   "execution_count": null,
   "metadata": {},
   "outputs": [],
   "source": [
    "func = abs_sum_p(2)"
   ]
  },
  {
   "cell_type": "code",
   "execution_count": null,
   "metadata": {},
   "outputs": [],
   "source": [
    "proc_attn_map = [[x[0].detach().cpu().numpy() for x in block] for block in spatial_attn_map]\n",
    "proc_attn_map = [[func(x) for x in block] for block in proc_attn_map]"
   ]
  },
  {
   "cell_type": "code",
   "execution_count": null,
   "metadata": {},
   "outputs": [],
   "source": [
    "idx = 4\n",
    "block = proc_attn_map[idx]\n",
    "for i in range(len(block)):\n",
    "    print(i)\n",
    "    fig, ax = plt.subplots()\n",
    "    block_rsz = cv2.resize(block[i][:, :, np.newaxis], img_copy.shape[:2])\n",
    "    ax.imshow(block_rsz, cmap='jet')\n",
    "    ax.imshow(img_copy, alpha=0.5)\n",
    "    plt.axis('off')\n",
    "    plt.show()"
   ]
  },
  {
   "cell_type": "markdown",
   "metadata": {},
   "source": [
    "# Detect"
   ]
  },
  {
   "cell_type": "code",
   "execution_count": null,
   "metadata": {},
   "outputs": [],
   "source": [
    "max_boxes   = 2\n",
    "\n",
    "box         = get_region_boxes(pred,\n",
    "                            model_1.pred_conf_thresh,\n",
    "                            0,\n",
    "                            model_1.anchors,\n",
    "                            model_1.num_anchors,\n",
    "                            is_cuda=False)[0]\n",
    "\n",
    "boxes       = nms_torch(box, model_1.pred_nms_thresh)\n",
    "\n",
    "all_boxes   = np.zeros((max_boxes, 5))\n",
    "if len(boxes) != 0:\n",
    "    if len(boxes) > len(all_boxes):\n",
    "        fill_range = len(all_boxes)\n",
    "    else:\n",
    "        fill_range = len(boxes)\n",
    "\n",
    "    for i in range(fill_range):\n",
    "        box             = boxes[i]\n",
    "        all_boxes[i]    = (float(box[0]), float(box[1]),\n",
    "                            float(box[2]), float(box[3]), \n",
    "                            float(box[4]))\n",
    "\n",
    "bbox_pred_1 = all_boxes[0]\n",
    "bbox_pred_2 = all_boxes[1]\n",
    "\n",
    "bbox_pred_1_show     = bbox_pred_1.copy()\n",
    "bbox_pred_1_show[0]  = bbox_pred_1_show[0]*img_copy.shape[1]\n",
    "bbox_pred_1_show[1]  = bbox_pred_1_show[1]*img_copy.shape[0]\n",
    "bbox_pred_1_show[2]  = bbox_pred_1_show[2]*img_copy.shape[1]\n",
    "bbox_pred_1_show[3]  = bbox_pred_1_show[3]*img_copy.shape[0]\n",
    "\n",
    "bbox_pred_2_show     = bbox_pred_2.copy()\n",
    "bbox_pred_2_show[0]  = bbox_pred_2_show[0]*img_copy.shape[1]\n",
    "bbox_pred_2_show[1]  = bbox_pred_2_show[1]*img_copy.shape[0]\n",
    "bbox_pred_2_show[2]  = bbox_pred_2_show[2]*img_copy.shape[1]\n",
    "bbox_pred_2_show[3]  = bbox_pred_2_show[3]*img_copy.shape[0]"
   ]
  },
  {
   "cell_type": "code",
   "execution_count": null,
   "metadata": {},
   "outputs": [],
   "source": [
    "fig, ax = plt.subplots()\n",
    "ax.imshow(img_copy)\n",
    "print(bbox_pred_1_show[4])\n",
    "draw_bbox(ax, bbox_pred_1_show, 'r')\n",
    "# draw_bbox(ax, bbox_pred_2_show, 'r')\n",
    "plt.show()"
   ]
  },
  {
   "cell_type": "code",
   "execution_count": null,
   "metadata": {},
   "outputs": [],
   "source": []
  }
 ],
 "metadata": {
  "kernelspec": {
   "display_name": "Python 3",
   "language": "python",
   "name": "python3"
  },
  "language_info": {
   "codemirror_mode": {
    "name": "ipython",
    "version": 3
   },
   "file_extension": ".py",
   "mimetype": "text/x-python",
   "name": "python",
   "nbconvert_exporter": "python",
   "pygments_lexer": "ipython3",
   "version": "3.7.3"
  }
 },
 "nbformat": 4,
 "nbformat_minor": 2
}
