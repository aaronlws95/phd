{
 "cells": [
  {
   "cell_type": "code",
   "execution_count": null,
   "metadata": {},
   "outputs": [],
   "source": [
    "import os\n",
    "import sys\n",
    "from PIL import Image\n",
    "import matplotlib.pyplot as plt\n",
    "import numpy as np\n",
    "import torch\n",
    "import torch.nn as nn\n",
    "import cv2\n",
    "from tqdm import tqdm\n",
    "from pathlib import Path\n",
    "from torch.utils.data import DataLoader\n",
    "\n",
    "WORK_DIR = Path(Path.cwd()).parent\n",
    "sys.path.append(str(WORK_DIR))\n",
    "from src.datasets import get_dataset, get_dataloader\n",
    "from src.utils import parse_data_cfg, IMG, FPHA, LMDB, DATA_DIR, YOLO"
   ]
  },
  {
   "cell_type": "code",
   "execution_count": null,
   "metadata": {},
   "outputs": [],
   "source": [
    "exp_fold = 'exp0'\n",
    "cfgname = 'yolov2_fpha_data'\n",
    "cfg = parse_data_cfg(WORK_DIR/'data_cfg'/exp_fold/(cfgname + '.cfg'))\n",
    "epoch = 300\n",
    "exp_dir = cfg[\"exp_dir\"]\n",
    "data_split = 'test'\n",
    "split_set = cfg[data_split + '_set']"
   ]
  },
  {
   "cell_type": "markdown",
   "metadata": {},
   "source": [
    "# Visualize Dataloader"
   ]
  },
  {
   "cell_type": "code",
   "execution_count": null,
   "metadata": {},
   "outputs": [],
   "source": [
    "dataset_kwargs = {'split_set': split_set}\n",
    "dataset   = get_dataset(cfg, dataset_kwargs)\n",
    "sampler   = None\n",
    "shuffle   = cfg['shuffle']\n",
    "kwargs = {'batch_size'  :   int(cfg['batch_size']),\n",
    "          'shuffle'     :   shuffle,\n",
    "          'num_workers' :   int(cfg['num_workers']),\n",
    "          'pin_memory'  :   True}\n",
    "data_loader = get_dataloader(dataset, sampler, kwargs)\n"
   ]
  },
  {
   "cell_type": "code",
   "execution_count": null,
   "metadata": {},
   "outputs": [],
   "source": [
    "idx = 0 \n",
    "for i, (img, bbox_gt) in enumerate(data_loader):\n",
    "    if i == idx:\n",
    "        batch_size = img.shape[0]\n",
    "        img = img.cpu().numpy()\n",
    "        img = np.swapaxes(img, 2, 3)\n",
    "        img = np.swapaxes(img, 1, 3)\n",
    "        img = IMG.scale_img_255(img)\n",
    "        bbox_gt = bbox_gt.cpu().numpy()\n",
    "        break\n",
    "    i += 1"
   ]
  },
  {
   "cell_type": "code",
   "execution_count": null,
   "metadata": {},
   "outputs": [],
   "source": [
    "fig, ax = plt.subplots(4, 4, figsize=(15, 15))\n",
    "idx = 0\n",
    "for i in range(4):\n",
    "    for j in range(4):\n",
    "        cur_img = img[idx]\n",
    "        b = bbox_gt[idx]     \n",
    "        ax[i, j].imshow(cur_img)\n",
    "        FPHA.draw_bbox(ax[i, j], b, (cur_img.shape[1], cur_img.shape[0]))\n",
    "        idx += 1"
   ]
  },
  {
   "cell_type": "markdown",
   "metadata": {},
   "source": [
    "# Evaluation"
   ]
  },
  {
   "cell_type": "code",
   "execution_count": null,
   "metadata": {},
   "outputs": [],
   "source": [
    "keys = LMDB.get_keys(os.path.join(DATA_DIR, split_set + \"_keys_cache.p\"))\n",
    "bbox_gt = LMDB.read_all_lmdb_dataroot(keys, os.path.join(DATA_DIR, split_set + \"_bbox_gt.lmdb\"), \"float32\", 4)\n",
    "pred_file = os.path.join(DATA_DIR, exp_dir, 'predict_{}_{}_bbox.txt'.format(epoch, data_split))\n",
    "bbox_pred = np.loadtxt(pred_file)\n",
    "bbox_pred = np.asarray([bbox[:5] for bbox in bbox_pred]) # take only the first bbox"
   ]
  },
  {
   "cell_type": "code",
   "execution_count": null,
   "metadata": {},
   "outputs": [],
   "source": [
    "idx = 15430\n",
    "img = np.asarray(Image.open(os.path.join(DATA_DIR, 'First_Person_Action_Benchmark', 'Video_files', keys[idx])))\n",
    "print(keys[idx])\n",
    "fig, ax = plt.subplots()\n",
    "ax.imshow(img)\n",
    "FPHA.draw_bbox(ax, bbox_pred[idx], (img.shape[1], img.shape[0]), 'r')\n",
    "FPHA.draw_bbox(ax, bbox_gt[idx], (img.shape[1], img.shape[0]), 'b')"
   ]
  },
  {
   "cell_type": "code",
   "execution_count": null,
   "metadata": {},
   "outputs": [],
   "source": [
    "iou_thresh = 0.5\n",
    "correct = 0\n",
    "avg_iou = 0\n",
    "worst_iou = 10\n",
    "worst_iou_idx = 0\n",
    "iou_list = []\n",
    "for i in range(len(bbox_pred)):\n",
    "    iou = YOLO.bbox_iou(bbox_pred[i], bbox_gt[i])\n",
    "    avg_iou += iou\n",
    "    iou_list.append(iou)\n",
    "    if iou < worst_iou:\n",
    "        worst_iou = iou\n",
    "        worst_iou_idx = i\n",
    "    \n",
    "    if iou > iou_thresh:\n",
    "        correct += 1\n",
    "        \n",
    "recall = correct/len(bbox_pred)\n",
    "avg_iou = avg_iou/len(bbox_pred)\n",
    "print('Recall:', recall, 'Avg_IOU:', avg_iou)\n",
    "print('Worst Bbox id:', worst_iou_idx)\n",
    "for idx in np.argsort(iou_list):\n",
    "    print(idx)"
   ]
  },
  {
   "cell_type": "markdown",
   "metadata": {},
   "source": [
    "# Detect"
   ]
  },
  {
   "cell_type": "code",
   "execution_count": null,
   "metadata": {},
   "outputs": [],
   "source": [
    "import torch\n",
    "\n",
    "from src.models import get_model\n",
    "from src.utils import EK\n",
    "\n",
    "model = get_model(cfg, False, epoch, None, None)"
   ]
  },
  {
   "cell_type": "code",
   "execution_count": null,
   "metadata": {},
   "outputs": [],
   "source": [
    "# Image\n",
    "\n",
    "img = Image.open(EK.get_img_path(22, 16, 11616))\n",
    "# idx = 1000\n",
    "# img = Image.open(os.path.join(DATA_DIR, 'First_Person_Action_Benchmark', 'Video_files', keys[idx]))\n",
    "box = model.detect(img)"
   ]
  },
  {
   "cell_type": "code",
   "execution_count": null,
   "metadata": {},
   "outputs": [],
   "source": [
    "fig, ax = plt.subplots()\n",
    "ax.imshow(img)\n",
    "if(len(box.shape) == 2):\n",
    "    for i, b in enumerate(box):\n",
    "        c = 'r'\n",
    "        if i == 1:\n",
    "            c = 'b'\n",
    "        FPHA.draw_bbox(ax, b, (img.size[0], img.size[1]), c)\n",
    "else:\n",
    "    FPHA.draw_bbox(ax, box, (img.size[0], img.size[1]))"
   ]
  },
  {
   "cell_type": "code",
   "execution_count": null,
   "metadata": {},
   "outputs": [],
   "source": [
    "# Video\n",
    "\n",
    "dom = 'action'\n",
    "modality = 'rgb'\n",
    "data_split_vid = 'train'\n",
    "\n",
    "# Single vid\n",
    "vid_idx = 53\n",
    "all_img_path = EK.get_video_frames(vid_idx, dom=dom, modality=modality, data_split=data_split_vid)\n",
    "\n",
    "# Multi vid\n",
    "# start_vid = 54\n",
    "# end_vid = 57\n",
    "# vid_idx = '{}-{}'.format(start_vid, end_vid)\n",
    "# all_img_path = []\n",
    "# for idx in range(54, end_vid + 1):\n",
    "#     cur_img_paths = EK.get_video_frames(idx, dom=dom, modality=modality, data_split=data_split_vid)\n",
    "#     all_img_path += cur_img_paths\n",
    "\n",
    "# print(len(all_img_path))"
   ]
  },
  {
   "cell_type": "code",
   "execution_count": null,
   "metadata": {},
   "outputs": [],
   "source": [
    "from moviepy.editor import ImageSequenceClip\n",
    "from tqdm import tqdm\n",
    "from matplotlib.backends.backend_agg import FigureCanvasAgg as FigureCanvas\n",
    "from matplotlib.figure import Figure\n",
    "import time\n",
    "SAVE_DIR = Path(DATA_DIR)/'acv-data'/'gifs'\n",
    "\n",
    "frames = []\n",
    "total_time = 0\n",
    "for img_path in tqdm(all_img_path):\n",
    "    img = Image.open(img_path)\n",
    "    start = time.time()\n",
    "    box = model.detect(img)\n",
    "    end = time.time()\n",
    "    total_time += (end - start)\n",
    "    fig, ax = plt.subplots()\n",
    "    ax = fig.gca()\n",
    "    ax.imshow(img)\n",
    "    ax.axis('off')\n",
    "    if(len(box.shape) == 2):\n",
    "#         box = box[0]\n",
    "        for i, b in enumerate(box):\n",
    "            c = 'r'\n",
    "            if i == 1:\n",
    "                c = 'b'\n",
    "            FPHA.draw_bbox(ax, b, (img.size[0], img.size[1]), c)\n",
    "    else:\n",
    "        FPHA.draw_bbox(ax, box, (img.size[0], img.size[1]))\n",
    "    fig.canvas.draw()\n",
    "    data = np.fromstring(fig.canvas.tostring_rgb(), dtype=np.uint8, sep='')\n",
    "    data = data.reshape(fig.canvas.get_width_height()[::-1] + (3,))\n",
    "    frames.append(data)\n",
    "    plt.close()\n",
    "\n",
    "\n",
    "print('fps:', len(all_img_path)/total_time)\n",
    "segment_clip = ImageSequenceClip(frames, fps=60)\n",
    "name = SAVE_DIR/('{}_{}_{}_{}_{}_{}.gif'.format(cfgname, epoch, vid_idx, dom, modality, data_split_vid))\n",
    "segment_clip.write_gif(name, fps=6)\n",
    "from IPython.display import Image as IPythonImage\n",
    "with open(name,'rb') as f:\n",
    "    display(IPythonImage(data=f.read(), format='png'))"
   ]
  },
  {
   "cell_type": "code",
   "execution_count": null,
   "metadata": {},
   "outputs": [],
   "source": []
  }
 ],
 "metadata": {
  "kernelspec": {
   "display_name": "Python 3",
   "language": "python",
   "name": "python3"
  },
  "language_info": {
   "codemirror_mode": {
    "name": "ipython",
    "version": 3
   },
   "file_extension": ".py",
   "mimetype": "text/x-python",
   "name": "python",
   "nbconvert_exporter": "python",
   "pygments_lexer": "ipython3",
   "version": "3.6.8"
  }
 },
 "nbformat": 4,
 "nbformat_minor": 2
}
