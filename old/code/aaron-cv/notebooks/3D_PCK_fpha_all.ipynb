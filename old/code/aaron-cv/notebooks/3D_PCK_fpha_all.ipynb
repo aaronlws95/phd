{
 "cells": [
  {
   "cell_type": "code",
   "execution_count": null,
   "metadata": {},
   "outputs": [],
   "source": [
    "import numpy as np\n",
    "import matplotlib.pyplot as plt\n",
    "import matplotlib"
   ]
  },
  {
   "cell_type": "code",
   "execution_count": null,
   "metadata": {},
   "outputs": [],
   "source": [
    "def calc_auc(y, x):\n",
    "    integral = np.trapz(y, x)\n",
    "    norm = np.trapz(np.ones_like(y), x)\n",
    "    return integral / norm"
   ]
  },
  {
   "cell_type": "code",
   "execution_count": null,
   "metadata": {},
   "outputs": [],
   "source": [
    "thresholds = np.arange(0, 85, 5)\n",
    "print('thresholds:', thresholds)\n",
    "curve_list = []"
   ]
  },
  {
   "cell_type": "code",
   "execution_count": null,
   "metadata": {},
   "outputs": [],
   "source": [
    "# name = 'fpha_hpo_mod3'\n",
    "name = 'our_HPO'\n",
    "pck = [0.0, 0.07795687, 0.2619975, 0.43805575, 0.5781114, 0.6840922, 0.7638612, 0.82292455, 0.8665277, 0.89769274, 0.9199309, 0.93582463, 0.9467753, 0.9545488, 0.9600093, 0.96422505, 0.9675265]\n",
    "pck = np.asarray(pck)\n",
    "auc = calc_auc(pck, thresholds)\n",
    "label = '%s (AUC=%.4f)' %(name, auc)\n",
    "style = {'linestyle': '-',          \n",
    "         'color': 'b', \n",
    "         'marker': '.', \n",
    "         'linewidth': 1.0, \n",
    "         'label': label}\n",
    "curve_list.append((auc, pck, style))"
   ]
  },
  {
   "cell_type": "code",
   "execution_count": null,
   "metadata": {},
   "outputs": [],
   "source": [
    "# name = 'fpha_hpo_mod3_z_normed'\n",
    "name = 'our_HPO_z_normed'\n",
    "pck = [0.0, 0.16735089, 0.50099427, 0.72347426, 0.83888835, 0.896983, 0.929167, 0.94879085, 0.96078175, 0.96827215, 0.97348994, 0.97733533, 0.9800831, 0.98209316, 0.98361766, 0.98486155, 0.9860266]\n",
    "pck = np.asarray(pck)\n",
    "auc = calc_auc(pck, thresholds)\n",
    "label = '%s (AUC=%.4f)' %(name, auc)\n",
    "style = {'linestyle': '-',          \n",
    "         'color': 'b', \n",
    "         'marker': '*', \n",
    "         'linewidth': 1.0, \n",
    "         'label': label}\n",
    "curve_list.append((auc, pck, style))"
   ]
  },
  {
   "cell_type": "code",
   "execution_count": null,
   "metadata": {},
   "outputs": [],
   "source": [
    "hpo_estimate_z_normed = [0, 4, 22, 50, 70, 81, 90, 93, 95, 97, 98, 99, 100, 100, 100, 100, 100]\n",
    "hpo_estimate_z_normed = np.asarray(hpo_estimate_z_normed)/100\n",
    "auc = calc_auc(hpo_estimate_z_normed, thresholds)\n",
    "label = 'hpo_estimate_z_normed (AUC=%.4f)' %auc\n",
    "style = {'linestyle': '-', \n",
    "         'color': 'black', \n",
    "         'marker': '*', \n",
    "         'linewidth': 1.0, \n",
    "         'label': label}\n",
    "curve_list.append((auc, hpo_estimate_z_normed, style))"
   ]
  },
  {
   "cell_type": "code",
   "execution_count": null,
   "metadata": {},
   "outputs": [],
   "source": [
    "hpo_estimate = [0, 0, 15, 38, 60, 70, 80, 85, 90, 92, 93.5, 95, 96, 97, 98, 98.5, 98.75]\n",
    "hpo_estimate = np.asarray(hpo_estimate)/100\n",
    "auc = calc_auc(hpo_estimate, thresholds)\n",
    "label = 'hpo_estimate (AUC=%.4f)' %auc\n",
    "style = {'linestyle': '-.', \n",
    "         'color': 'black', \n",
    "         'marker': '.', \n",
    "         'linewidth': 1.0, \n",
    "         'label': label}\n",
    "curve_list.append((auc, hpo_estimate, style))"
   ]
  },
  {
   "cell_type": "code",
   "execution_count": null,
   "metadata": {},
   "outputs": [],
   "source": [
    "# fpha_hpo_mod1_from_yolov2fpha_testall = [0.0, 0.072625436, 0.25574568, 0.4333195, 0.5766193, \n",
    "#                                          0.6862601, 0.76829547, 0.82765645, 0.8701144, 0.89996374, \n",
    "#                                          0.9207481, 0.935789, 0.9470738, 0.9555373, 0.96179265, \n",
    "#                                          0.96651024, 0.9701613]\n",
    "# fpha_hpo_mod1_from_yolov2fpha_testall = np.asarray(fpha_hpo_mod1_from_yolov2fpha_testall)\n",
    "# auc = calc_auc(fpha_hpo_mod1_from_yolov2fpha_testall, thresholds)\n",
    "# label = 'fpha_hpo_mod1_from_yolov2fpha_testall (AUC=%.4f)' %auc\n",
    "# style = {'linestyle': '-.', \n",
    "#          'color': 'r', \n",
    "#          'marker': '.', \n",
    "#          'linewidth': 1.0, \n",
    "#          'label': label}\n",
    "# curve_list.append((auc, fpha_hpo_mod1_from_yolov2fpha_testall, style))"
   ]
  },
  {
   "cell_type": "code",
   "execution_count": null,
   "metadata": {},
   "outputs": [],
   "source": [
    "# fpha_hpo_mod1_from_yolov2fpha_testall_z_normed = [0.0, 0.15149552, 0.47882706, 0.7049842, 0.82522863, \n",
    "#                                                   0.8883124, 0.92433304, 0.94578224, 0.95917946, 0.9676278,\n",
    "#                                                   0.97316724, 0.97686124, 0.9796278, 0.9817097, 0.98342675, \n",
    "#                                                   0.9848472, 0.9859728]\n",
    "# fpha_hpo_mod1_from_yolov2fpha_testall_z_normed = np.asarray(fpha_hpo_mod1_from_yolov2fpha_testall_z_normed)\n",
    "# auc = calc_auc(fpha_hpo_mod1_from_yolov2fpha_testall_z_normed, thresholds)\n",
    "# label = 'fpha_hpo_mod1_from_yolov2fpha_testall_z_normed (AUC=%.4f)' %auc\n",
    "# style = {'linestyle': '-', \n",
    "#          'color': 'r', \n",
    "#          'marker': '*', \n",
    "#          'linewidth': 1.0, \n",
    "#          'label': label}\n",
    "# curve_list.append((auc, fpha_hpo_mod1_from_yolov2fpha_testall_z_normed, style))"
   ]
  },
  {
   "cell_type": "code",
   "execution_count": null,
   "metadata": {},
   "outputs": [],
   "source": [
    "matplotlib.rcParams.update({'font.size': 22})\n",
    "fig, ax = plt.subplots(figsize=(10, 10))\n",
    "\n",
    "curve_list = np.asarray(curve_list)\n",
    "ind = np.argsort(curve_list[:,0])\n",
    "curve_list = curve_list[ind[::-1]]\n",
    "\n",
    "for _, curve, style in curve_list:\n",
    "    ax.plot(thresholds,curve,\n",
    "            linestyle = style['linestyle'], \n",
    "            c = style['color'], \n",
    "            marker = style['marker'],\n",
    "            label = style['label'],\n",
    "            linewidth = style['linewidth'])\n",
    "ax.set_xticks(np.arange(0, 90, 10))\n",
    "ax.set_yticks(np.arange(0, 1.1, 0.1))\n",
    "ax.set_title('First Person Hand Action Dataset')\n",
    "plt.grid()\n",
    "leg = plt.legend()\n",
    "ax.set_ylabel('3D PCK (%)')\n",
    "ax.set_xlabel('Error Thresholds (mm)')\n",
    "plt.show()"
   ]
  },
  {
   "cell_type": "code",
   "execution_count": null,
   "metadata": {},
   "outputs": [],
   "source": []
  }
 ],
 "metadata": {
  "kernelspec": {
   "display_name": "Python 3",
   "language": "python",
   "name": "python3"
  },
  "language_info": {
   "codemirror_mode": {
    "name": "ipython",
    "version": 3
   },
   "file_extension": ".py",
   "mimetype": "text/x-python",
   "name": "python",
   "nbconvert_exporter": "python",
   "pygments_lexer": "ipython3",
   "version": "3.6.8"
  }
 },
 "nbformat": 4,
 "nbformat_minor": 2
}
