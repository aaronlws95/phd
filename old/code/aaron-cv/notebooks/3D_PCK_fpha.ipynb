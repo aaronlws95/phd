{
 "cells": [
  {
   "cell_type": "code",
   "execution_count": null,
   "metadata": {},
   "outputs": [],
   "source": [
    "import numpy as np\n",
    "import matplotlib.pyplot as plt\n",
    "import matplotlib"
   ]
  },
  {
   "cell_type": "code",
   "execution_count": null,
   "metadata": {},
   "outputs": [],
   "source": [
    "def calc_auc(y, x):\n",
    "    integral = np.trapz(y, x)\n",
    "    norm = np.trapz(np.ones_like(y), x)\n",
    "    return integral / norm"
   ]
  },
  {
   "cell_type": "code",
   "execution_count": null,
   "metadata": {},
   "outputs": [],
   "source": [
    "thresholds = np.arange(0, 85, 5)\n",
    "print('thresholds:', thresholds)\n",
    "curve_list = []"
   ]
  },
  {
   "cell_type": "code",
   "execution_count": null,
   "metadata": {},
   "outputs": [],
   "source": [
    "fpha_hpo_base = [0.0, 0.07264516, 0.2510668, 0.4249779, \n",
    "                0.56569165, 0.67603827, 0.76306516, 0.82868755, \n",
    "                0.87768537, 0.91480064, 0.94153434, 0.9605401,\n",
    "                0.9738513, 0.9829266, 0.9888139, 0.99272746, 0.9955456]\n",
    "fpha_hpo_base = np.asarray(fpha_hpo_base)\n",
    "auc = calc_auc(fpha_hpo_base, thresholds)\n",
    "label = 'fpha_hpo_base (AUC=%.4f)' %auc\n",
    "style = {'linestyle': '-', \n",
    "         'color': 'r', \n",
    "         'marker': '.', \n",
    "         'linewidth': 1.0, \n",
    "         'label': label}\n",
    "curve_list.append((auc, fpha_hpo_base, style))"
   ]
  },
  {
   "cell_type": "code",
   "execution_count": null,
   "metadata": {},
   "outputs": [],
   "source": [
    "fpha_hpo_mod2_batch64 = [0.0, 0.068394125, 0.2520899, 0.43699995, \n",
    "                         0.58758175, 0.7030055, 0.790161, 0.8551456, \n",
    "                         0.90152085, 0.93337613, 0.95513314, 0.96976036, \n",
    "                         0.9793741, 0.9858615, 0.9904598, 0.99353844, 0.9955436]\n",
    "fpha_hpo_mod2_batch64 = np.asarray(fpha_hpo_mod2_batch64)\n",
    "auc = calc_auc(fpha_hpo_mod2_batch64, thresholds)\n",
    "label = 'fpha_hpo_mod2_batch64 (AUC=%.4f)' %auc\n",
    "style = {'linestyle': '-.', \n",
    "         'color': 'r', \n",
    "         'marker': '*', \n",
    "         'linewidth': 1.0, \n",
    "         'label': label}\n",
    "curve_list.append((auc, fpha_hpo_mod2_batch64, style))"
   ]
  },
  {
   "cell_type": "code",
   "execution_count": null,
   "metadata": {},
   "outputs": [],
   "source": [
    "fpha_hpo_mod2 = [0.0, 0.07351463, 0.25564772, 0.43662366, 0.58307433, 0.69557065,\n",
    "                 0.781752, 0.8474945, 0.8960435, 0.9303514, 0.9537208, 0.9689125, \n",
    "                 0.9792942, 0.98631024, 0.9909323, 0.99403924, 0.99630046]\n",
    "fpha_hpo_mod2 = np.asarray(fpha_hpo_mod2)\n",
    "auc = calc_auc(fpha_hpo_mod2, thresholds)\n",
    "label = 'fpha_hpo_mod2 (AUC=%.4f)' %auc\n",
    "style = {'linestyle': '-.', \n",
    "         'color': 'r', \n",
    "         'marker': 's', \n",
    "         'linewidth': 1.0, \n",
    "         'label': label}\n",
    "curve_list.append((auc, fpha_hpo_mod2, style))"
   ]
  },
  {
   "cell_type": "code",
   "execution_count": null,
   "metadata": {},
   "outputs": [],
   "source": [
    "fpha_hpo_mod3 = [0.0, 0.08757087, 0.28912184, 0.47862366, \n",
    "                 0.62651795, 0.735914, 0.8159041, 0.87380093, \n",
    "                 0.915202, 0.9439708, 0.9633097, 0.97642833, 0.9845541, \n",
    "                 0.98958707, 0.9926009, 0.99454206, 0.9958302]\n",
    "fpha_hpo_mod3 = np.asarray(fpha_hpo_mod3)\n",
    "auc = calc_auc(fpha_hpo_mod3, thresholds)\n",
    "label = 'fpha_hpo_mod3 (AUC=%.4f)' %auc\n",
    "style = {'linestyle': '-',          \n",
    "         'color': 'r', \n",
    "         'marker': 'P', \n",
    "         'linewidth': 1.0, \n",
    "         'label': label}\n",
    "curve_list.append((auc, fpha_hpo_mod3, style))"
   ]
  },
  {
   "cell_type": "code",
   "execution_count": null,
   "metadata": {},
   "outputs": [],
   "source": [
    "fpha_hpo_mod1 = [0.0, 0.07108252, 0.25979057, 0.4496472, 0.60197645, \n",
    "                 0.7166778, 0.800295, 0.86202985, 0.9060877, 0.93728656, \n",
    "                 0.9581264, 0.97260445, 0.98202896, 0.9883165, 0.99219877, \n",
    "                 0.99462974, 0.99619985]\n",
    "fpha_hpo_mod1 = np.asarray(fpha_hpo_mod1)\n",
    "auc = calc_auc(fpha_hpo_mod1, thresholds)\n",
    "label = 'fpha_hpo_mod1 (AUC=%.4f)' %auc\n",
    "style = {'linestyle': '--', \n",
    "         'color': 'r', \n",
    "         'marker': '.', \n",
    "         'linewidth': 1.0, \n",
    "         'label': label}\n",
    "curve_list.append((auc, fpha_hpo_mod1, style))"
   ]
  },
  {
   "cell_type": "code",
   "execution_count": null,
   "metadata": {},
   "outputs": [],
   "source": [
    "fpha_hpo_mod1_from_noconf = [0.0, 0.07847615, 0.2688561, 0.45281893, 0.59839904, \n",
    "                             0.71060026, 0.79546857, 0.85845786, 0.90395737, 0.93494314, \n",
    "                             0.95611066, 0.9706763, 0.98030746, 0.9864856, 0.99070203, \n",
    "                             0.99344563, 0.99531853]\n",
    "fpha_hpo_mod1_from_noconf = np.asarray(fpha_hpo_mod1_from_noconf)\n",
    "auc = calc_auc(fpha_hpo_mod1_from_noconf, thresholds)\n",
    "label = 'fpha_hpo_mod1_from_noconf (AUC=%.4f)' %auc\n",
    "style = {'linestyle': '-.', \n",
    "         'color': 'r', \n",
    "         'marker': '.', \n",
    "         'linewidth': 1.0, \n",
    "         'label': label}\n",
    "curve_list.append((auc, fpha_hpo_mod1_from_noconf, style))\n"
   ]
  },
  {
   "cell_type": "code",
   "execution_count": null,
   "metadata": {},
   "outputs": [],
   "source": [
    "fpha_hpo_mod1_from_yolov2fpha = [0.0, 0.08190316, 0.28346816, 0.47429144, 0.62468386, \n",
    "                                 0.73710144, 0.81923056, 0.8767295, 0.91643685, 0.94297254, \n",
    "                                 0.9609079, 0.9732392, 0.9819653, 0.9879596, 0.9919477, \n",
    "                                 0.9945052, 0.9962528]\n",
    "fpha_hpo_mod1_from_yolov2fpha = np.asarray(fpha_hpo_mod1_from_yolov2fpha)\n",
    "auc = calc_auc(fpha_hpo_mod1_from_yolov2fpha, thresholds)\n",
    "label = 'fpha_hpo_mod1_from_yolov2fpha (AUC=%.4f)' %auc\n",
    "style = {'linestyle': '-.', \n",
    "         'color': 'r', \n",
    "         'marker': '*', \n",
    "         'linewidth': 1.0, \n",
    "         'label': label}\n",
    "curve_list.append((auc, fpha_hpo_mod1_from_yolov2fpha, style))"
   ]
  },
  {
   "cell_type": "code",
   "execution_count": null,
   "metadata": {},
   "outputs": [],
   "source": [
    "yolov2_fpha_hpo_bbox_base = [0.0, 0.07712871, 0.27143094, 0.4561897,\n",
    "                            0.6013827, 0.71236837, 0.79646784, \n",
    "                            0.85925376, 0.9037887, 0.93487483, \n",
    "                            0.9560329, 0.9701659, 0.9798456, \n",
    "                            0.9864089, 0.99072367, 0.9935331, 0.9953542]\n",
    "yolov2_fpha_hpo_bbox_base = np.asarray(yolov2_fpha_hpo_bbox_base)\n",
    "auc = calc_auc(yolov2_fpha_hpo_bbox_base, thresholds)\n",
    "label = 'yolov2_fpha_hpo_bbox_base (AUC=%.4f)' %auc\n",
    "style = {'linestyle': '-', \n",
    "         'color': 'g', \n",
    "         'marker': '.', \n",
    "         'linewidth': 1.0, \n",
    "         'label': label}\n",
    "curve_list.append((auc, yolov2_fpha_hpo_bbox_base, style))"
   ]
  },
  {
   "cell_type": "code",
   "execution_count": null,
   "metadata": {},
   "outputs": [],
   "source": [
    "yolov2_fpha_hpo_bbox_mod1 = [0.0, 0.080176145, 0.28452367, 0.48051935, 0.63347477, \n",
    "                         0.74551696, 0.82473385, 0.8793595, 0.9164444, 0.9422166, \n",
    "                         0.96011305, 0.97245306, 0.9813825, 0.9873799, 0.99130106, \n",
    "                         0.99401003, 0.9957544]\n",
    "yolov2_fpha_hpo_bbox_mod1 = np.asarray(yolov2_fpha_hpo_bbox_mod1)\n",
    "auc = calc_auc(yolov2_fpha_hpo_bbox_mod1, thresholds)\n",
    "label = 'yolov2_fpha_hpo_bbox_mod1 (AUC=%.4f)' %auc\n",
    "style = {'linestyle': '--', \n",
    "         'color': 'g', \n",
    "         'marker': '*', \n",
    "         'linewidth': 1.0, \n",
    "         'label': label}\n",
    "curve_list.append((auc, yolov2_fpha_hpo_bbox_mod1, style))"
   ]
  },
  {
   "cell_type": "code",
   "execution_count": null,
   "metadata": {},
   "outputs": [],
   "source": [
    "yolov2_fpha_hpo_bbox_mod1_norot = [0.0, 0.07605378, 0.26985532, 0.45907602, \n",
    "                                   0.61103976, 0.7263348, 0.81133944, 0.870919, \n",
    "                                   0.91194355, 0.9409235, 0.9607403, 0.9738654, \n",
    "                                   0.9825299, 0.98815966, 0.9919012, 0.9943399, 0.99616104]\n",
    "yolov2_fpha_hpo_bbox_mod1_norot = np.asarray(yolov2_fpha_hpo_bbox_mod1_norot)\n",
    "auc = calc_auc(yolov2_fpha_hpo_bbox_mod1_norot, thresholds)\n",
    "label = 'yolov2_fpha_hpo_bbox_mod1_norot (AUC=%.4f)' %auc\n",
    "style = {'linestyle': '--', \n",
    "         'color': 'g', \n",
    "         'marker': 'o', \n",
    "         'linewidth': 1.0, \n",
    "         'label': label}\n",
    "curve_list.append((auc, yolov2_fpha_hpo_bbox_mod1_norot, style))"
   ]
  },
  {
   "cell_type": "code",
   "execution_count": null,
   "metadata": {},
   "outputs": [],
   "source": [
    "yolov2_fpha_hpo_bbox_mod1_noflip = [0.0, 0.08285157, 0.2828756, 0.47336474, \n",
    "                                    0.6220399, 0.7345741, 0.81569874, 0.87418485, \n",
    "                                    0.9145586, 0.9425521, 0.9609977, 0.97326523, \n",
    "                                    0.98195446, 0.98808944, 0.9921953, 0.99463737, \n",
    "                                    0.9961447]\n",
    "yolov2_fpha_hpo_bbox_mod1_noflip = np.asarray(yolov2_fpha_hpo_bbox_mod1_noflip)\n",
    "auc = calc_auc(yolov2_fpha_hpo_bbox_mod1_noflip, thresholds)\n",
    "label = 'yolov2_fpha_hpo_bbox_mod1_noflip (AUC=%.4f)' %auc\n",
    "style = {'linestyle': '--', \n",
    "         'color': 'g', \n",
    "         'marker': '.', \n",
    "         'linewidth': 1.0, \n",
    "         'label': label}\n",
    "curve_list.append((auc, yolov2_fpha_hpo_bbox_mod1_noflip, style))"
   ]
  },
  {
   "cell_type": "code",
   "execution_count": null,
   "metadata": {},
   "outputs": [],
   "source": [
    "yolov2_fpha_reg_base = [0.0, 0.036921684, 0.18239586, 0.3652459, 0.5310171, \n",
    "                        0.66406584, 0.7636199, 0.8358487, 0.88755006, 0.92411923, \n",
    "                        0.94928706, 0.9664782, 0.9778914, 0.9854226, 0.99032557, \n",
    "                        0.99366397, 0.9958993]\n",
    "yolov2_fpha_reg_base = np.asarray(yolov2_fpha_reg_base)\n",
    "auc = calc_auc(yolov2_fpha_reg_base, thresholds)\n",
    "label = 'yolov2_fpha_reg_base (AUC=%.4f)' %auc\n",
    "style = {'linestyle': '-', \n",
    "         'color': 'b', \n",
    "         'marker': '.', \n",
    "         'linewidth': 1.0, \n",
    "         'label': label}\n",
    "curve_list.append((auc, yolov2_fpha_reg_base, style))"
   ]
  },
  {
   "cell_type": "markdown",
   "metadata": {},
   "source": [
    "# Multireso"
   ]
  },
  {
   "cell_type": "code",
   "execution_count": null,
   "metadata": {},
   "outputs": [],
   "source": [
    "multireso_base_from_gt = [0.0, 0.039579805, 0.14950137, 0.26761463, 0.37695333, \n",
    "                 0.47235575, 0.5519134, 0.6193061, 0.6771899, 0.7262635, \n",
    "                 0.76919353, 0.80591077, 0.8370512, 0.863267, 0.88585883, \n",
    "                  0.905773, 0.9227826]\n",
    "multireso_base_from_gt = np.asarray(multireso_base_from_gt)\n",
    "auc = calc_auc(multireso_base_from_gt, thresholds)\n",
    "label = 'multireso_base_from_gt (AUC=%.4f)' %auc\n",
    "style = {'linestyle': '-', \n",
    "         'color': 'm', \n",
    "         'marker': '.', \n",
    "         'linewidth': 1.0, \n",
    "         'label': label}\n",
    "curve_list.append((auc, multireso_base_from_gt, style))"
   ]
  },
  {
   "cell_type": "code",
   "execution_count": null,
   "metadata": {},
   "outputs": [],
   "source": [
    "multireso_base_from_pred = [0.0, 0.019011285, 0.09405395, 0.1949219, \n",
    "                            0.29544595, 0.3861821, 0.46539792, 0.5345458, \n",
    "                            0.59647304, 0.6506455, 0.6983531, 0.7408918, \n",
    "                            0.7782244, 0.8111102, 0.839983, 0.86518097, 0.8873143]\n",
    "multireso_base_from_pred = np.asarray(multireso_base_from_pred)\n",
    "auc = calc_auc(multireso_base_from_pred, thresholds)\n",
    "label = 'multireso_base_from_pred (AUC=%.4f)' %auc\n",
    "style = {'linestyle': '--', \n",
    "         'color': 'm', \n",
    "         'marker': '.', \n",
    "         'linewidth': 1.0, \n",
    "         'label': label}\n",
    "curve_list.append((auc, multireso_base_from_pred, style))"
   ]
  },
  {
   "cell_type": "code",
   "execution_count": null,
   "metadata": {},
   "outputs": [],
   "source": [
    "multireso_base_bn = [0.0, 0.047248118, 0.17414467, 0.30769077, 0.4256884, 0.52602756, \n",
    "                     0.60977775, 0.6796296, 0.73875815, 0.78751373, 0.8272644, 0.8598043, \n",
    "                     0.8867638, 0.909226, 0.927662, 0.9426601, 0.95479363]\n",
    "multireso_base_bn = np.asarray(multireso_base_bn)\n",
    "auc = calc_auc(multireso_base_bn, thresholds)\n",
    "label = 'multireso_base_bn (AUC=%.4f)' %auc\n",
    "style = {'linestyle': '-', \n",
    "         'color': 'm', \n",
    "         'marker': 'o', \n",
    "         'linewidth': 1.0, \n",
    "         'label': label}\n",
    "curve_list.append((auc, multireso_base_bn, style))\n"
   ]
  },
  {
   "cell_type": "code",
   "execution_count": null,
   "metadata": {},
   "outputs": [],
   "source": [
    "multireso_noaug = [0.0, 0.051066596, 0.15848143, 0.2713801, 0.3764829, \n",
    "                   0.46912235, 0.54823655, 0.6157537, 0.6731347, 0.7226548,\n",
    "                   0.7649857, 0.80129415, 0.8327451, 0.85908407, 0.881864, 0.90174687, \n",
    "                   0.9187305]\n",
    "multireso_noaug = np.asarray(multireso_noaug)\n",
    "auc = calc_auc(multireso_noaug, thresholds)\n",
    "label = 'multireso_noaug (AUC=%.4f)' %auc\n",
    "style = {'linestyle': '-.', \n",
    "         'color': 'm', \n",
    "         'marker': '*', \n",
    "         'linewidth': 1.0, \n",
    "         'label': label}\n",
    "curve_list.append((auc, multireso_noaug, style))"
   ]
  },
  {
   "cell_type": "code",
   "execution_count": null,
   "metadata": {},
   "outputs": [],
   "source": [
    "multireso_normuvd_base = [0.0, 0.26112074, 0.5257842, 0.70658064, 0.8181815, 0.8858382, \n",
    "                          0.9269969, 0.9527063, 0.9686303, 0.97952443, 0.9867818, 0.99154556, \n",
    "                          0.99451286, 0.9963589, 0.9976479, 0.99846876, 0.99894977]\n",
    "multireso_normuvd_base = np.asarray(multireso_normuvd_base)\n",
    "auc = calc_auc(multireso_normuvd_base, thresholds)\n",
    "label = 'multireso_normuvd_base (AUC=%.4f)' %auc\n",
    "style = {'linestyle': '-', \n",
    "         'color': 'y', \n",
    "         'marker': '.', \n",
    "         'linewidth': 1.0, \n",
    "         'label': label}\n",
    "curve_list.append((auc, multireso_normuvd_base, style))"
   ]
  },
  {
   "cell_type": "code",
   "execution_count": null,
   "metadata": {},
   "outputs": [],
   "source": [
    "multireso_normuvd_base_bn = [0.0, 0.2740805, 0.54361343, 0.7218696, 0.8306158, \n",
    "                             0.8944635, 0.93264514, 0.9564384, 0.97149837, \n",
    "                             0.9817317, 0.98852503, 0.9927352, 0.99538684, \n",
    "                             0.9970824, 0.99815506, 0.99882543, 0.9992301]\n",
    "multireso_normuvd_base_bn = np.asarray(multireso_normuvd_base_bn)\n",
    "auc = calc_auc(multireso_normuvd_base_bn, thresholds)\n",
    "label = 'multireso_normuvd_base_bn (AUC=%.4f)' %auc\n",
    "style = {'linestyle': '-', \n",
    "         'color': 'y', \n",
    "         'marker': 'o', \n",
    "         'linewidth': 1.0, \n",
    "         'label': label}\n",
    "curve_list.append((auc, multireso_normuvd_base_bn, style))"
   ]
  },
  {
   "cell_type": "code",
   "execution_count": null,
   "metadata": {},
   "outputs": [],
   "source": [
    "matplotlib.rcParams.update({'font.size': 22})\n",
    "fig, ax = plt.subplots(figsize=(18, 18))\n",
    "\n",
    "curve_list = np.asarray(curve_list)\n",
    "ind = np.argsort(curve_list[:,0])\n",
    "curve_list = curve_list[ind[::-1]]\n",
    "\n",
    "for _, curve, style in curve_list:\n",
    "    ax.plot(thresholds,curve,\n",
    "            linestyle = style['linestyle'], \n",
    "            c = style['color'], \n",
    "            marker = style['marker'],\n",
    "            label = style['label'],\n",
    "            linewidth = style['linewidth'])\n",
    "ax.set_xticks(np.arange(0, 90, 10))\n",
    "ax.set_yticks(np.arange(0, 1.1, 0.1))\n",
    "ax.set_title('First Person Hand Action Dataset')\n",
    "plt.grid()\n",
    "leg = plt.legend()\n",
    "ax.set_ylabel('3D PCK (%)')\n",
    "ax.set_xlabel('Error Thresholds (mm)')\n",
    "plt.show()"
   ]
  },
  {
   "cell_type": "code",
   "execution_count": null,
   "metadata": {},
   "outputs": [],
   "source": []
  }
 ],
 "metadata": {
  "kernelspec": {
   "display_name": "Python 3",
   "language": "python",
   "name": "python3"
  },
  "language_info": {
   "codemirror_mode": {
    "name": "ipython",
    "version": 3
   },
   "file_extension": ".py",
   "mimetype": "text/x-python",
   "name": "python",
   "nbconvert_exporter": "python",
   "pygments_lexer": "ipython3",
   "version": "3.6.8"
  }
 },
 "nbformat": 4,
 "nbformat_minor": 2
}
