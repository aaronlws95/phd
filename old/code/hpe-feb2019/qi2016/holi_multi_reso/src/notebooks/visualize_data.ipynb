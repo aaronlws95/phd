{
 "cells": [
  {
   "cell_type": "code",
   "execution_count": null,
   "metadata": {},
   "outputs": [],
   "source": [
    "import sys\n",
    "import os\n",
    "import numpy as np\n",
    "import cv2\n",
    "from matplotlib import pyplot as plt\n",
    "import scipy.ndimage.interpolation  as interplt\n",
    "from PIL import Image\n",
    "import h5py\n",
    "\n",
    "sys.path.append(os.path.dirname(os.path.abspath('')))\n",
    "from utils.directory import DATA_DIR\n",
    "import utils.visualize as visual\n",
    "import utils.convert_xyz_uvd as xyzuvd"
   ]
  },
  {
   "cell_type": "code",
   "execution_count": null,
   "metadata": {},
   "outputs": [],
   "source": [
    "load_file = os.path.join(DATA_DIR, 'train_fpha.h5')\n",
    "\n",
    "f = h5py.File(load_file, 'r')\n",
    "print('keys=', list(f.keys()))\n",
    "img0 = f['img0'][...]\n",
    "img1 = f['img1'][...]\n",
    "img2 = f['img2'][...]\n",
    "uvd_norm_gt = f['uvd_norm_gt'][...]\n",
    "uvd_gt = f['uvd_gt'][...]\n",
    "xyz_gt = f['xyz_gt'][...]\n",
    "hand_center_uvd = f['hand_center_uvd'][...]\n",
    "file_name = f['file_name'][...]\n",
    "f.close()"
   ]
  },
  {
   "cell_type": "code",
   "execution_count": null,
   "metadata": {},
   "outputs": [],
   "source": [
    "idx=8363\n",
    "cur_frame = file_name[idx]\n",
    "visual.show_img_and_skel_depth(cur_frame, uvd_gt[idx])"
   ]
  },
  {
   "cell_type": "code",
   "execution_count": null,
   "metadata": {},
   "outputs": [],
   "source": [
    "fig, ax = plt.subplots(1,3,figsize=(18, 16))\n",
    "ax[0].imshow(img0[idx])\n",
    "ax[0].set_title('img0')\n",
    "ax[1].imshow(img1[idx])\n",
    "ax[1].set_title('img1')\n",
    "ax[2].imshow(img2[idx])\n",
    "ax[2].set_title('img2')"
   ]
  },
  {
   "cell_type": "code",
   "execution_count": null,
   "metadata": {},
   "outputs": [],
   "source": [
    "new_xyz_gt, new_uvd_gt = xyzuvd.normuvd2xyzuvd_depth(uvd_norm_gt, hand_center_uvd)\n",
    "visual.show_img_and_skel_depth(cur_frame, new_uvd_gt[idx])"
   ]
  },
  {
   "cell_type": "code",
   "execution_count": null,
   "metadata": {},
   "outputs": [],
   "source": []
  }
 ],
 "metadata": {
  "kernelspec": {
   "display_name": "Python 3",
   "language": "python",
   "name": "python3"
  },
  "language_info": {
   "codemirror_mode": {
    "name": "ipython",
    "version": 3
   },
   "file_extension": ".py",
   "mimetype": "text/x-python",
   "name": "python",
   "nbconvert_exporter": "python",
   "pygments_lexer": "ipython3",
   "version": "3.6.8"
  }
 },
 "nbformat": 4,
 "nbformat_minor": 2
}
