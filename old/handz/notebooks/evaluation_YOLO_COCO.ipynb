{
 "cells": [
  {
   "cell_type": "code",
   "execution_count": null,
   "metadata": {},
   "outputs": [],
   "source": [
    "import pycocotools.coco as pycoco\n",
    "import pycocotools.cocoeval as pycocoeval \n",
    "import sys\n",
    "import os\n",
    "import numpy as np\n",
    "from pathlib import Path\n",
    "\n",
    "sys.path.append(os.path.dirname(os.path.abspath('')))\n",
    "import utils.YOLO_utils as YOLO\n",
    "import utils.COCO_utils as COCO"
   ]
  },
  {
   "cell_type": "code",
   "execution_count": null,
   "metadata": {},
   "outputs": [],
   "source": [
    "exp = 'base_yolov3_coco'\n",
    "epoch = 50\n",
    "split = 'test'\n",
    "coco_split = 'val2014'\n",
    "imgIds = np.loadtxt(os.path.join(YOLO.DIR, exp, 'imgIds_{}_{}.txt'.format(epoch, split)))\n",
    "results_json = os.path.join(YOLO.DIR, exp, 'results_{}_{}.json'.format(epoch, split))"
   ]
  },
  {
   "cell_type": "code",
   "execution_count": null,
   "metadata": {},
   "outputs": [],
   "source": [
    "# https://github.com/cocodataset/cocoapi/blob/master/PythonAPI/pycocoEvalDemo.ipynb\n",
    "cocoGt = pycoco.COCO(os.path.join(COCO.DIR, 'annotations', 'instances_{}.json'.format(coco_split)))\n",
    "cocoDt = cocoGt.loadRes(results_json)  # initialize COCO pred api\n",
    "\n",
    "cocoEval = pycocoeval.COCOeval(cocoGt, cocoDt, 'bbox')\n",
    "cocoEval.params.imgIds = imgIds  # [:32]  # only evaluate these images\n",
    "cocoEval.evaluate()\n",
    "cocoEval.accumulate()\n",
    "cocoEval.summarize()\n",
    "mean_ap = cocoEval.stats[1]  # update mAP to pycocotools mAP        \n",
    "print('COCO MeanAP:', mean_ap)"
   ]
  },
  {
   "cell_type": "code",
   "execution_count": null,
   "metadata": {},
   "outputs": [],
   "source": []
  }
 ],
 "metadata": {
  "kernelspec": {
   "display_name": "Python 3",
   "language": "python",
   "name": "python3"
  },
  "language_info": {
   "codemirror_mode": {
    "name": "ipython",
    "version": 3
   },
   "file_extension": ".py",
   "mimetype": "text/x-python",
   "name": "python",
   "nbconvert_exporter": "python",
   "pygments_lexer": "ipython3",
   "version": "3.6.8"
  }
 },
 "nbformat": 4,
 "nbformat_minor": 2
}
