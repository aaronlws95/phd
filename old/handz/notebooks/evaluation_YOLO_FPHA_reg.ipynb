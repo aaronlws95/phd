{
 "cells": [
  {
   "cell_type": "code",
   "execution_count": null,
   "metadata": {},
   "outputs": [],
   "source": [
    "import os\n",
    "import sys\n",
    "from PIL import Image\n",
    "import matplotlib.pyplot as plt\n",
    "import numpy as np\n",
    "import torch\n",
    "\n",
    "sys.path.append(os.path.dirname(os.path.abspath('')))\n",
    "import utils.YOLO_utils as YOLO\n",
    "import utils.FPHA_utils as FPHA\n",
    "from utils.lmdb_utils import *\n",
    "from utils.eval_utils import *\n",
    "from utils.image_utils import *\n",
    "from utils.json_utils import parse\n",
    "from models import get_model\n"
   ]
  },
  {
   "cell_type": "code",
   "execution_count": null,
   "metadata": {},
   "outputs": [],
   "source": [
    "epoch = 80\n",
    "exp = 'reg_base'\n",
    "REORDER = FPHA.REORDER_IDX"
   ]
  },
  {
   "cell_type": "markdown",
   "metadata": {},
   "source": [
    "# Train"
   ]
  },
  {
   "cell_type": "code",
   "execution_count": null,
   "metadata": {},
   "outputs": [],
   "source": [
    "data_split = 'train'\n",
    "save_prefix = data_split + '_fpha_root'\n",
    "keys = get_keys(os.path.join(YOLO.FPHA_DIR, save_prefix + \"_keys_cache.p\"))\n",
    "bbox_gt = read_all_lmdb_dataroot(keys, os.path.join(YOLO.FPHA_DIR, save_prefix + \"_bbox.lmdb\"), \"float32\", 4)\n",
    "pred_file = os.path.join(YOLO.FPHA_DIR, exp, 'predict_{}_{}.txt'.format(epoch, data_split))\n",
    "bbox_pred = np.loadtxt(pred_file)\n",
    "bbox_pred = np.asarray([bbox[:5] for bbox in bbox_pred]) # take only the first bbox\n",
    "\n",
    "dataroot = os.path.join(YOLO.FPHA_DIR, save_prefix + '_xyz_gt.lmdb')\n",
    "xyz_gt = read_all_lmdb_dataroot(keys, dataroot, 'float32', (21, 3))\n",
    "uvd_gt = FPHA.xyz2uvd_color(xyz_gt)\n",
    "pred_file = os.path.join(YOLO.FPHA_DIR, exp, 'predict_{}_{}_uvd.txt'.format(epoch, data_split))\n",
    "pred_uvd = np.reshape(np.loadtxt(pred_file), (-1, 21, 3))\n",
    "pred_uvd = scale_points_WH(pred_uvd, (1, 1), (1920, 1080))\n",
    "pred_uvd[..., 2] *= 1000\n",
    "pred_xyz = FPHA.uvd2xyz_color(pred_uvd)"
   ]
  },
  {
   "cell_type": "code",
   "execution_count": null,
   "metadata": {},
   "outputs": [],
   "source": [
    "idx = 42655  \n",
    "img = np.asarray(Image.open(os.path.join(FPHA.DIR, 'Video_files', keys[idx])))\n",
    "# img = resize_img(img, (13, 13))\n",
    "print(keys[idx])\n",
    "fig, ax = plt.subplots()\n",
    "ax.imshow(img)\n",
    "\n",
    "FPHA.draw_bbox(ax, bbox_pred[idx], (img.shape[1], img.shape[0]))\n",
    "FPHA.draw_bbox(ax, bbox_gt[idx], (img.shape[1], img.shape[0]), 'b')\n",
    "\n",
    "fig, ax = plt.subplots(1,2, figsize=(15,15))\n",
    "ax[0].imshow(img)\n",
    "ax[0].set_title('pred')\n",
    "FPHA.visualize_joints_2d(ax[0], pred_uvd[idx][REORDER], joint_idxs=False)\n",
    "ax[1].imshow(img)\n",
    "ax[1].set_title('true')\n",
    "FPHA.visualize_joints_2d(ax[1], uvd_gt[idx][REORDER], joint_idxs=False)"
   ]
  },
  {
   "cell_type": "code",
   "execution_count": null,
   "metadata": {},
   "outputs": [],
   "source": [
    "iou_thresh = 0.5\n",
    "correct = 0\n",
    "avg_iou = 0\n",
    "for i in range(len(bbox_pred)):\n",
    "    iou = YOLO.bbox_iou(bbox_pred[i], bbox_gt[i])\n",
    "    avg_iou += iou\n",
    "    if iou > iou_thresh:\n",
    "        correct += 1\n",
    "        \n",
    "recall = correct/len(bbox_pred)\n",
    "avg_iou = avg_iou/len(bbox_pred)\n",
    "print('Recall:', recall, 'Avg_IOU:', avg_iou)"
   ]
  },
  {
   "cell_type": "code",
   "execution_count": null,
   "metadata": {},
   "outputs": [],
   "source": [
    "print('%s UVD mean_l2_error: ' %data_split, mean_L2_error(uvd_gt, pred_uvd))\n",
    "print('%s XYZ mean_l2_error: ' %data_split, mean_L2_error(xyz_gt, pred_xyz))\n",
    "error = []\n",
    "for i, (pred, uvd) in enumerate(zip(pred_uvd, uvd_gt)):\n",
    "    error.append(mean_L2_error(uvd, pred))\n",
    "error = np.asarray(error)\n",
    "min_error_idx = np.argmin(error)\n",
    "max_error_idx = np.argmax(error)\n",
    "print('Best Pose id:', min_error_idx, 'uvd_error:', error[min_error_idx])\n",
    "print('Worst Pose id:', max_error_idx, 'uvd_error:', error[max_error_idx])"
   ]
  },
  {
   "cell_type": "code",
   "execution_count": null,
   "metadata": {},
   "outputs": [],
   "source": [
    "pck = percentage_frames_within_error_curve(xyz_gt, pred_xyz)\n",
    "print(pck)\n",
    "thresholds = np.arange(0, 85, 5)\n",
    "print('AUC:', calc_auc(pck, thresholds))"
   ]
  },
  {
   "cell_type": "markdown",
   "metadata": {},
   "source": [
    "# Test"
   ]
  },
  {
   "cell_type": "code",
   "execution_count": null,
   "metadata": {},
   "outputs": [],
   "source": [
    "data_split = 'test'\n",
    "save_prefix = data_split + '_fpha_root'\n",
    "keys = get_keys(os.path.join(YOLO.FPHA_DIR, save_prefix + \"_keys_cache.p\"))\n",
    "bbox_gt = read_all_lmdb_dataroot(keys, os.path.join(YOLO.FPHA_DIR, save_prefix + \"_bbox.lmdb\"), \"float32\", 4)\n",
    "pred_file = os.path.join(YOLO.FPHA_DIR, exp, 'predict_{}_{}.txt'.format(epoch, data_split))\n",
    "bbox_pred = np.loadtxt(pred_file)\n",
    "bbox_pred = np.asarray([bbox[:5] for bbox in bbox_pred]) # take only the first bbox\n",
    "\n",
    "dataroot = os.path.join(YOLO.FPHA_DIR, save_prefix + '_xyz_gt.lmdb')\n",
    "xyz_gt = read_all_lmdb_dataroot(keys, dataroot, 'float32', (21, 3))\n",
    "uvd_gt = FPHA.xyz2uvd_color(xyz_gt)\n",
    "pred_file = os.path.join(YOLO.FPHA_DIR, exp, 'predict_{}_{}_uvd.txt'.format(epoch, data_split))\n",
    "pred_uvd = np.reshape(np.loadtxt(pred_file), (-1, 21, 3))\n",
    "pred_uvd = scale_points_WH(pred_uvd, (1, 1), (1920, 1080))\n",
    "pred_uvd[..., 2] *= 1000\n",
    "pred_xyz = FPHA.uvd2xyz_color(pred_uvd)"
   ]
  },
  {
   "cell_type": "code",
   "execution_count": null,
   "metadata": {},
   "outputs": [],
   "source": [
    "idx = 47526  \n",
    "img = np.asarray(Image.open(os.path.join(FPHA.DIR, 'Video_files', keys[idx])))\n",
    "# img = resize_img(img, (13, 13))\n",
    "print(keys[idx])\n",
    "fig, ax = plt.subplots()\n",
    "ax.imshow(img)\n",
    "\n",
    "FPHA.draw_bbox(ax, bbox_pred[idx], (img.shape[1], img.shape[0]))\n",
    "FPHA.draw_bbox(ax, bbox_gt[idx], (img.shape[1], img.shape[0]), 'b')\n",
    "\n",
    "fig, ax = plt.subplots(1,2, figsize=(15,15))\n",
    "ax[0].imshow(img)\n",
    "ax[0].set_title('pred')\n",
    "FPHA.visualize_joints_2d(ax[0], pred_uvd[idx][REORDER], joint_idxs=False)\n",
    "ax[1].imshow(img)\n",
    "ax[1].set_title('true')\n",
    "FPHA.visualize_joints_2d(ax[1], uvd_gt[idx][REORDER], joint_idxs=False)"
   ]
  },
  {
   "cell_type": "code",
   "execution_count": null,
   "metadata": {},
   "outputs": [],
   "source": [
    "iou_thresh = 0.5\n",
    "correct = 0\n",
    "avg_iou = 0\n",
    "for i in range(len(bbox_pred)):\n",
    "    iou = YOLO.bbox_iou(bbox_pred[i], bbox_gt[i])\n",
    "    avg_iou += iou\n",
    "    if iou > iou_thresh:\n",
    "        correct += 1\n",
    "        \n",
    "recall = correct/len(bbox_pred)\n",
    "avg_iou = avg_iou/len(bbox_pred)\n",
    "print('Recall:', recall, 'Avg_IOU:', avg_iou)"
   ]
  },
  {
   "cell_type": "code",
   "execution_count": null,
   "metadata": {},
   "outputs": [],
   "source": [
    "print('%s UVD mean_l2_error: ' %data_split, mean_L2_error(uvd_gt, pred_uvd))\n",
    "print('%s XYZ mean_l2_error: ' %data_split, mean_L2_error(xyz_gt, pred_xyz))\n",
    "error = []\n",
    "for i, (pred, uvd) in enumerate(zip(pred_uvd, uvd_gt)):\n",
    "    error.append(mean_L2_error(uvd, pred))\n",
    "error = np.asarray(error)\n",
    "min_error_idx = np.argmin(error)\n",
    "max_error_idx = np.argmax(error)\n",
    "print('Best Pose id:', min_error_idx, 'uvd_error:', error[min_error_idx])\n",
    "print('Worst Pose id:', max_error_idx, 'uvd_error:', error[max_error_idx])"
   ]
  },
  {
   "cell_type": "code",
   "execution_count": null,
   "metadata": {},
   "outputs": [],
   "source": [
    "pck = percentage_frames_within_error_curve(xyz_gt, pred_xyz)\n",
    "print(pck)\n",
    "thresholds = np.arange(0, 85, 5)\n",
    "print('AUC:', calc_auc(pck, thresholds))"
   ]
  },
  {
   "cell_type": "code",
   "execution_count": null,
   "metadata": {},
   "outputs": [],
   "source": []
  }
 ],
 "metadata": {
  "kernelspec": {
   "display_name": "Python 3",
   "language": "python",
   "name": "python3"
  },
  "language_info": {
   "codemirror_mode": {
    "name": "ipython",
    "version": 3
   },
   "file_extension": ".py",
   "mimetype": "text/x-python",
   "name": "python",
   "nbconvert_exporter": "python",
   "pygments_lexer": "ipython3",
   "version": "3.6.8"
  }
 },
 "nbformat": 4,
 "nbformat_minor": 2
}
