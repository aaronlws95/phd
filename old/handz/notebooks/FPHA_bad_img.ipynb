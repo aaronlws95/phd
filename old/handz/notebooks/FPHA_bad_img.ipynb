{
 "cells": [
  {
   "cell_type": "code",
   "execution_count": null,
   "metadata": {},
   "outputs": [],
   "source": [
    "import os\n",
    "import sys\n",
    "from PIL import Image\n",
    "import numpy as np\n",
    "import matplotlib.pyplot as plt\n",
    "\n",
    "sys.path.append(os.path.dirname(os.path.abspath(\"\")))\n",
    "from utils.lmdb_utils import  *\n",
    "import utils.FPHA_utils as FPHA\n",
    "import utils.YOLO_utils as YOLO"
   ]
  },
  {
   "cell_type": "code",
   "execution_count": null,
   "metadata": {},
   "outputs": [],
   "source": [
    "train_file_name, test_file_name, train_xyz_gt, test_xyz_gt \\\n",
    " = FPHA.get_train_test_pairs('color', FPHA.DIR)\n",
    "\n",
    "all_file_name = train_file_name + test_file_name\n",
    "all_xyz_gt = np.concatenate((train_xyz_gt, test_xyz_gt))\n",
    "all_uvd_gt = FPHA.xyz2uvd_color(all_xyz_gt)"
   ]
  },
  {
   "cell_type": "code",
   "execution_count": null,
   "metadata": {},
   "outputs": [],
   "source": [
    "index0 = list(np.unique(np.argwhere(all_uvd_gt[..., 0] > FPHA.ORI_WIDTH*2)[:, 0]))\n",
    "index1 = list(np.unique(np.argwhere(all_uvd_gt[..., 0] < -500)[:, 0]))\n",
    "index2 = list(np.unique(np.argwhere(all_uvd_gt[..., 1] > FPHA.ORI_HEIGHT*2)[:, 0]))\n",
    "index3 = list(np.unique(np.argwhere(all_uvd_gt[..., 1] < -500)[:, 0]))\n",
    "\n",
    "all_index = np.unique(index0 + index1 + index2 + index3)\n",
    "print(len(all_index))"
   ]
  },
  {
   "cell_type": "code",
   "execution_count": null,
   "metadata": {},
   "outputs": [],
   "source": [
    "# Visualize\n",
    "# from IPython.display import clear_output\n",
    "# for idx in range(len(all_index)):\n",
    "#     index = all_index[idx]\n",
    "#     print(idx, index)\n",
    "#     print(all_file_name[index])\n",
    "#     img = Image.open(os.path.join(FPHA.DIR, 'Video_files', all_file_name[index]))\n",
    "#     fig, ax = plt.subplots(figsize=(5,5))\n",
    "#     ax.imshow(img)\n",
    "#     FPHA.visualize_joints_2d(ax, all_uvd_gt[index][FPHA.REORDER_IDX], joint_idxs=False)\n",
    "#     plt.show()\n",
    "#     input(\"Press Enter to continue...\")\n",
    "\n",
    "#     clear_output()"
   ]
  },
  {
   "cell_type": "code",
   "execution_count": null,
   "metadata": {},
   "outputs": [],
   "source": [
    "index = 93973\n",
    "img = Image.open(os.path.join(FPHA.DIR, 'Video_files', all_file_name[index]))\n",
    "fig, ax = plt.subplots(figsize=(15,15))\n",
    "FPHA.visualize_joints_2d(ax, all_uvd_gt[index][FPHA.REORDER_IDX], joint_idxs=False)\n",
    "ax.imshow(img)"
   ]
  },
  {
   "cell_type": "code",
   "execution_count": null,
   "metadata": {},
   "outputs": [],
   "source": [
    "# Save to file\n",
    "def get_idx(key):\n",
    "    return all_file_name.index(key)\n",
    "\n",
    "def get_all_idx(subject_action_seq):\n",
    "    all_idx = []\n",
    "    for i, fn in enumerate(all_file_name):\n",
    "        if subject_action_seq in fn:\n",
    "            all_idx.append(i)\n",
    "    return all_idx\n",
    "\n",
    "custom_add_bad = get_all_idx('Subject_1/unfold_glasses/5') + \\\n",
    "                get_all_idx('Subject_4/read_letter/3') + \\\n",
    "                get_all_idx('Subject_1/unfold_glasses/5')\n",
    "                \n",
    "# custom add\n",
    "for bad_idx in custom_add_bad:\n",
    "    if bad_idx not in all_index:\n",
    "        all_index = np.append(all_index, bad_idx)\n",
    "\n",
    "print(\"WRITING BAD IMGS TO FILE\")\n",
    "with open(os.path.join(FPHA.DIR, 'bad_imgs.txt'), 'w') as f:\n",
    "    for index in tqdm(all_index):\n",
    "        f.write(\"%s\\n\" % all_file_name[index])"
   ]
  },
  {
   "cell_type": "code",
   "execution_count": null,
   "metadata": {},
   "outputs": [],
   "source": []
  }
 ],
 "metadata": {
  "kernelspec": {
   "display_name": "Python 3",
   "language": "python",
   "name": "python3"
  },
  "language_info": {
   "codemirror_mode": {
    "name": "ipython",
    "version": 3
   },
   "file_extension": ".py",
   "mimetype": "text/x-python",
   "name": "python",
   "nbconvert_exporter": "python",
   "pygments_lexer": "ipython3",
   "version": "3.6.8"
  }
 },
 "nbformat": 4,
 "nbformat_minor": 2
}
