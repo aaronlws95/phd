{
 "cells": [
  {
   "cell_type": "code",
   "execution_count": null,
   "metadata": {},
   "outputs": [],
   "source": [
    "import os\n",
    "import sys\n",
    "from PIL import Image\n",
    "import matplotlib.pyplot as plt\n",
    "import numpy as np\n",
    "import torch\n",
    "import torch.nn as nn\n",
    "import cv2\n",
    "from tqdm import tqdm\n",
    "\n",
    "sys.path.append(os.path.dirname(os.path.abspath('')))\n",
    "import utils.VOC_utils as VOC\n",
    "from utils.image_utils import *\n",
    "from utils.json_utils import parse\n",
    "from datasets import get_dataloader, get_dataset"
   ]
  },
  {
   "cell_type": "code",
   "execution_count": null,
   "metadata": {},
   "outputs": [],
   "source": [
    "conf = parse('../debug/train_predict_debug/YOLOV3_VOC_debug.json')\n",
    "train_mode = True\n",
    "conf[\"dataset\"][\"train\"][\"num_workers\"] = 1\n",
    "conf[\"dataset\"][\"train\"][\"batch_size\"] = 1\n",
    "conf[\"dataset\"][\"train\"][\"actual_shuffle\"] = True\n",
    "dataset = get_dataset(conf[\"dataset\"][\"train\"], train_mode, None, False)\n",
    "data_loader = get_dataloader(conf[\"dataset\"][\"train\"], dataset, None, \"cpu\", train_mode)"
   ]
  },
  {
   "cell_type": "code",
   "execution_count": null,
   "metadata": {},
   "outputs": [],
   "source": [
    "idx = 0\n",
    "for i, (img, labels, _, _) in enumerate(data_loader):\n",
    "    if i == idx:\n",
    "        labels = labels.numpy()\n",
    "#         if len(labels.shape) == 3:\n",
    "#             labels = np.squeeze(labels, axis=0)\n",
    "        img = np.squeeze(img.numpy())\n",
    "        img = torchshape2img(img)\n",
    "        img = scale_img_255(img)\n",
    "        break\n",
    "    i += 1"
   ]
  },
  {
   "cell_type": "code",
   "execution_count": null,
   "metadata": {},
   "outputs": [],
   "source": [
    "# labels = VOC.filter_zero_from_labels(labels)\n",
    "fig, ax = plt.subplots(figsize=(5, 5))\n",
    "ax.imshow(img)\n",
    "\n",
    "boxes = labels[:, 2:6]\n",
    "VOC.draw_bbox(ax, boxes, (img.shape[1], img.shape[0]), class_id = labels[:, 1])"
   ]
  },
  {
   "cell_type": "code",
   "execution_count": null,
   "metadata": {},
   "outputs": [],
   "source": []
  }
 ],
 "metadata": {
  "kernelspec": {
   "display_name": "Python 3",
   "language": "python",
   "name": "python3"
  },
  "language_info": {
   "codemirror_mode": {
    "name": "ipython",
    "version": 3
   },
   "file_extension": ".py",
   "mimetype": "text/x-python",
   "name": "python",
   "nbconvert_exporter": "python",
   "pygments_lexer": "ipython3",
   "version": "3.6.8"
  }
 },
 "nbformat": 4,
 "nbformat_minor": 2
}
